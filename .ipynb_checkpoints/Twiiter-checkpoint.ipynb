{
 "cells": [
  {
   "cell_type": "markdown",
   "id": "c62dbdf4",
   "metadata": {},
   "source": [
    "# DATA GATHERING\n",
    "\n",
    "I use Twint  which helped me scape the data from twitter. \n"
   ]
  },
  {
   "cell_type": "code",
   "execution_count": 1,
   "id": "2dc9fc1c",
   "metadata": {},
   "outputs": [],
   "source": [
    "import twint\n",
    "import nest_asyncio\n",
    "nest_asyncio.apply()"
   ]
  },
  {
   "cell_type": "markdown",
   "id": "6f9beb2b",
   "metadata": {},
   "source": [
    "## Scrape the tweets of users\n",
    "If we have a Twitter username of the profile we can directly scrape t#ets of a specific user.\n",
    "First of all, we want to configure Twint. After defining all the parameters we can run and search Twint.\n",
    "Limit : Number of tweets to pull."
   ]
  },
  {
   "cell_type": "code",
   "execution_count": 2,
   "id": "9daa8d7e",
   "metadata": {},
   "outputs": [
    {
     "name": "stdout",
     "output_type": "stream",
     "text": [
      "822446982648201216 2017-01-20 17:13:35 +0300 <POTUS44> I'm still asking you to believe - not in my ability to bring about change, but in yours. I believe in change because I believe in you.\n",
      "822446334787600385 2017-01-20 17:11:01 +0300 <POTUS44> As we look forward, I want our first steps to reflect what matters most to you. Share your thoughts with me at  https://t.co/fGUxlpLVue.\n",
      "822446040729157632 2017-01-20 17:09:51 +0300 <POTUS44> I won't stop; I'll be right there with you as a citizen, inspired by your voices of truth and justice, good humor, and love.\n",
      "822445882247413761 2017-01-20 17:09:13 +0300 <POTUS44> It's been the honor of my life to serve you. You made me a better leader and a better man.\n",
      "822181779217981441 2017-01-19 23:39:46 +0300 <POTUS44> Proud to make this one of my final actions as President. America is a nation of second chances, and 1,715 people deserved that shot.  https://t.co/4hPxG7hqHL\n",
      "821371347012087808 2017-01-17 17:59:24 +0300 <POTUS44> To the girl from the South Side who took on a role she didn't ask for and made it her own: Happy Birthday, Michelle. I love you.  https://t.co/lvjfx418hn\n",
      "821147626422800386 2017-01-17 03:10:24 +0300 <POTUS44> From one 44 to another, thanks for finally giving @FLOTUS and generations of hopeful fans a @Cubs championship.  https://t.co/RnLyTYF2ub\n",
      "821082223910780928 2017-01-16 22:50:31 +0300 <POTUS44> In honor of their legacy, @FLOTUS and I are joining Americans across the country in a day of service to our community here in D.C. #MLKDay\n",
      "821081947728412672 2017-01-16 22:49:25 +0300 <POTUS44> Dr. King and those who marched with him proved that people who love their country can change it. As Americans, we all owe them a great deal.\n",
      "819694728665006080 2017-01-13 02:57:07 +0300 <POTUS44> That is out of this world. Thanks, @NASA.  https://t.co/R8CSjAwt2E\n",
      "819044196371800065 2017-01-11 07:52:08 +0300 <POTUS44> Thank you for everything. My last ask is the same as my first. I'm asking you to believe—not in my ability to create change, but in yours.\n",
      "815603723707658241 2017-01-01 20:00:55 +0300 <POTUS44> It’s been the privilege of my life to serve as your President. I look forward to standing with you as a citizen. Happy New Year everybody.\n",
      "815603416089194496 2017-01-01 19:59:42 +0300 <POTUS44> From realizing marriage equality to removing barriers to opportunity, we've made history in our work to reaffirm that all are created equal.\n",
      "815601969154899969 2017-01-01 19:53:57 +0300 <POTUS44> We brought home more of our troops &amp; strengthened U.S. leadership—leading with diplomacy &amp; partnering with nations to meet global problems.\n",
      "815601640124387328 2017-01-01 19:52:38 +0300 <POTUS44> We traded foreign oil for clean energy, we doubled fuel efficiency standards, &amp; we acted on a global scale to save the one planet we've got.  https://t.co/7alrOtHNIr\n",
      "815601279716225024 2017-01-01 19:51:12 +0300 <POTUS44> After decades of rising health care costs, today nearly every American now has access to the financial security of affordable health care.  https://t.co/5e4nEcCxIM\n",
      "815600798558208001 2017-01-01 19:49:18 +0300 <POTUS44> Facing the worst financial crisis in 80 years, you delivered the longest streak of job growth in our history.  https://t.co/Vk3PfRgZqF\n",
      "815600521688055808 2017-01-01 19:48:12 +0300 <POTUS44> As we look ahead to the future, I wanted to take a moment to look back on the remarkable progress that you made possible these past 8 years.\n",
      "813059340013895680 2016-12-25 19:30:27 +0300 <POTUS44> The best part of the holidays is the time we share with those we love. On behalf of Michelle, Malia, and Sasha, Merry Christmas everyone.  https://t.co/EznGyxluS8\n",
      "811329368408621056 2016-12-21 00:56:09 +0300 <POTUS44> A ban on drilling in Arctic waters helps protect the planet we share. Proud to take this step with @JustinTrudeau &amp; the Arctic communities.  https://t.co/4Ry1goEakF\n",
      "[!] No more data! Scraping will stop now.\n",
      "found 0 deleted tweets in this search.\n"
     ]
    }
   ],
   "source": [
    "c = twint.Config()\n",
    "\n",
    "c.Username = \"POTUS44\"\n",
    "c.Custom[\"tweet\"] = [\"id\"]\n",
    "c.Custom[\"user\"] = [\"bio\"]\n",
    "c.Limit = 300\n",
    "c.Store_csv = True\n",
    "c.Output = \"none\"\n",
    "\n",
    "twint.run.Search(c)\n"
   ]
  },
  {
   "cell_type": "code",
   "execution_count": 44,
   "id": "2147f7b6",
   "metadata": {},
   "outputs": [
    {
     "name": "stdout",
     "output_type": "stream",
     "text": [
      "1465143900574785540 2021-11-29 05:21:41 +0300 <elonmusk> @SawyerMerritt This is true. Also, Tesla employees get health insurance, stock &amp; other benefits.\n",
      "1465043882618540045 2021-11-28 22:44:15 +0300 <elonmusk> @dciuzio @JonErlichman @SpacGuru 🤣\n",
      "1464706955130269702 2021-11-28 00:25:25 +0300 <elonmusk> @lexfridman Nice\n",
      "1464507751262875651 2021-11-27 11:13:51 +0300 <elonmusk> @WholeMarsBlog The most ironic outcome is the most likely\n",
      "1464507322114342912 2021-11-27 11:12:09 +0300 <elonmusk> @EvaFoxU @teslaownersSV Yeah\n",
      "1464506658520899592 2021-11-27 11:09:31 +0300 <elonmusk> @teslaownersSV Hypothetically, if they did make lots of electric cars, then they would be the leader\n",
      "1464423352295165954 2021-11-27 05:38:29 +0300 <elonmusk> @mdad8200 @existentialcoms Exactly\n",
      "1464419275398123526 2021-11-27 05:22:17 +0300 <elonmusk> @mishaboar Good thread\n",
      "1464398343103258628 2021-11-27 03:59:06 +0300 <elonmusk> @WholeMarsBlog Figuratively &amp; literally\n",
      "1464395375469600777 2021-11-27 03:47:19 +0300 <elonmusk> @todd_gleason @kimpaquette Yup\n",
      "1464394944395857920 2021-11-27 03:45:36 +0300 <elonmusk> @ajtourville We learned our lesson with $465M DoE loan received in 2010/2011 – onerous terms exceed value of money received. That’s why we paid it back so early, despite an early repayment penalty.\n",
      "1464393595146878976 2021-11-27 03:40:14 +0300 <elonmusk> @kimpaquette Must be nice living in Cloud Cuckoo Land\n",
      "1464315008322576385 2021-11-26 22:27:58 +0300 <elonmusk> @timetravelart Maybe drive an upright Falcon 9 past the White House flying a giant Stars &amp; Stripes with a marching band playing “I can see clearly now”?\n",
      "1464313451526959110 2021-11-26 22:21:47 +0300 <elonmusk> @PPathole @SpaceX That’s our initial interstage design that we scrapped\n",
      "1464221594881081350 2021-11-26 16:16:46 +0300 <elonmusk> @existentialcoms Combined Tesla+SpaceX market cap is now over $1.2T, which means “$4.9B” is less than 0.4% of combined company value\n",
      "1464215665380892678 2021-11-26 15:53:13 +0300 <elonmusk> @marenkahnert @Kristennetten @RationalEtienne @FalkenSchwer @NuovaRealta @PPathole @WholeMarsBlog @EvaFoxU @Tesla It has always been Tesla’s view that all subsidies should be eliminated, but that must include the massive subsidies for oil &amp; gas.   For some reason, governments don’t want to do that …\n",
      "1464016169040584707 2021-11-26 02:40:29 +0300 <elonmusk> @ID_AA_Carmack Great speech, couldn’t agree more!\n",
      "1464012616792219648 2021-11-26 02:26:22 +0300 <elonmusk> @teslaownersSV Great, hope yours is too!\n",
      "1464012344120512517 2021-11-26 02:25:17 +0300 <elonmusk> @teslaownersSV Haha true\n",
      "1464000520616558592 2021-11-26 01:38:18 +0300 <elonmusk> @GailAlfarATX @SpaceX @RGVaerialphotos @cnunezimages @kanyewest @SciGuySpace @Erdayastronaut @dogecoin @BillyM2k @austinbarnard45 @NASA Absolutely!\n",
      "1463959830142586890 2021-11-25 22:56:37 +0300 <elonmusk> Happy Thanksgiving to all! Hope you have a great day.   Your support over the years is super appreciated 😀\n",
      "1463959410624151558 2021-11-25 22:54:57 +0300 <elonmusk> @Teslarati @ResidentSponge Seriously!!??\n",
      "1463828765151272962 2021-11-25 14:15:48 +0300 <elonmusk> Avenge the dinosaurs!!\n",
      "1463798473376079874 2021-11-25 12:15:26 +0300 <elonmusk> @rice_fry Why watch it happen instead of helping making it happen?\n",
      "1463798210766557188 2021-11-25 12:14:24 +0300 <elonmusk> @BLKMDL3 @Tesla Sorry it took so long\n",
      "1463736587813064704 2021-11-25 08:09:32 +0300 <elonmusk> @TeslaNY Jay rocks!\n",
      "1463712196152729604 2021-11-25 06:32:36 +0300 <elonmusk> @jchybow @28delayslater 🤣\n",
      "1463703673045925890 2021-11-25 05:58:44 +0300 <elonmusk> @teslainventory Yes\n",
      "1463685709512982528 2021-11-25 04:47:21 +0300 <elonmusk> @BillyM2k @lexfridman Same\n",
      "1463682669372481543 2021-11-25 04:35:16 +0300 <elonmusk> @BillyM2k @WSBChairman @joannabanananaa @dogeofficialceo @GailAlfarATX @Kristennetten @greg16676935420 @StonksReddit @mishaboar @DogecoinNorway @suchHODL 🔥🔥\n",
      "1463619414411067392 2021-11-25 00:23:55 +0300 <elonmusk> @SawyerMerritt Such miracles are beyond us\n",
      "1463562289643151360 2021-11-24 20:36:56 +0300 <elonmusk> @PPathole @Teslarati @13ericralph31 If we are able to make life self-sustaining on Mars, we will have passed one of the greatest filters. That then sets us up to become interstellar.  Earth is ~4.5B years old, but life is still not multiplanetary and it is extremely uncertain how much time is left to become so.\n",
      "1463560260397027333 2021-11-24 20:28:52 +0300 <elonmusk> @gurgavin  https://t.co/MRxBaMhspM\n",
      "1463549535804968962 2021-11-24 19:46:15 +0300 <elonmusk> @engineers_feed 🤣\n",
      "1463548549271015434 2021-11-24 19:42:20 +0300 <elonmusk> @Teslarati @13ericralph31 Earth has been and will be smashed super hard by meteors over time. Not a question of if, just when.\n",
      "1463547958343913476 2021-11-24 19:39:59 +0300 <elonmusk> @Teslarati @13ericralph31 In 1992, comet Shoemaker-Levy smashed a hole in Jupiter the size of Earth  https://t.co/nruaHoSIAQ\n",
      "1463547108510867466 2021-11-24 19:36:36 +0300 <elonmusk> @Teslarati @13ericralph31 This will be really important one day.   Much is made of meteor impacts that destroyed most life on Earth, but there were far more that “merely” destroyed a continent.   Comets (not asteroids) are the real wild card, as we’re only able to track ~4600 out of  ~1 trillion.\n",
      "1463389553155260423 2021-11-24 09:10:32 +0300 <elonmusk> About to launch asteroid defense test!\n",
      "1463384032192999431 2021-11-24 08:48:36 +0300 <elonmusk> @Manic_Marge That is the great question\n",
      "1463369075745341443 2021-11-24 07:49:10 +0300 <elonmusk> @westcoastbill Exactly\n",
      "1463291252527489029 2021-11-24 02:39:55 +0300 <elonmusk> @thesheetztweetz 💯\n",
      "1463220220504518665 2021-11-23 21:57:40 +0300 <elonmusk> @WholeMarsBlog Exactly (sigh)\n",
      "1463200622673551366 2021-11-23 20:39:48 +0300 <elonmusk> @cz_binance @CoinDesk @binance @egreechee Sounds good\n",
      "1463199222895988742 2021-11-23 20:34:14 +0300 <elonmusk> @flcnhvy @WholeMarsBlog It can simulate anywhere, but we need to focus on one region until FSD is out of beta, then expand geographically to have betas in other countries. Canada is not a lot different from US, but different enough.\n",
      "1463195773810708485 2021-11-23 20:20:31 +0300 <elonmusk> @WholeMarsBlog High-performance code is in C using our own compiler to maximize frame rate. We use Python with custom libraries for fast prototyping, then convert to C for fast execution.  New software is run against real-world video &amp; our world simulator to evaluate performance, then QA.\n",
      "1463193267336581122 2021-11-23 20:10:34 +0300 <elonmusk> @cz_binance @CoinDesk @binance @egreechee I don’t use Binance (tried at one point, but signup was too many hoops to jump through), so no inconvenience to me personally. Just raising this issue on behalf of other Doge holders.\n",
      "1463191902140915720 2021-11-23 20:05:08 +0300 <elonmusk> @WholeMarsBlog Our NNs didn’t have any temporal &amp; spatial memory or surround video auto-labeling back then – everything was knitted together in C++ from single frames with manual labeling.  Still much to improve.\n",
      "1463098791414882304 2021-11-23 13:55:09 +0300 <elonmusk> @binance @CoinDesk @egreechee @cz_binance 👇\n",
      "1463096278171148290 2021-11-23 13:45:10 +0300 <elonmusk> @binance @CoinDesk @egreechee @cz_binance Doge holders using Binance should be protected from errors that are not their fault\n",
      "1463090628896694279 2021-11-23 13:22:43 +0300 <elonmusk> @mishaboar Wisdom\n",
      "1463085111600205825 2021-11-23 13:00:48 +0300 <elonmusk> @CoinDesk @binance @egreechee Hey @cz_binance, what’s going on with your Doge customers? Sounds shady.\n",
      "1463084004794638339 2021-11-23 12:56:24 +0300 <elonmusk> @WholeMarsBlog I was able to do several zero takeover drives around Austin last night using random map pin drops (no Tesla has ever done these routes)\n",
      "1463082255757287426 2021-11-23 12:49:27 +0300 <elonmusk> @SirineAti @engineers_feed Yes\n",
      "1463080916432134145 2021-11-23 12:44:07 +0300 <elonmusk> @engineers_feed Hell of a rocket! Probably would have succeeded if Korolev had not died. Hopefully, Starship is more fortunate.\n",
      "1463077842992959492 2021-11-23 12:31:55 +0300 <elonmusk> @TrungTPhan 🔥🤣\n",
      "1463076736363634689 2021-11-23 12:27:31 +0300 <elonmusk> @scottwww @VP @JoeBiden @POTUS @KamalaHarris @PeteButtigieg And all Model S &amp; X production for the world is still done in America, but who’s counting\n",
      "1463071989707456513 2021-11-23 12:08:39 +0300 <elonmusk> @Gfilche Giga Texas is epic\n",
      "1463048892082180096 2021-11-23 10:36:52 +0300 <elonmusk> @PPathole Ancient times …\n",
      "1462905842391568388 2021-11-23 01:08:26 +0300 <elonmusk> @WholeMarsBlog True\n",
      "1462898800603893766 2021-11-23 00:40:28 +0300 <elonmusk> @AshleyDCan And I will talk to their manager!\n"
     ]
    },
    {
     "name": "stdout",
     "output_type": "stream",
     "text": [
      "1462890831392690178 2021-11-23 00:08:48 +0300 <elonmusk> @Rainmaker1973 The sheer physicality of changes in the brain during sleep or with serious neurodegenerative diseases is much higher than people realize\n",
      "1462885540165005314 2021-11-22 23:47:46 +0300 <elonmusk> @billhuang688 @teslaownersSV @boringcompany We do need to have the Fallout-themed party! Aiming to do that once international travel restrictions are lifted.\n",
      "1462885006465028108 2021-11-22 23:45:39 +0300 <elonmusk> @mickakers @teslaownersSV @boringcompany Meant to say county (sigh). Airport will be part of it, but required additional federal approvals.\n",
      "1462884250320048133 2021-11-22 23:42:39 +0300 <elonmusk> @cleantechnica Transforming America!\n",
      "1462877141981405188 2021-11-22 23:14:24 +0300 <elonmusk> @teslaownersSV @boringcompany It’s either traffic forever or tunnels. Try our first operational tunnel in Vegas at the convention center! The city just approved a full tunnel network, connecting major hotels, convention center &amp; airport.\n",
      "1462853402375954434 2021-11-22 21:40:04 +0300 <elonmusk> @Rainmaker1973 Interesting eyes too\n",
      "1462848820275032086 2021-11-22 21:21:51 +0300 <elonmusk> @ErcXspace @NASASpaceflight @SpaceX Long-term, ship would land on tower arms, like booster\n",
      "1462848657766731783 2021-11-22 21:21:13 +0300 <elonmusk> @ErcXspace @NASASpaceflight @SpaceX Unlikely for early ships to splashdown intact. Getting to orbit at all on first try would be a major win.\n",
      "1462843164591628294 2021-11-22 20:59:23 +0300 <elonmusk> @BillyM2k @WholeMarsBlog 🤣\n",
      "1462839824105234432 2021-11-22 20:46:06 +0300 <elonmusk> @WholeMarsBlog Serious allegations deserve serious responses 🧐\n",
      "1462679109952282627 2021-11-22 10:07:29 +0300 <elonmusk> @JayinShanghai Probably around March\n",
      "1462659198609674243 2021-11-22 08:48:22 +0300 <elonmusk> @lexfridman 🤣\n",
      "1462653836800180231 2021-11-22 08:27:04 +0300 <elonmusk> It gives me solace\n",
      "1462652210739884035 2021-11-22 08:20:36 +0300 <elonmusk> At least 50% of my tweets were made on a porcelain throne\n",
      "1462650961105670148 2021-11-22 08:15:38 +0300 <elonmusk> Model S Plaid is sickkkk!!!!\n",
      "1462650378294599683 2021-11-22 08:13:19 +0300 <elonmusk> @BillyM2k @DavidSacks 🤣\n",
      "1462642282746765321 2021-11-22 07:41:09 +0300 <elonmusk> I aspire to comedy\n",
      "1462639558059769866 2021-11-22 07:30:19 +0300 <elonmusk> @DavidSacks Let’s see if we can get them to say the word “Tesla”!\n",
      "1462639200201752577 2021-11-22 07:28:54 +0300 <elonmusk> @PPathole @theroland King of the who!?  https://t.co/UJq94IWT88\n",
      "1462637670530797576 2021-11-22 07:22:49 +0300 <elonmusk> @DavidSacks Maybe they are NPCs and Tesla just isn’t in their dialogue tree?\n",
      "1462635761052925957 2021-11-22 07:15:14 +0300 <elonmusk> @theroland Or perhaps some cheese 🧀  https://t.co/ybRiBp1kkP\n",
      "1462633625866977285 2021-11-22 07:06:45 +0300 <elonmusk> @theroland It’s like if you want to buy a parrot 🦜  https://t.co/ocOdzsgnWn\n",
      "1462602564457873410 2021-11-22 05:03:19 +0300 <elonmusk> @laurenboebert @Apple The IRS already has dedicated audit teams for high net worth individuals.   The doubling of staff is for everyone else.\n",
      "1462546740331040781 2021-11-22 01:21:30 +0300 <elonmusk> @teslaownersSV @jasontallman @YouTube I bounce around WSJ, NYT, BBC, Bloomberg, WaPo &amp; twitter generally.   Better to follow individual journalists than publications, as there is a wide range of quality.\n",
      "1462544927716303047 2021-11-22 01:14:18 +0300 <elonmusk> @jasontallman @YouTube I like the new direction CNN is going tho  https://t.co/IxbsXn2Car\n",
      "1462509007340515329 2021-11-21 22:51:34 +0300 <elonmusk> @jasontallman @YouTube Interesting\n",
      "1462276620337782786 2021-11-21 07:28:08 +0300 <elonmusk> @archillect  https://t.co/76OoxAZgaY\n",
      "1462227845288284160 2021-11-21 04:14:19 +0300 <elonmusk> @StarshipFairing We are on the wrong planet for SSTO. On Mars, it is thankfully easy.\n",
      "1462227200820797443 2021-11-21 04:11:46 +0300 <elonmusk> @StarshipFairing @Phrankensteyn @SpaceX @smvllstvrs @Erdayastronaut @austinbarnard45 @NASASpaceflight @spacex360 @ErcXspace If Earth’s gravity was even 10% lower, I’d be all for single stage to orbit\n",
      "1462226534224248833 2021-11-21 04:09:07 +0300 <elonmusk> @manishm Yup\n",
      "1462204414270197763 2021-11-21 02:41:13 +0300 <elonmusk> @teslaownersSV Unfortunately, there is just no way to make a motorcycle safe. Motorcyclist deaths per mile are ~29 times higher than car occupants.  https://t.co/zu5HAzNFhe\n",
      "1462199399640010753 2021-11-21 02:21:17 +0300 <elonmusk> @teslaownersSV Much has changed\n",
      "1462198391631458315 2021-11-21 02:17:17 +0300 <elonmusk> @Astra Congrats! Orbit is not easy.\n",
      "1462197480863449101 2021-11-21 02:13:40 +0300 <elonmusk> @bradsferguson …\n",
      "1461942451053252612 2021-11-20 09:20:16 +0300 <elonmusk> @WSBChairman Bitcoin cures cancer\n",
      "1461890824057282568 2021-11-20 05:55:07 +0300 <elonmusk> @Teslarati @SpaceX @RDAnglePhoto I love these shots\n",
      "1461885253493170179 2021-11-20 05:32:59 +0300 <elonmusk> @teslaownersSV @UniverCurious Electrical &amp; mechanical engineering\n",
      "1461884161233494019 2021-11-20 05:28:39 +0300 <elonmusk> @UniverCurious What my father’s work looked like when I was growing up\n",
      "1461883543081078793 2021-11-20 05:26:11 +0300 <elonmusk> @tesla_addicted One of the improvements to FSD vision involves training with actual photon counts, so removing the filters used to make pictures pretty to the human eye\n",
      "1461879721797603331 2021-11-20 05:11:00 +0300 <elonmusk> @hohocho @Tesla Should be coming back online now. Looks like we may have accidentally increased verbosity of network traffic.  Apologies, we will take measures to ensure this doesn’t happen again.\n",
      "1461813021127421956 2021-11-20 00:45:58 +0300 <elonmusk> @archillect  https://t.co/jwK7GKAvoQ\n",
      "1461809183205036035 2021-11-20 00:30:43 +0300 <elonmusk> A simpler time, it was  https://t.co/RIkkgfKAk1\n",
      "1461807570138640387 2021-11-20 00:24:18 +0300 <elonmusk> @hohocho @Tesla Checking …\n",
      "1461802264058859521 2021-11-20 00:03:13 +0300 <elonmusk>  https://t.co/sRFHbGZ89m\n",
      "1461799151965032454 2021-11-19 23:50:51 +0300 <elonmusk> @EMTSLA @Rainmaker1973 Hopefully tomorrow\n",
      "1461798335027757058 2021-11-19 23:47:36 +0300 <elonmusk> @Rainmaker1973 Fractured but whole\n",
      "1461784920473358338 2021-11-19 22:54:18 +0300 <elonmusk> @SpaceXMR .@NASAWatch Keith, is this about right?\n",
      "1461784720652525576 2021-11-19 22:53:30 +0300 <elonmusk> @SpaceXMR Tragically, it is not clear that the defense contractors can get to the moon for any amount of money.   More than $200B has been spent on development of new US crewed space transport systems over past ~40 years, but only Dragon is flying. Development cost to NASA was &lt;$2B.\n",
      "1461774680529031175 2021-11-19 22:13:36 +0300 <elonmusk> @Inelonwetrust__ @ResidentSponge 🤣👍\n",
      "1461756566613508098 2021-11-19 21:01:38 +0300 <elonmusk> @BillyM2k It’s good to be open about ur vulnerabilities\n",
      "1461755448386891781 2021-11-19 20:57:11 +0300 <elonmusk> @StarshipGazer This launch mount is not easy to build\n",
      "1461751830409629701 2021-11-19 20:42:49 +0300 <elonmusk> @Teslarati @ResidentSponge I suspect that article was written before the drive even took place\n",
      "1461751344415617025 2021-11-19 20:40:53 +0300 <elonmusk> Don’t want to brag but … I’m the best at humility\n",
      "1461638454324965379 2021-11-19 13:12:18 +0300 <elonmusk> @PPathole There were no EV incentives (nor did we expect them) &amp; gasoline was super cheap, so tough to make the case for electric cars.   My guess was that we had &lt;10% chance of success &amp; most people thought 0%. The history car startups is just one big graveyard.\n",
      "[!] No more data! Scraping will stop now.\n",
      "found 0 deleted tweets in this search.\n"
     ]
    }
   ],
   "source": [
    "c = twint.Config()\n",
    "\n",
    "c.Username = \"elonmusk\"\n",
    "c.Custom[\"tweet\"] = [\"id\"]\n",
    "c.Custom[\"user\"] = [\"bio\"]\n",
    "c.Limit = 300\n",
    "c.Store_csv = True\n",
    "c.Output = \"none\"\n",
    "\n",
    "twint.run.Search(c)"
   ]
  },
  {
   "cell_type": "code",
   "execution_count": 45,
   "id": "679ba576",
   "metadata": {},
   "outputs": [
    {
     "name": "stdout",
     "output_type": "stream",
     "text": [
      "1465130566467137541 2021-11-29 04:28:42 +0300 <BernieSanders> No, you should not accept an economic system which allows the CEOs of this country to grow their pay by 1,167% while at the same time, worker pay has grown by just 13.7%.  Another world and an economy which works for all of us is possible, but only if we fight for it.\n",
      "1465092101876633607 2021-11-29 01:55:51 +0300 <BernieSanders> Jane and I would like to wish a Happy Hanukkah to all who are celebrating across the world in the week ahead.\n",
      "1465021708927131653 2021-11-28 21:16:08 +0300 <BernieSanders> My message to GOP legislators across this country is this: if you are SOOO scared to campaign on your ideas that you have to resort to rigged electoral maps and draconian voter suppression laws to be able to win, maybe you ought to get out of politics and find a new job.\n",
      "1464686910895439875 2021-11-27 23:05:46 +0300 <BernieSanders> In 1944 FDR stated; \"We have come to a clear realization of the fact that true individual freedom cannot exist without economic security and independence.” He was right. People who are hungry, homeless and without health care are not truly free. The struggle continues.\n",
      "1464631136806739998 2021-11-27 19:24:09 +0300 <BernieSanders> Question: What does it say about a political party that has to repeatedly gerrymander districts to continue to hold power, that has to make it harder for people of color and for poor people to vote?  Answer: It says that they are cowards afraid of democracy.\n",
      "1464350679938609152 2021-11-27 00:49:43 +0300 <BernieSanders> Time is running out for American democracy. If we're going to stop Republican voter suppression, extreme gerrymandering and attacks on election officials ALL Democrats must vote to end the filibuster and pass the Freedom to Vote Act NOW.\n",
      "1464308280126234636 2021-11-26 22:01:14 +0300 <BernieSanders> I believe we have very little time left now to save American democracy from Republican voter suppression and extreme gerrymandering.  Join me, Sen. @AmyKlobuchar, @ariberman, @nseufot, and @NicholsUprising this Wednesday at 8 PM ET to learn about how we can fight back.  https://t.co/vq8dBx2LvU\n",
      "1464299835142590469 2021-11-26 21:27:40 +0300 <BernieSanders> I am proud to stand in solidarity with the workers of @wirecutterunion. To my mind it is not right that Wirecutter workers are paid a median salary some $43,000 less than others in the newsroom. Management must negotiate in good faith to see that workers are compensated fairly.\n",
      "1463938565394554895 2021-11-25 21:32:07 +0300 <BernieSanders> Jane and I want to take this opportunity to wish everyone a very Happy Thanksgiving. In these difficult times let us continue standing together, with hope and love, to create the world of peace and justice that we all deserve. Despair is not an option.\n",
      "1463690210173140993 2021-11-25 05:05:14 +0300 <BernieSanders> Insulin in the United States should not cost 14x what it costs in England. It should not cost 11x what it costs in France. It should not cost 9x what it costs in Germany. It should not cost 7x what it costs in Japan.  Let's take on the greed of the pharmaceutical industry.\n",
      "1463628467312939017 2021-11-25 00:59:54 +0300 <BernieSanders> New moms in Canada are guaranteed 119 days of paid leave to spend with their baby. You know how many days of paid leave a new mom here in the United States is guaranteed? NOT ONE!  Don't you think maybe we should put an end to that international embarrassment?\n",
      "1463575016369491984 2021-11-24 21:27:30 +0300 <BernieSanders> The top 0.01% now owns more wealth in this country than at any time since the Gilded Age. At a time when so few have so much, and so many have so little, yeah, I think maybe we should be asking the wealthiest among us to pay their taxes.\n",
      "1463181457980018695 2021-11-23 19:23:38 +0300 <BernieSanders> Nothing scares corporate America more than a powerful trade union movement. And you know why that is? Because in the union, you've got power. That's what this is all about. Real power rests with workers who are organized. We must rebuild the trade union movement in this country.\n",
      "1462933384540434437 2021-11-23 02:57:53 +0300 <BernieSanders> Why should the American people continue to pay, by far, the highest prices in the world for the same medications, manufactured by the same companies, in the same factories — that are all available in Canada, in Europe, in Australia and in Japan for a fraction of the price?\n",
      "1462901512468848643 2021-11-23 00:51:14 +0300 <BernieSanders> While Republicans, in state after state, undermine American democracy through voter suppression and extreme gerrymandering, there are still some Democrats in the Senate who refuse to waive the filibuster in order to strengthen the voting rights act. Sad and dangerous.\n",
      "1462897677318995976 2021-11-23 00:36:00 +0300 <BernieSanders> Maybe, just maybe, instead of giving bored billionaires money to zoom around outer space, we could finally end the international embarrassment of being the only major country on the planet not to guarantee paid family and medical leave to its people. How about that?\n",
      "1462791729346613261 2021-11-22 17:35:00 +0300 <BernieSanders> You ready for a radical statement? Here we go.  An asthma inhaler that is sold to the Canadian people for just $27 should not cost the American people $242 for the EXACT SAME inhaler.\n",
      "1462768137510830083 2021-11-22 16:01:15 +0300 <BernieSanders> .@WelchForVT understands that now is the time to think big, not small. Peter has the knowledge and experience to fight for a government that works for all, not just the wealthy few. That's why I'm proud to endorse Peter today and look forward to serving with him in the Senate.  https://t.co/TxiT4hzVWL\n",
      "1462460597044404225 2021-11-21 19:39:12 +0300 <BernieSanders> How can it be that in Canada, the same exact medicine, manufactured by the same exact company — not a generic — can cost 1/10 what it costs here in the United States?  The answer is simple. The greed and the power of the pharmaceutical industry.\n",
      "1462261233432743936 2021-11-21 06:27:00 +0300 <BernieSanders> Health care workers across this country put their lives on the line to get us through this pandemic. They deserve dignity on the job and to be paid a decent wage. I'm proud to stand in solidarity with @1199SEIU nursing home workers in New York fighting for a fair contract.  https://t.co/kqdRLqyA0X\n",
      "1462124691343261696 2021-11-20 21:24:26 +0300 <BernieSanders> At a time when you've got billionaires in this country who in a given year pay Z-E-R-O in income taxes, no, I do not think we should be giving the wealthy even more tax breaks.\n",
      "1461845346112450561 2021-11-20 02:54:24 +0300 <BernieSanders> It is beyond absurd that at the same time as our nation continues to spend more on the military than the next 12 nations COMBINED, we are told over and over that we cannot afford to invest in the needs of working class people here at home.  https://t.co/UgswZcZsP6\n",
      "1461745318102540295 2021-11-19 20:16:56 +0300 <BernieSanders> I applaud Democrats in the House of Representatives for uniting to pass the Build Back Better Act. Now the Senate has an opportunity to hear the demands of the American people and strengthen the bill. That’s what we must do.  https://t.co/mcmNyoV6bZ\n",
      "1461530418390388736 2021-11-19 06:03:00 +0300 <BernieSanders> Year after year, the Military Industrial Complex gets whatever it wants and they get it in a bipartisan way.  When it comes to tax breaks for the wealthy on top, no problem.  But when it comes to the needs of working families, we 'can't afford it.' Give me a break.\n",
      "1461470941733695489 2021-11-19 02:06:39 +0300 <BernieSanders> When we want to expand Medicare to cover dental, vision, and hearing? 'Nope. Can't do it, think of the deficit!' Universal pre-K? 'Nope. Deficit.' Paid leave? 'Nope. Deficit.'  $778 billion a year in defense spending? 'SUUURE! No problem!'  Let's get our priorities straight.\n",
      "1461439067120226304 2021-11-19 00:00:00 +0300 <BernieSanders> Congress says in this moment, when it comes to working families' needs and the very habitability of our planet for future generations, we can't afford to act.  But when it comes to finding more money for war, there’s hardly a debate. Our priorities have become horribly distorted.  https://t.co/MY82gXtyaU\n",
      "1461364072264265735 2021-11-18 19:02:00 +0300 <BernieSanders> Why is it considered to be 'no big deal' for some of my colleagues to want to spend some $778 BILLION annually in defense spending, but the second we suggest that MAYBE we should invest in the needs of working class people, well, oh my God, the sky is falling!  Disgraceful.\n",
      "1461153182529294338 2021-11-18 05:04:00 +0300 <BernieSanders> Exactly right.  https://t.co/x7j8LBpIu7\n",
      "1461128519740583937 2021-11-18 03:26:00 +0300 <BernieSanders> Isn't it strange?  https://t.co/X5jXbrxZIS\n",
      "1461086492835651586 2021-11-18 00:39:00 +0300 <BernieSanders> Is anyone in the United States Congress going to tell me with a straight face that 'yeah, we ought to continue being the only major country on the planet not to guarantee its people some form of paid family and medical leave'?\n",
      "1461041583000887303 2021-11-17 21:40:32 +0300 <BernieSanders> Why are my colleagues SOOOO concerned with the deficit when it comes to addressing the needs of working people — but when we're talking about an annual defense budget of $778 BILLION, those concerns just melt away?  Join me on Instagram at 2:45 PM ET to discuss why I'm voting NO.  https://t.co/POqTY9ogxi\n",
      "1461022019647070211 2021-11-17 20:22:48 +0300 <BernieSanders> Are we seeing a real 'labor shortage' in this country? No, I do not think so. What we have is a situation in which workers all across this country are saying, 'you know what? I don't have to work for starvation wages, I am a human being, I deserve to be treated with dignity.'  https://t.co/63OWw2Ons3\n",
      "1460989856658563077 2021-11-17 18:15:00 +0300 <BernieSanders> Nobody — and I mean NOBODY — in this country is calling up Congress begging to continue to pay the highest prices on the planet for their prescription drugs.  What you do have is an overwhelming majority of Americans asking us to finally take on Big Pharma's greed. Let's do it.\n",
      "1460654899377545216 2021-11-16 20:04:00 +0300 <BernieSanders> Tell me. Why should we accept a reality in which the pharmaceutical industry is able to charge the American people $242 for the EXACT SAME asthma inhaler that the Canadian people get for just $27?\n",
      "1460630339584512006 2021-11-16 18:26:24 +0300 <BernieSanders> \"Justice Louis Brandeis said, 'America faces a choice. We can have great wealth in the hands of a few, or we can have a democracy, but we can't have both.' His words are equally applicable to the second Gilded Age we are now living in.\" - @RBReich  https://t.co/Lc8smlltlG\n",
      "1460428978859261956 2021-11-16 05:06:16 +0300 <BernieSanders> The truth of the matter is that there are a hell of a lot more working people than there are billionaires.   The one response you cannot have is to sit back and give up. Let's stand up. Let's fight back. Let's create the kind of world we know we can become.  https://t.co/MDeNqOwAZT\n",
      "1460428044720644096 2021-11-16 05:02:33 +0300 <BernieSanders> \"The typical family today with young children is spending something between 20% and 30% of their income on child care... There is no better antidote to inflation than cutting many of these costs.\" - @RBReich  https://t.co/E66eqaCuYD\n",
      "1460426643416231939 2021-11-16 04:56:59 +0300 <BernieSanders> \"It's naive not to recognize that economic power can translate into political power. We have classes of people with way too much economic power that have been able to hijack our political system in a way that does not allow us to thrive and humans to flourish.\" - @DarrickHamilton  https://t.co/My28pkS8Zw\n",
      "1460423373599567874 2021-11-16 04:44:00 +0300 <BernieSanders> You know, up on Capitol Hill, it is quite a remarkable thing to see such remarkable greed in action.  https://t.co/KEvwbUjzxK\n",
      "1460422235030708227 2021-11-16 04:39:28 +0300 <BernieSanders> \"Over the next 10 years, the military bill is $8 TRILLION. Does anybody out there say, 'oh we can't afford $8 trillion'? Nobody says that.\" - @RBReich  https://t.co/cit1jSgDbj\n"
     ]
    },
    {
     "name": "stdout",
     "output_type": "stream",
     "text": [
      "[!] No more data! Scraping will stop now.\n",
      "found 0 deleted tweets in this search.\n"
     ]
    }
   ],
   "source": [
    "\n",
    "c = twint.Config()\n",
    "\n",
    "c.Username = \"BernieSanders\"\n",
    "c.Custom[\"tweet\"] = [\"id\"]\n",
    "c.Custom[\"user\"] = [\"bio\"]\n",
    "c.Limit = 300\n",
    "c.Store_csv = True\n",
    "c.Output = \"none\"\n",
    "\n",
    "twint.run.Search(c)"
   ]
  },
  {
   "cell_type": "markdown",
   "id": "923265e2",
   "metadata": {},
   "source": [
    " ## Scrape popular tweets of user"
   ]
  },
  {
   "cell_type": "code",
   "execution_count": 46,
   "id": "9961a85a",
   "metadata": {},
   "outputs": [
    {
     "name": "stdout",
     "output_type": "stream",
     "text": [
      "1465143900574785540 2021-11-29 05:21:41 +0300 <elonmusk> @SawyerMerritt This is true. Also, Tesla employees get health insurance, stock &amp; other benefits.\n",
      "1465043882618540045 2021-11-28 22:44:15 +0300 <elonmusk> @dciuzio @JonErlichman @SpacGuru 🤣\n",
      "1464706955130269702 2021-11-28 00:25:25 +0300 <elonmusk> @lexfridman Nice\n",
      "1464507751262875651 2021-11-27 11:13:51 +0300 <elonmusk> @WholeMarsBlog The most ironic outcome is the most likely\n",
      "1464507322114342912 2021-11-27 11:12:09 +0300 <elonmusk> @EvaFoxU @teslaownersSV Yeah\n",
      "1464506658520899592 2021-11-27 11:09:31 +0300 <elonmusk> @teslaownersSV Hypothetically, if they did make lots of electric cars, then they would be the leader\n",
      "1464423352295165954 2021-11-27 05:38:29 +0300 <elonmusk> @mdad8200 @existentialcoms Exactly\n",
      "1464419275398123526 2021-11-27 05:22:17 +0300 <elonmusk> @mishaboar Good thread\n",
      "1464398343103258628 2021-11-27 03:59:06 +0300 <elonmusk> @WholeMarsBlog Figuratively &amp; literally\n",
      "1464395375469600777 2021-11-27 03:47:19 +0300 <elonmusk> @todd_gleason @kimpaquette Yup\n",
      "1464394944395857920 2021-11-27 03:45:36 +0300 <elonmusk> @ajtourville We learned our lesson with $465M DoE loan received in 2010/2011 – onerous terms exceed value of money received. That’s why we paid it back so early, despite an early repayment penalty.\n",
      "1464393595146878976 2021-11-27 03:40:14 +0300 <elonmusk> @kimpaquette Must be nice living in Cloud Cuckoo Land\n",
      "1464315008322576385 2021-11-26 22:27:58 +0300 <elonmusk> @timetravelart Maybe drive an upright Falcon 9 past the White House flying a giant Stars &amp; Stripes with a marching band playing “I can see clearly now”?\n",
      "1464313451526959110 2021-11-26 22:21:47 +0300 <elonmusk> @PPathole @SpaceX That’s our initial interstage design that we scrapped\n",
      "1464221594881081350 2021-11-26 16:16:46 +0300 <elonmusk> @existentialcoms Combined Tesla+SpaceX market cap is now over $1.2T, which means “$4.9B” is less than 0.4% of combined company value\n",
      "1464215665380892678 2021-11-26 15:53:13 +0300 <elonmusk> @marenkahnert @Kristennetten @RationalEtienne @FalkenSchwer @NuovaRealta @PPathole @WholeMarsBlog @EvaFoxU @Tesla It has always been Tesla’s view that all subsidies should be eliminated, but that must include the massive subsidies for oil &amp; gas.   For some reason, governments don’t want to do that …\n",
      "1464016169040584707 2021-11-26 02:40:29 +0300 <elonmusk> @ID_AA_Carmack Great speech, couldn’t agree more!\n",
      "1464012616792219648 2021-11-26 02:26:22 +0300 <elonmusk> @teslaownersSV Great, hope yours is too!\n",
      "1464012344120512517 2021-11-26 02:25:17 +0300 <elonmusk> @teslaownersSV Haha true\n",
      "1464000520616558592 2021-11-26 01:38:18 +0300 <elonmusk> @GailAlfarATX @SpaceX @RGVaerialphotos @cnunezimages @kanyewest @SciGuySpace @Erdayastronaut @dogecoin @BillyM2k @austinbarnard45 @NASA Absolutely!\n"
     ]
    }
   ],
   "source": [
    "# Configure\n",
    "c = twint.Config()\n",
    "c.Username = \"elonmusk\"\n",
    "c.Limit = 1\n",
    "c.Popular_tweets = True\n",
    "\n",
    "# Run\n",
    "twint.run.Search(c)"
   ]
  },
  {
   "cell_type": "markdown",
   "id": "adfce41b",
   "metadata": {},
   "source": [
    "## Filter tweets based on min likes, min retweets, and min replies\n",
    "Min_likes : Filter tweets by minimum number of likes.\n",
    "Min_retweets : Filter tweets by minimum number of retweets.\n",
    "Min_replies : Filter tweets by minimum number of replie"
   ]
  },
  {
   "cell_type": "code",
   "execution_count": 47,
   "id": "a55b668c",
   "metadata": {},
   "outputs": [
    {
     "name": "stdout",
     "output_type": "stream",
     "text": [
      "1463959830142586890 2021-11-25 22:56:37 +0300 <elonmusk> Happy Thanksgiving to all! Hope you have a great day.   Your support over the years is super appreciated 😀\n",
      "1463828765151272962 2021-11-25 14:15:48 +0300 <elonmusk> Avenge the dinosaurs!!\n",
      "1463389553155260423 2021-11-24 09:10:32 +0300 <elonmusk> About to launch asteroid defense test!\n",
      "1463200622673551366 2021-11-23 20:39:48 +0300 <elonmusk> @cz_binance @CoinDesk @binance @egreechee Sounds good\n",
      "1463193267336581122 2021-11-23 20:10:34 +0300 <elonmusk> @cz_binance @CoinDesk @binance @egreechee I don’t use Binance (tried at one point, but signup was too many hoops to jump through), so no inconvenience to me personally. Just raising this issue on behalf of other Doge holders.\n",
      "1463096278171148290 2021-11-23 13:45:10 +0300 <elonmusk> @binance @CoinDesk @egreechee @cz_binance Doge holders using Binance should be protected from errors that are not their fault\n",
      "1463085111600205825 2021-11-23 13:00:48 +0300 <elonmusk> @CoinDesk @binance @egreechee Hey @cz_binance, what’s going on with your Doge customers? Sounds shady.\n",
      "1462884250320048133 2021-11-22 23:42:39 +0300 <elonmusk> @cleantechnica Transforming America!\n",
      "1462877141981405188 2021-11-22 23:14:24 +0300 <elonmusk> @teslaownersSV @boringcompany It’s either traffic forever or tunnels. Try our first operational tunnel in Vegas at the convention center! The city just approved a full tunnel network, connecting major hotels, convention center &amp; airport.\n",
      "1462653836800180231 2021-11-22 08:27:04 +0300 <elonmusk> It gives me solace\n",
      "1462652210739884035 2021-11-22 08:20:36 +0300 <elonmusk> At least 50% of my tweets were made on a porcelain throne\n",
      "1462650961105670148 2021-11-22 08:15:38 +0300 <elonmusk> Model S Plaid is sickkkk!!!!\n",
      "1462642282746765321 2021-11-22 07:41:09 +0300 <elonmusk> I aspire to comedy\n",
      "1462602564457873410 2021-11-22 05:03:19 +0300 <elonmusk> @laurenboebert @Apple The IRS already has dedicated audit teams for high net worth individuals.   The doubling of staff is for everyone else.\n"
     ]
    }
   ],
   "source": [
    "c = twint.Config()\n",
    "c.Username = \"elonmusk\"\n",
    "c.Limit = 1\n",
    "c.Min_likes = 5000\n",
    "c.Min_replies = 1000\n",
    "c.Min_retweets = 100\n",
    "\n",
    "twint.run.Search(c)"
   ]
  },
  {
   "cell_type": "markdown",
   "id": "1bfe7d8f",
   "metadata": {},
   "source": [
    "## Scrape tweets contain specific hashtags"
   ]
  },
  {
   "cell_type": "code",
   "execution_count": 48,
   "id": "5678d03f",
   "metadata": {
    "scrolled": false
   },
   "outputs": [
    {
     "name": "stdout",
     "output_type": "stream",
     "text": [
      "1465170912857100288 2021-11-29 07:09:01 +0300 <Saintsfan5348> @ksorbs You can't sue for libel when it's the truth.  He's a murderer. He got off because the gun lobby writes the laws in Republican controlled states.   I'm looking forward to the acquittal of a #BlackLivesMatter protestor, who murders a MAGA supporter because they felt 'threatened'.  https://t.co/eHJB8CPdaV\n",
      "1465169584932098050 2021-11-29 07:03:45 +0300 <incontrivert> #BlackLivesMatter How true his words were, then &amp; now. Question: Who sold Blacks &amp; Coloureds as slaves from Africa? Answer: BLACK &amp; COLOURED SLAVE TRADERS. Blame your black &amp; coloured ancestors for Slave Profiteering. Correct your falsified, corrupted, Black Lie History!👎🏾👎🏽  https://t.co/EHLjWDMPfM\n",
      "1465169082865442820 2021-11-29 07:01:45 +0300 <dsshake> @Danny8Master  Counter argument: #PoliceBrutality List of law enforcement officers convicted of an on-duty killing in the United States is too damn short e.g. Derek Chauvin, Eric J. DeValkenaere, California v. Beheler, et al.👇  #BlackLivesMatter   https://t.co/CScReX4LxZ  https://t.co/E6Jnow8cDQ\n",
      "1465168950136905732 2021-11-29 07:01:13 +0300 <GoogleMyrna> Five #Georgia Police Officers Have Been Indicted On Murder Charges In the Death Of Fernando Rodriguez - #JusticeForFernandoRodriguez #PoliceReform  #BlackLivesMatter   https://t.co/BuTWL9H7uX\n",
      "1465168645101809670 2021-11-29 07:00:01 +0300 <OldMainBell> ding. Ding ding. ding. ding, Ding &amp; ding? DING Ding ding^ ding. #PennState #BlackLivesMatter #JusticeForAll\n",
      "1465168644003053576 2021-11-29 07:00:00 +0300 <YeMerkato> @AmbShinn Ethiopians said #HandsoffEthiopia #NoMore #WhiteSupremacy #ColininBlackandWhite #BlackLivesMatter #BLM  https://t.co/lMOJDoSm82\n",
      "1465168615968161795 2021-11-29 06:59:54 +0300 <ClareKuehn> #BlackLivesMatter #NickiMinaj #MAGA #2A #Alberta #Ontario #covid19 #corruption Wakey #science #sciencewins #Australia #India #Ghana #Arizona #Israel #murder #children #Notaboutavirus  Until they put their code-reading robots everywhere ... this is an action plan! Please share!!  https://t.co/WyhAyRTWBU\n",
      "1465168175096549378 2021-11-29 06:58:09 +0300 <claytoonz> Drawn in 30 seconds #ahmaudarbery #blacklivesmatter #justice  https://t.co/DJVBTNyEUC\n",
      "1465167724032761858 2021-11-29 06:56:21 +0300 <AthenaSidiropo2> Alabama Governor Kay Ivey: Willie Simmons has served 38 years for a $9 robbery - Sign the Petition!  https://t.co/33aRCNM2rD via @Change #FreeWillieSimmons #BlackLivesMatter   @GovernorKayIvey prove that you actually mean the words “all life is precious”\n",
      "1465167338903257097 2021-11-29 06:54:49 +0300 <ClareKuehn> #BlackLivesMatter #NickiMinaj #MAGA #2A #Alberta #Ontario #Toronto #health #corruption Wakey #science #Australia #India #Ghana #Arizona #Israel #murder #children #mamabear #Notaboutavirus  But the new injections and unproven tests will make it seem different. #SouthAfricaVariant  https://t.co/uNyvnAooJC\n",
      "1465166946014531585 2021-11-29 06:53:16 +0300 <PRodSpeaks> Did I miss something on the Cavona Flenoy case? WHY did the prosecutor think she was there to rob him? Based on what I saw on the @netflix documentary, this girl's case needs a second look. #BlackLivesMatter\n",
      "1465166565985427458 2021-11-29 06:51:45 +0300 <ComplxCassandra> #pandemicpanic #covidlandia #masshypnosis #asleepatthewheel #BigPharmaScam #lifehacksfprwhitepeople #allpeoplecount #alllivesmatter #blacklivesmatter #whitelivesmatter #mylifematters #familyportrait #homefortheholidays #covidruinedchristmas #coronastrikesagain  https://t.co/IiLxc5YurC\n",
      "1465166205430476802 2021-11-29 06:50:19 +0300 <Jetsuwtf> @ohMuerte we ending racism fr #StopAsianHate #BlackLivesMatter\n",
      "1465166133133205509 2021-11-29 06:50:02 +0300 <TigraySuicide> @terror_alarm #NoMore neocolonialist the #French military in #Africa is the terrorist here #BLM #BlackLivesMatter\n",
      "1465165202387705867 2021-11-29 06:46:20 +0300 <dsshake> @Danny8Master   ...as a #Trump #GQPDomesticTerrorists  you are welcome, bring your #Racist prose here for a comeuppance ANYTIME!   Please come back someday, soon. Let's talk 💩about blacks, browns, gays, Asians, slaves #BlackLivesMatter anytime.   Bring your bigotry, too! 😂\n",
      "1465165040990900225 2021-11-29 06:45:41 +0300 <JapmanbirS> !! #FarmersProtest #FarmerProtests #SaveLakshadweep #FarmerLivesMatter #BlackLivesMatter #freepalastine #FreePalestine #freejugrajsingh #freehawara #FreeJaggiNow #bapusuratsinghjikhalsa .ਪ੍ਰਣਾਮ ਸ਼ਹੀਦਾ ਨੂੰ .ਸਰਬੱਤ ਦਾ ਭਲਾ 🙏🏼#KisanMajdoorEktaZindabaad #WhereAreMissingFarmers\n",
      "1465165005943234561 2021-11-29 06:45:33 +0300 <JapmanbirS> #FarmersProtest #FarmerProtests #SaveLakshadweep #FarmerLivesMatter #BlackLivesMatter #freepalastine #FreePalestine #freejugrajsingh #freehawara #FreeJaggiNow #bapusuratsinghjikhalsa .ਪ੍ਰਣਾਮ ਸ਼ਹੀਦਾ ਨੂੰ .ਸਰਬੱਤ ਦਾ ਭਲਾ 🙏🏼#KisanMajdoorEktaZindabaad #WhereAreMissingFarmers\n",
      "1465164573581975558 2021-11-29 06:43:50 +0300 <MellowIsSweet> You put lysol in her coffee, girl this is a recorded Twitter space!?!!  You're not going to jail, you're going to prison!!!! #ConfessSpace #BlackLivesMatter\n",
      "1465164286859390977 2021-11-29 06:42:42 +0300 <1NickyNew> Honestly #AliceSebold was the Og #Karen #anthonybroadwater deserves her $ for the #LUCKY novel. #karensgonewild #TruthMatters #SpreadTheWord #BLM #BlackLivesMatter #Justice\n",
      "1465164122337820676 2021-11-29 06:42:02 +0300 <say_the_names> Anthony Hill #BlackLivesMatter\n",
      "1465162050062192640 2021-11-29 06:33:48 +0300 <OurPlanet2024> Florida clears Groveland Four, who were wrongly accused of a rape in 1949  https://t.co/j56aaIquTD #BlackLivesMatter #BlackHistory\n",
      "1465161747686432770 2021-11-29 06:32:36 +0300 <lliharry> #BlackLivesMatter  https://t.co/UpP8SckcIW\n",
      "1465161731831840769 2021-11-29 06:32:32 +0300 <yadasoaps> Black Lives Won’t Matter until Life matters. #authordorothyhuffman #blacklivesmatter #blackauthorsmatter #blackauthorsofinstagram #writersofinstagram #writerscommunity #blackgirlsdoeverything  https://t.co/f2N00LZNSm\n",
      "1465161636667351043 2021-11-29 06:32:10 +0300 <tbasharks> Wed Aug 26 2020 Seattle, Washington - Police shove member of the press WATCH:  https://t.co/0V4OuUHWMp #SeattleWashington #SPD #blacklivesmatter #blm #defundthepolice #abolishthepolice\n",
      "1465161628639498241 2021-11-29 06:32:08 +0300 <MsTerryBull> #KyleRittenhouse #murder #SelfDefense #SCOTUS #SupremeCourt #maga #gop #ptd_on_stage_la Wizkid #GoPackGo #BLM #MOTD2 Megan #BlackLivesMatter Vinicius #StrayKidsComeback Virgil #博衣こより初配信 #Chemun #新ロマサガRS #SB19OurZoneConDay2  https://t.co/VutSQJmvnN\n",
      "1465161487081783304 2021-11-29 06:31:34 +0300 <SpectreChaos> Jackson Sparks is another addition to the long list of children that \"bullied\" \"oppressed\" RACIST #BlackLivesMatter have decided to kill  Along with Rowan Sweeney, Cash Gannon, Logan Tipton, Cannon Hinnant &amp; almost Landen Hoffman in Minnesota mall  Black children too  #Waukesha\n",
      "1465160302165643267 2021-11-29 06:26:52 +0300 <Afolabi_seun9> Watching #swagger s1ep7 made me  understand why players take a knee b4 a game😔 #BlackLivesMatter @AppleTV\n",
      "1465159878259970054 2021-11-29 06:25:10 +0300 <BLMProtestBot> A people united will never be defeated. #BlackLivesMatter\n",
      "1465159827877937152 2021-11-29 06:24:58 +0300 <SonOfSeanile> BLM is a movement that does not GIVE A FUCK about black, yellow, caucAsian, idgaf what color you name they make these lives not matter. That is it. That’s everything you need to know about the BLM movement. #BlackLivesMatter #YellowLivesMatter #RedLivesMatter #BLUELIVESMATTER\n",
      "1465157803379609605 2021-11-29 06:16:56 +0300 <kon7110_0701> この記事を読むと、「感情」なるものが、男性や白人等多数者によって、女性や非白人等少数者の表現行為を否定するために恣意的に定義づけられ、使用されてきたものであることが改めて分かる。 #反差別 #MeToo #StopFeminicides #女性の声が政治を変える #言葉 #BlackLivesMatter #憲法 #自民党消えろ\n",
      "1465157413296918536 2021-11-29 06:15:23 +0300 <MikeDSully> @CNN Did this car have a name? What was the make, model, race and gender identity of this car? #WaukeshaMassacre #BlackLivesMatter #woke #CNN\n",
      "1465157100942860295 2021-11-29 06:14:08 +0300 <steven_yorkz> Nelson Mandella: No one will be able to stop the determination of the Kurds #DelistPKKnow  @StateDept #BLM  #BlackLivesMatter  https://t.co/o1YBnH1Z1a\n",
      "1465157034530127873 2021-11-29 06:13:52 +0300 <LaurenSemrau> #bcpoli #DefundThePolice #BlackLivesMatter #HumanRightsViolations #canpoli #harmreduction #community   is this not just a straight up invitation to report a loved one to the police for illegal activity? .  https://t.co/aeGc8PiL7a\n",
      "1465156970252546050 2021-11-29 06:13:37 +0300 <MsTerryBull> #StrongerTogether #StrayKidsComeback Virgil #博衣こより初配信 #Chemun #新ロマサガRS #SB19OurZoneConDay2 #AmericaFirst #BLM #government #regulations #SCOTUS #SupremeCourt #2ndAmendment #maga #gop #ptd_on_stage_la Wizkid #GoPackGo #MOTD2 Megan #BlackLivesMatter Vinicius  https://t.co/vMEK6GiMh7\n",
      "1465156923255181316 2021-11-29 06:13:26 +0300 <MendacityAbout> #MSNBC  #MorningJoe  vote for changing the Proud Boys name to Lesbian Avengers! #Maddow   #Seattle #fox13seattle #waleg #vanwa #KGW8News #KATU2News    #ClimateCrisis #BuildBackBetterAct #maddow #Portland #fox12oregon #BlackLivesMatter    #orleg #oregon  https://t.co/Yg1pR5ukyK\n",
      "1465156857882894349 2021-11-29 06:13:10 +0300 <BLMAW> Prince William (who has 3 children) criticised the growing population of Africa saying it was endangering wildlife.  William seems to have no idea how big Africa is or that Europe and Asia's population is growing quicker than Africa's.  #Africa #FactsMatter #BlackLivesMatter  https://t.co/koeoDtaVZm\n",
      "1465156605520060416 2021-11-29 06:12:10 +0300 <say_the_names> Jonathan Hart #BlackLivesMatter\n",
      "1465156219618869248 2021-11-29 06:10:38 +0300 <getahuntes> #BlackLivesMatter #NoMore #Niger\n",
      "1465155671070896137 2021-11-29 06:08:27 +0300 <dsshake>  https://t.co/MJWCTshgzY  #Whitenationalist juror in the #KyleRittenhouse trial was dismissed for tasteless hate joke about #JacobBlake. #racism  #PoliceCulture  #BlackLivesMatter  #PoliceBrutality #CivilRights  #BruceSchroeder\n"
     ]
    },
    {
     "name": "stdout",
     "output_type": "stream",
     "text": [
      "1465155602145890306 2021-11-29 06:08:11 +0300 <snitskiy> @CNN Black Nationalist and prominent #BlackLivesMatter activist murdered Christians in Waukesha by his vehicle. Fixed it for ya\n",
      "1465155383052447746 2021-11-29 06:07:19 +0300 <TimeOfSorrows> #JESUS #Antifas #WorldPeace #GodAboveEverything #AllLivesMatter #BlackLivesMatter #alllivesdontmatter  #HopeOnTheStreet #SinSickSoulsEternalLivesMatter #media #news #manipulation #protests #nonreactive #proactive #FakeNews #seesayday #BlackPeoplesLivesMatter #WhenceComethOurHelp\n",
      "1465155148750204928 2021-11-29 06:06:23 +0300 <Colleenmom3> 🤯🤯🤯🤯🤬🤬🤬🤬 #BlackLivesMatter  https://t.co/2OWdtwL5DQ\n",
      "1465154898111213575 2021-11-29 06:05:23 +0300 <justgrateful> Will GOP Governors Engage The Culture War To Keep States Red?    https://t.co/XmLNWsVVm8 @aclu @PalmerReport @dailykos #BlackLivesMatter 🌊#VoteBlue2022 🌊 @msnbc @cnn @ap @reuters\n",
      "1465154635992342532 2021-11-29 06:04:21 +0300 <RafaOrus> Acabo de ver #KingRichard todo bien, buena película, pero tiene cargada agenda #BlackLivesMatter , la raza negra contra las otras razas tiene comportamientos agresivos también, dejaron de ser víctimas. Ese tema debe quedar enterrado, violencia es violencia venga de donde venga\n",
      "1465154407956369413 2021-11-29 06:03:26 +0300 <karenwagner36> Just decided what to watch. ❤️#ColininBlackandWhite #BlackLivesMatter\n",
      "1465154227525795845 2021-11-29 06:02:43 +0300 <LilEinstein96> Stream my single “Black Dahlia” @  https://t.co/aFKcSEPPnw  #black #BLM #16DaysofActivism2021 #antifa #AllLivesMatter #AhmaudArberyTrial #AhmadArbery #AmericaFirst #BlackLivesMatter #BlackAmericans #AmericaFirst #BlackTwitter #BlackTableTalk #adok121 #Asiandollculturevulture  https://t.co/1JgJjlsE7L\n",
      "1465153548857925637 2021-11-29 06:00:01 +0300 <OldMainBell> ding, ding DING ding, DING ding ding &amp; Ding. ding ding* #PennState #BlackLivesMatter #JusticeForAll\n",
      "1465153547994083334 2021-11-29 06:00:01 +0300 <OurPlanet2024> Carrie Meek, pioneering Black former congresswoman, has died  https://t.co/iqjn3T0oKH #BlackLivesMatter\n",
      "1465153401487040515 2021-11-29 05:59:26 +0300 <sofonofos> Whoopi Goldberg is a dang hero, full stop. If a murderer/White Supremacist dipshit kid is suing her, to us that just makes her even more of a hero.   Chag Semeach Channukah, Whoopi. Black Lives Matter. L'chaim. #BlackLivesMatter\n",
      "1465153360647098368 2021-11-29 05:59:17 +0300 <chattermatter7> @SecondGentleman @ADL @VP @VP #BlackLivesMatter how cool is that(!\n",
      "1465152946631491589 2021-11-29 05:57:38 +0300 <mimi_bizn> What’s new white men accusing black man for noting, their main priority is to label black people dangers.  #nomore fake news. #BlackLivesMatter\n",
      "1465152887504486403 2021-11-29 05:57:24 +0300 <MsTerryBull> #government #regulations #SCOTUS #SupremeCourt #2ndAmendment #maga #gop #ptd_on_stage_la Wizkid #GoPackGo #MOTD2 Megan #BlackLivesMatter Vinicius #StrongerTogether #StrayKidsComeback Virgil #博衣こより初配信 #Chemun #新ロマサガRS #SB19OurZoneConDay2 #AmericaFirst #BLM  https://t.co/nbt2Tmvm20\n",
      "1465152770911186947 2021-11-29 05:56:56 +0300 <LanningMeggfx> 1K followers Celebration Discount Offer. #twitch #TwitchPartner  #twitchaffiliate #twitchstreamers #smallstreamer #SmallStreamerCommunity #SupportSmallerStreamers #BlackLivesMatter  #supportsmallbusiness  #SupportSmallBusinesses  @shoutgamers @promo_streams @SGH_RTs  @DNRRT\n",
      "1465152480577298441 2021-11-29 05:55:47 +0300 <MsTerryBull> #government #regulations #SCOTUS #SupremeCourt #2ndAmendment #maga #gop #ptd_on_stage_la Wizkid #GoPackGo #MOTD2 Megan #BlackLivesMatter Vinicius #StrongerTogether #StrayKidsComeback Virgil #博衣こより初配信 #Chemun #新ロマサガRS #SB19OurZoneConDay2 #AmericaFirst #BLM  https://t.co/bdtOQOGRLE\n",
      "1465152275861626887 2021-11-29 05:54:58 +0300 <justice4Mimuna> Just in case you all forgot. I’m here to remind you #BlackLivesMatter . Besides Covid-19 the other pandemic facing Canada is policing. We’re waiting for the emergency plan. @JustinTrudeau @theJagmeetSingh @HonAhmedHussen @erinotoole @MarciIen @BLM_TO @blmcanada_ @DiasporaOttawa  https://t.co/zJtdUaFUuM\n",
      "1465151734133657603 2021-11-29 05:52:49 +0300 <AngryPastor_HS> @downisthenew_up #BlackLivesMatter\n",
      "1465151614579318792 2021-11-29 05:52:20 +0300 <mdfw08> @DrKChilds Yes!! I loved it! Much respect!  #BlackLivesMatter\n",
      "1465151494596935682 2021-11-29 05:51:52 +0300 <BotDefund> It's time to #DefundTheWaltonPolice #BlackLivesMatter\n",
      "1465151339713945606 2021-11-29 05:51:15 +0300 <MsTerryBull> #SCOTUS #SupremeCourt #2ndAmendment #maga #gop #ptd_on_stage_la Wizkid #GoPackGo #MOTD2 Megan #DemocratsDeliver Vinicius #StrongerTogether #StrayKidsComeback Virgil #博衣こより初配信 #Chemun #新ロマサガRS #SB19OurZoneConDay2 #AmericaFirst #BlackLivesMatter #BLM  https://t.co/SuVnsPv5hR\n",
      "1465151227100942339 2021-11-29 05:50:48 +0300 <IrreligionZ> @BoiseLazarus @pinkheretic And we believe that #BlackLivesMatter , #WomensRights matter, and that slavery is wrong.\n",
      "1465150997890744325 2021-11-29 05:49:53 +0300 <KingGlover2> Yo @_itsamightything @floydmayweather dad said you was a great fighter. He at my man bday party in Vegas #monmentslastalifetime #blackbusinessowners #blacklivesmatter  @loanfreshstart 👑  https://t.co/vYOjFX9AK1\n",
      "1465150773541617664 2021-11-29 05:49:00 +0300 <marktsneed> My newest effort The Chase is a coming of age book set in Chicago. Pick it up today. #SundayThoughts #SundayMotivation #WritingCommunity #BlackLivesMatter #amwritingfiction #ShamelessSelfpromoSunday #JusticeforDaunteWright #JusticeforAhmaudArbery #StrongerTogether #Resist  https://t.co/CoMhEedPNL\n",
      "1465150756676243456 2021-11-29 05:48:56 +0300 <TrickOH> #BlackLivesMatter\n",
      "1465150297387511809 2021-11-29 05:47:06 +0300 <intothefoxhole> Why hasn't Hollywood produced a movie about the Haitian Revolution of the 19th century? #BlackLivesMatter #Suppression\n",
      "1465149887473979392 2021-11-29 05:45:28 +0300 <TamecaTines> Repost @my_antiracism_resource 💯🗣️🔥:  \"#antiracism #systemicracism #racialjustice #racialequality #blacklivesmatter #jamesbaldwin\"  https://t.co/7hEUPUYsEl\n",
      "1465149023082459148 2021-11-29 05:42:02 +0300 <say_the_names> Jamee Johnson #BlackLivesMatter\n",
      "1465148559783874560 2021-11-29 05:40:12 +0300 <xosnazzyjazzyox> #BlackLivesMatter\n",
      "1465148311023747076 2021-11-29 05:39:13 +0300 <AmishRakeFight> @ElijahSchaffer Who went to Waukesha to demonstrate against #BLM terror? #GoodOptics #WaukeshaMassacre #NJP  #BlackLivesMatter   https://t.co/hhC47h1fcW\n",
      "1465148268258672641 2021-11-29 05:39:02 +0300 <BralessGold> REMEMBER, #BlackLivesMatter APPLE AGAINST RACISM &amp; SLAVERY, ALWAYS! APPLE IS ANTI ALIENS! APPLE IS ANTI MUSLIMS! BLACK LIVES MATTER! @Apple #BRANCHORKS OF #SKIDROW Adm. JP Morgan Chase @US_SpaceCom @NASA aka Cedric Crusader Knight aka Cedric de Crozant de Bridiers @SecretService  https://t.co/fyBYO5sKs6\n",
      "1465147821745713161 2021-11-29 05:37:16 +0300 <EdwinKanu> #BlackLivesMatter Long live #VirgilAbloh and #LouisVuitton/#OffWhite!  https://t.co/BMm3t58sYb\n",
      "1465147081371312130 2021-11-29 05:34:19 +0300 <JeaRiaz> Cops Don't Want Us to Have the Right to Film Them - But Accountability is Critical.  It's like Will Smith @willsmith said: \"Racism is not getting worse. It's getting filmed.\"🙃✊🏽 #care2  https://t.co/dUIZ6VzI4t #WillSmith #BlackLivesMatter #CivilRights #VideoProof #PoliceViolence\n",
      "1465147023066230785 2021-11-29 05:34:06 +0300 <RealCryptoCrust> @MissLiss630 @idek3339 It looks like @CNN can manipulate liberals easier than we thought. But #BlackLivesMatter is a movement, not a Hitler-like propaganda tactic to divide a nation...Right?  https://t.co/xChK3v2SiT\n",
      "1465146741334892547 2021-11-29 05:32:58 +0300 <ISawYouSeeMe> @downisthenew_up Excellent!! And hells yeah… #BlackLivesMatter #BLM\n",
      "1465146563886403589 2021-11-29 05:32:16 +0300 <RealCryptoCrust> @WhitneyFanDJ @BLMLA @Blklivesmatter @ukblm @USAmbUN @HouseForeign @RepGregoryMeeks @SenatorMenendez @ChrisCoons @StateDept @hrw @GerrySimpsonHRW @nimaelbagir @jaketapper @CNN The billions of dollars #BlackLivesMatter has raised could easily help them. Oh wait, that moolah won't even go towards their own cities; why would they help out another country...\n",
      "1465145514178056196 2021-11-29 05:28:06 +0300 <StevennBeck1> FOLLOW The Boomers Show (c) steven beck on FB-Twitter-IG  #nohate #justice  #compassion #TrumpVirus #Equality #Truth #decency #VotingRights #love #kindness #morality #respect #pulltheplug #accountability #honesty  #BlackLivesMatter #freedomofreligion #RuleOfLaw #Hypocrisy #Caring  https://t.co/lhCoja3FHI\n",
      "1465145410524041226 2021-11-29 05:27:41 +0300 <now_1984is> Dear @cnn, Black #BlackLivesMatter Extremist Activist, Darrell Brooks, intentionally murdered innocent people watching a Christmas parade and @CNN has the temerity to BLAME THE CAR?!? Corporate Media tells me what’s important by what they DON’T say - #CNN #CNNLIED #CNNisFakeNews\n"
     ]
    },
    {
     "name": "stdout",
     "output_type": "stream",
     "text": [
      "1465144367073562625 2021-11-29 05:23:32 +0300 <dsshake> My Hero! @StevijoPayne Is a true #American; he's my hero because he's read a book or two about #BlackHistory #BlackLivesMatter  #Secular answers for the hate of #Slaves since #1619project.  Reading list! 👇📚  https://t.co/TRvps2GFdx\n",
      "1465144103306293254 2021-11-29 05:22:29 +0300 <DominicSavant> @StevijoPayne More power to you Sir! Sadly some people will never get it. #BlackLivesMatter and Thank You for your service!\n",
      "1465143411690950659 2021-11-29 05:19:45 +0300 <stangog> Dear @Google, @CambridgeWords @Dictionarycom @CambridgeWords : Education is the first source of RACISM. The meanings of each of these words, BLACK, BLACKLIST, WHITE and WHITELIST are approved by WHITE PEOPLE. #racism #education #BlackLivesMatter  https://t.co/OydIPRqgQc\n",
      "1465143129175207940 2021-11-29 05:18:37 +0300 <happinessbccc> .#BlackLivesMatter  https://t.co/CiaOEEIJIf\n",
      "1465142977097912330 2021-11-29 05:18:01 +0300 <HotepMises> #NJP #NationalJusticeParty #WaukeshaMassacre  #BlackLivesMatter   https://t.co/1otXebTulQ\n",
      "1465142634796793862 2021-11-29 05:16:39 +0300 <DeclanMcGeese> listen my but where are those good old fashioned values on which we used to rely #blacklivesmatter\n",
      "1465142418999709698 2021-11-29 05:15:48 +0300 <BotDefund> Defund the Hamburg Township Police #BlackLivesMatter\n",
      "1465142220374298625 2021-11-29 05:15:01 +0300 <SydesJokes> @Cognisant2000 is No 259 of My #Top1000 Tweeters for 22nd November 2021 (Down 4) --&gt;  https://t.co/fPv9sDj7jh &lt;-- #BlackLivesMatter #BLM #Donation  https://t.co/ziDFzxt2gY  https://t.co/s4WfHcAlZ9 To get a + mark fill out the form  https://t.co/QmpnBKih2d\n",
      "1465141475415670784 2021-11-29 05:12:03 +0300 <say_the_names> Miles Hall #BlackLivesMatter\n",
      "1465140553566220292 2021-11-29 05:08:23 +0300 <MendacityAbout> #SquidGametoken  #100DaysOfCode  #WomenWhoCode #BlackLivesMatter #SquidGametoken  #Seattle #vanwa #pdx    https://t.co/mbWdJGjQUJ\n",
      "1465140247734411275 2021-11-29 05:07:10 +0300 <teddyhdotson> Family friends loved one's relationship to make it through the best and worst to be or not to be the say of sickness and health @POTUS @FLOTUS a @VP @SecondGentleman what to make of it the thought of combination #AUKUS not to be racial in the sense #BlackLivesMatter is #appalling\n",
      "1465139819508609025 2021-11-29 05:05:28 +0300 <RebuttalUnicorn> @EleanaBelle @cbouzy @realamberheard @iamcardib Told you Amber Heard is a racist. #BlackLivesMatter\n",
      "1465139246486990854 2021-11-29 05:03:11 +0300 <AUC31> #BlackLivesMatter  @RPCoalition @TheFinalCall - A black Cemetery since 1866 although desecrated by unscrupulous Land Management - it still holds some historic reminders of Black oppression and our fate should we fail Foremost should not be placed under a subdivision and forgotten  https://t.co/uCIlF3fZs4\n",
      "1465138776640950283 2021-11-29 05:01:19 +0300 <BryanCanley> @AttorneyCrump Staff member should be identified. The victim always is. When will steps be taken to rid this from programs/institutions before they get caught? #systemicracism #institutionalizedracism #BlackLivesMatter\n",
      "1465138448147238914 2021-11-29 05:00:01 +0300 <OldMainBell> ding ding ding ding Ding^ ding^ DING? DING! DING! #PennState #BlackLivesMatter #JusticeForAll\n",
      "1465137148923985934 2021-11-29 04:54:51 +0300 <LukeLochbaum> #BlackLivesMatter ✊🏾✊🏼❤️✌🏼 https://t.co/XL7vsmZI7q\n",
      "1465136877837721603 2021-11-29 04:53:47 +0300 <empowergracewi> @laurenboebert More racist nonsense from you? #BlackLivesMatter  https://t.co/5V5neKg3P1\n",
      "1465136819058712582 2021-11-29 04:53:33 +0300 <LukeLochbaum> @greatbigstory This Is So Amazing I’m Apart Of Gen Z And I’m Not Black But I Hear You See You And I Stand With You. #BlackLivesMatter ❤️❤️❤️✊🏾✊🏼  https://t.co/zc7KofwOft\n",
      "1465136635767574533 2021-11-29 04:52:49 +0300 <WhitneyFanDJ> #TigrayanLivesMatter #BlackLivesMatter #TigrayGenocide @BLMLA @Blklivesmatter @ukblm @USAmbUN @HouseForeign @RepGregoryMeeks @SenatorMenendez @ChrisCoons @StateDept @hrw @GerrySimpsonHRW @nimaelbagir @jaketapper @CNN\n",
      "1465136482209996806 2021-11-29 04:52:12 +0300 <MissLiss630> It also stated she obstructed police by “directing that Travis McMichael should not be placed under arrest.” #AhmaudArbery #justice #CivilRights #BlackLivesMatter  #irunwithmaud   https://t.co/yx6GfDDRdO\n",
      "1465135738240962560 2021-11-29 04:49:15 +0300 <MendacityAbout> #BlackLivesMatter #waleg #Seattle\n",
      "1465135380626173957 2021-11-29 04:47:50 +0300 <RealCryptoCrust> Due to false outrage from @LEVIS  I just threw my #Levis in the firepit. At the same time, my black neighbors and I laugh and enjoy our nonpeasant mindsets equally. I don't support #fakeracism #BlackLivesMatter has become a joke.   #Rittenhouse was well within his American rights  https://t.co/KkzYfgWRdE\n",
      "1465134514385084418 2021-11-29 04:44:23 +0300 <JamSophie1> Anyone need hot cartoonish logo or banner just HMU  #twitch#smallstreamer #SmallStreamersConnect #SupportSmallStreams #SupportSmallStreamers #gamer #esports #BlackLivesMatter #SupportBlackBusiness  @GamingRTweeters @DripRT @GDAutoArt @ScrimFinder @BlazedRTs  @WorldsSpotlight  https://t.co/5VCc7hIjDf\n",
      "1465134348219387904 2021-11-29 04:43:44 +0300 <Vinslayer15> Check out The Zactivist's video! #TikTok  https://t.co/Wufxr509hs Thank God for joe Biden and an end to TFG insanity, bigotry, misogyny, and hatred. #16DaysofActivism2021 #ExpelLaurenBoebert #BlackLivesMatter #ShockingUnansweredJan6Questions #CNN\n",
      "1465133924842102796 2021-11-29 04:42:03 +0300 <say_the_names> Wendell Allen #BlackLivesMatter\n",
      "1465133485069258754 2021-11-29 04:40:18 +0300 <dralmalood> #blackexcellence #blackmindsmatter  #blacklivesmatter  https://t.co/iC7kxIM0ko\n",
      "1465132824579743748 2021-11-29 04:37:40 +0300 <DominicanFallcy> @AltJorgelio #BlackLivesMatter #BTSxAMAs #FuerzaMiguel @JoeBiden i need a logo my metamask account hacked please help i need a editor cc ratio yaoi\n",
      "1465132750331998212 2021-11-29 04:37:23 +0300 <sanacardi> The dismissal attitude towards  #BlackLivesMatter is evident everyday...\n",
      "1465132481078870017 2021-11-29 04:36:18 +0300 <toutoucheri> How we can live well on injustices and inequalities  And too bad if the police kill young people in the neighborhoods  Me, I'm not going to take it for old people, when I do the math  Even if I do nothing, they will die of the heatwave #BlackLivesMatter\n",
      "1465131920984006659 2021-11-29 04:34:05 +0300 <_OsamaBINLADEN4> #BlackLivesMatter #BTSxAMAs #FuerzaMiguel @JoeBiden\n",
      "1465131434272858114 2021-11-29 04:32:09 +0300 <tbasharks> Sat Jul 18 2020 Portland, Oregon - Police gas and shoot protesters early in the morning WATCH:  https://t.co/ugDGVfxAwt #PortlandOregon #PPD #blacklivesmatter #blm #defundthepolice #abolishthepolice\n",
      "1465131162742009864 2021-11-29 04:31:04 +0300 <bearder__> #FuerzaMiguel i need a logo #gfx #GFX50SII #java #javascript #javascript30 #Website #webtoon #funa #ARMY i need a website #Hackers #hacker #BlackLivesMatter #JoeBiden #OoC_Edgys #websitedesign #WebsiteMaker #btsareamazing\n",
      "1465131035650404352 2021-11-29 04:30:34 +0300 <aixtc1> Have you heard ‘Werewolves Play’ by aixtc on #SoundCloud? #np  https://t.co/wiAGpPk3rH   #blacklivesmatter #trumpwho #fbr  resist #blm #votersrightsact #voteblue #womensrights #strongertogether #demvoice1 #onev1 #wtpblue #truth2voice #catsoftwitterultrahdwallpapers #dementia\n",
      "1465130959142113283 2021-11-29 04:30:16 +0300 <MrBeastGD> #FuerzaMiguel i need a logo #gfx #GFX50SII #java #javascript #javascript30 #Website #webtoon #funa #ARMY i need a website #Hackers #hacker #BlackLivesMatter #JoeBiden #OoC_Edgys #websitedesign #WebsiteMaker #btsareamazing\n",
      "1465130302204907536 2021-11-29 04:27:39 +0300 <MamaBear1930> @thedailybeast @cliffschecter We only lose if we give up - the ruling makes me want to protest more than ever before.  I'm committed to trying even harder.  I will not be complacent.  #BlackLivesMatter   #LGBT  #AntiFascism\n",
      "1465129677954203650 2021-11-29 04:25:10 +0300 <BLMProtestBot> Safety for all. #BlackLivesMatter\n",
      "1465128528333082627 2021-11-29 04:20:36 +0300 <dsshake> #Police lied. All Charges were dropped.  💥#JacobBlake   #policebrutality #blacklivesmatter #blm #georgefloyd #police #racism #nojusticenopeace #protest #justice #freedom #blackhistory #humanrights #policethepolice #blackexcellence  #whiteprivilege #protests #policestate\n"
     ]
    },
    {
     "name": "stdout",
     "output_type": "stream",
     "text": [
      "1465128381540978693 2021-11-29 04:20:01 +0300 <jerseysimonBR> Por que #VirgilAbloh foi um gênio:  1 - Criou a #OffWhite e mudou a Louis Vuitton, sendo o 1° estilista negro da marca 2 - Levou a moda da periferia para as grifes de luxo  3 - É uma das 100 pessoas mais influentes do mundo pela @TIME  4 - Arrecadou $ 1M para o #BlackLivesMatter\n",
      "1465127750398849026 2021-11-29 04:17:31 +0300 <YilikalKassa> @vickihuddleston You are advocating for a terrorist tplf ‘success’. Show us when you sit down and discuss with taliban or other terrorist group. Why don’t you fight for the black Americans facing injustice, inequality, racism and poverty in your own backyard. #nomore #BlackLivesMatter\n",
      "1465127480323235841 2021-11-29 04:16:26 +0300 <MikeKouklis> People who are not 4 #BlackLivesMatter seem to think poorly of African people(s) and tend too spread #FakeNews that supports thier #bigatry. ☆ Thank you @piersmorgan for this truthful tweet!  mention to @cnni\n",
      "1465127335376527369 2021-11-29 04:15:52 +0300 <HearthHolmes> 🖖 #ACAB  🖖 #WearAMask 🖖 #GetVaccinated 🖖 #BlackLivesMatter 🖖 #MentalHealthAwareness\n",
      "1465127059328491521 2021-11-29 04:14:46 +0300 <JrmieJ> L’arrestation musclée de jeunes Noirs à Québec soulève un tollé   https://t.co/oR3UvCEu5L #Québec #polqc #villeQuébec #ViolencesPolicières #BlackLivesMatter\n",
      "1465126981801066497 2021-11-29 04:14:27 +0300 <Roxane9910> You can't break it down any better than this. Simple, eloquent, &amp; powerful. Your words say it all, &amp; I hope those that still don't get it, will see your words, &amp; finally understand. Thank you, @DsCrash254  #StrongerTogether #BlackLivesMatter yesterday, today, tomorrow, &amp; always💙\n",
      "1465126696894578690 2021-11-29 04:13:19 +0300 <herb2341> @PtrckfshPatrick @PamKeithFL @MalcolmNance The #RittenhouseVerdict to #BlackLivesMatter  #BLM protesters &gt;&gt;&gt; strap-up.   Relativity: For every action there’s an equal an opposite reaction. #crossconnection  https://t.co/wsxTuNi291\n",
      "1465126439360020486 2021-11-29 04:12:18 +0300 <SeattleOwner> @GOP the creator clearly will tell you the 'pretty little dutch' a good secret....europe's #blacklivesmatter i think we otta get with real experimential bigger then the moon's #pumpkins i think you will like seattle's pale ale mexican #pacificobeer\n",
      "1465126313237360640 2021-11-29 04:11:48 +0300 <cyx000rbx> @UrDixxSmall @Hyderite you could try searching up #stopindianhate #BlackLivesMatter #StopAsianHate, and you would see why I would make this tweet\n",
      "1465125890740916234 2021-11-29 04:10:07 +0300 <AVALANCHE_RAP> yup this is a great story  https://t.co/oBJjY9RzkV #blacklivesmatter #rap\n",
      "1465125497642225665 2021-11-29 04:08:34 +0300 <dsshake> #Police shot #JacobBlake 7 times in the back. That's attempted murder. Period!  #policebrutality #blacklivesmatter #blm  #police #racism #nojusticenopeace #protest #justice  #icantbreathe #breonnataylor #trump #equality #love #acab #america #black #ahmaudarbery #explorepage #GQP\n",
      "1465125113091792896 2021-11-29 04:07:02 +0300 <MT25395398> This man is a Racist! #blm #BlackLivesMatter #BlackTwitter  https://t.co/laoLYptCM7\n",
      "1465124458402705413 2021-11-29 04:04:26 +0300 <Cassie__complex> #KshamaSawant #BlackLivesMatter  https://t.co/jZKN0aFlw5\n",
      "1465124396121604103 2021-11-29 04:04:11 +0300 <DougShootsStr8> #BlackLivesMatter remodeling crew....\n",
      "1465124284959965191 2021-11-29 04:03:44 +0300 <redpillforyou_> Is math racist?🤦🏼‍♀️🤣 #LiberalismIsAMentalDisease #BlackLivesMatter #cancelcancelculture  https://t.co/lqGXQZUrIl\n",
      "1465124052196945922 2021-11-29 04:02:49 +0300 <AntiScarecrow> @beti_jackson_ Good miss @beti_jackson is finally getting it. You will not  Emmett Till my people. You will not capitalize off my people's plight. You will not get a dime. You will not get single clout. #BlackLivesMatter @Blklivesmatter #Ethiopia\n",
      "1465123951386968067 2021-11-29 04:02:25 +0300 <Vatos4Trump45> #BlackLivesMatter  #BLM Y’all ain’t SH*T! I’m Latino! Let’s do this #StreetJustice!!!! This is an innocent #Priest! I’ll bring my Latinos Bros! Let’s meet! #Raza\n",
      "1465123823494254593 2021-11-29 04:01:54 +0300 <MT25395398> This Guy is a Racist!!y'all need to see the struggle is still real! Pathetic losers livin in they parents basement  #BLM #BlackLivesMatter\n",
      "1465123363504877569 2021-11-29 04:00:05 +0300 <AntiScarecrow> @beti_jackson_ My people, I understand we are going through some shit but we have to stop giving #cultureVulture|s a platform to profit from our plight.   #MakeCulturalAppropriationWrongAgain #Ethiopia #BlackLivesMatter  #Tigray @BLMSeattleKC  @Blklivesmatter #WhitePrivilege\n",
      "1465123347801333762 2021-11-29 04:00:01 +0300 <OldMainBell> ding. DING. ding, ding ding. ding DING^ ding #PennState #BlackLivesMatter #JusticeForAll\n",
      "1465123344374591488 2021-11-29 04:00:00 +0300 <ShechangesE> It's on #TheEqualizer is ON and SO is the HOTTEST EMPOWERMENT SWAG in the GALAXY  https://t.co/7C9CrTloH4 #PowerGhost #SupportBlackBusiness #ProtectBlackWomen #BlackLivesMatter #BlackAndMissing #CancelStudentDebt #ReparationsNow  https://t.co/FrdO6kCmpE\n",
      "1465123123959779334 2021-11-29 03:59:08 +0300 <TheLivesThatMtr> Say their name. Nephi Arriguin, 2015-05-07 #BlackLivesMatter.\n",
      "1465122645826052098 2021-11-29 03:57:14 +0300 <Souls_Man86> ROYAL REBRAND   https://t.co/Zvppq3IWaK  #BlueJays #BlackLivesMatter #BlackFriday #BLACKPINK #BLACKPINKdiWIBKpopAwards #Africa #AfricaUnite #ImACeleb #BiggBoss15  https://t.co/9PzeNH93az\n",
      "1465122319433617413 2021-11-29 03:55:56 +0300 <Sam52160989> Tayler Rock   #SayTheirNames #BlackLivesMatter\n",
      "1465122211988004870 2021-11-29 03:55:30 +0300 <manthonyhunter> Umoja Karamu! Umoja Karamu Celebration was created in 1971 by Edward Simms Jr. to inject new meaning and solidarity into the Black family through ceremony and symbol. It is celebrated the 4th Sunday of November. #BlackLivesMatter  https://t.co/h2F5ty31MO\n",
      "1465121819032264706 2021-11-29 03:53:56 +0300 <TheGreatJacinto> @ImbecilGaming #obamaisoverparty #fuerzamiguel #mueremiguel #panamiguel #maicol #Omicron #Peru #HaveASafeFlightARMY #XD FAUSTO PORTUGAL XD #BlackLivesMatter\n",
      "1465121010236198913 2021-11-29 03:50:44 +0300 <aferopia> #Ethiopia, #Eritrea, #Africa &amp; #BlackLivesMatter when we get united, organized &amp; we pull our resources together we are unstoppable because our unity is our power &amp; with God on our side we will be untouchable &amp; unstoppable. #EthiopiaPrevails #PanAfricanismPrevails\n",
      "1465120826034999305 2021-11-29 03:50:00 +0300 <marktsneed> Trophy I just entered the official Best Indie Book Award™! Wish me luck. Thumbs up #amwriting #IARTG #bookaward  https://t.co/Vh3NrssDey via  @IndieBookAward #SundayThoughts #SundayMotivation #ShamelessSelfPromoSunday #WritingCommunity #BlackLivesMatter #amwritingfiction #Resist\n",
      "1465120366989389835 2021-11-29 03:48:10 +0300 <ThePestoPot> #BlackLivesMatter  #Blackpower\n",
      "1465120149531504642 2021-11-29 03:47:18 +0300 <GoodfindGood> #southernthor #mountainman #blue #love #blacklivesmatter #original #humor #art #comedy #Vetran #PlutoTVDecades  #  https://t.co/X6yw1XhwKY\n",
      "1465120040655757316 2021-11-29 03:46:52 +0300 <LisaLmperry13>  https://t.co/Z8IPaK8sSx #CPTSD racial trauma #ACEs #historical #Trauma #bipoc #BlackLivesMatter #IndigenousPeoples ☮️💜\n",
      "1465119772996079617 2021-11-29 03:45:49 +0300 <BotDefund> Defund the Fort Rucker Police #BlackLivesMatter\n",
      "1465119497778388994 2021-11-29 03:44:43 +0300 <kebromwoldegeb1> My people, I understand we are going through some shit but we have to stop giving #cultureVulture|s a platform to profit from our plight. @beti_jackson_  blocked because I called her out on it. #MakeCulturalAppropriationWrongAgain #Ethiopia #BlackLivesMatter  @Blklivesmatter\n",
      "1465119332976009223 2021-11-29 03:44:04 +0300 <Banana_Politics> KEEP CALM AND CARRY ON ✌🏿Fits Perfect WITH WHATS GOING ON IN THE WORLD TODAY 🌍🌎🌏 #StayHome #StaySafeStayHealthy #Omicron #OmicronVariant #B11529 #BlackTwitter #BlackFriday #BlackLivesMatter\n",
      "1465119288830869506 2021-11-29 03:43:53 +0300 <PoliMomma> Hi @cnn a black #BlackLivesMatter supporter named #DarrellBrooks ran over people at a Christmas parade like they were speed bumps killing and injuring them.   Thanks.  #CNN #Waukesha #WaukeshaMassacre\n",
      "1465119038342938631 2021-11-29 03:42:53 +0300 <LEGION_KKK> After a little bit, kkk is coming back #BLMTerroristAttack  #BlackLivesMatter  #BlackTwitter  #BlackOwned  you don't own shit my guy. #nerd  #WhiteSupremacy  #WhitePrivilege   Yo white boys it's hunting season.\n",
      "1465118878409707522 2021-11-29 03:42:15 +0300 <dsshake> We are talking about the whole #racist enchilada of #PoliceBrutality, #JimCrow, #RedLining, to the #History of the #1619Project, #blackhistory and everything in between. You are one uneducated #whitenationalist. Let's change that?! Okay @CodyPrescher?   #BlackLivesMatter  https://t.co/I4uMWIeVj4\n",
      "1465118827814039554 2021-11-29 03:42:03 +0300 <say_the_names> Sean Reed #BlackLivesMatter\n",
      "1465118538973290499 2021-11-29 03:40:54 +0300 <LavenderSchulz> #cnn #BlackLivesMatter\n",
      "1465118199234666499 2021-11-29 03:39:33 +0300 <ZoeCohenArt> Cards with this #BlackLivesMatter #Hanukkah image (probably to use next year lol) can be purchased from #syracuseculturalworkers here:   https://t.co/HjjOolUTyA\n",
      "1465118027553427463 2021-11-29 03:38:53 +0300 <Souls_Man86> 'black' AMERICAN    https://t.co/Tuld0JHn4A  #BlueJays #BlackLivesMatter #BlackFriday #BLACKPINK #BLACKPINKdiWIBKpopAwards #Africa #AfricaUnite #ImACeleb #BiggBoss15\n",
      "1465117975313371137 2021-11-29 03:38:40 +0300 <LavenderSchulz> #cnn more like #BlackLivesMatter #blm #BLMTerroristAttack\n",
      "1465117910372917255 2021-11-29 03:38:25 +0300 <mostainback> @kimKBaltimore #BlackLivesMatter but not to @TheDemocrats\n",
      "1465117831494778880 2021-11-29 03:38:06 +0300 <Souls_Man86> 'TRUE'FOUNDING FATHERS   https://t.co/kJIzoKwfli  #BlueJays #BlackLivesMatter #BlackFriday #BLACKPINK #BLACKPINKdiWIBKpopAwards #Africa #AfricaUnite #ImACeleb #BiggBoss15\n",
      "1465117652268064768 2021-11-29 03:37:23 +0300 <ZoeCohenArt> Hannukah starts tonight! A reminder that Jews come in all hues &amp; none are free until we are all free. My #blacklivesmatter hanukkah image is free for all to use digitally, just credit me! #Hanukkah2021  https://t.co/HKAIqwYpPH\n",
      "1465117647708827649 2021-11-29 03:37:22 +0300 <JokerBra48> W 🔴💪🏾 #FTTB #MINvsSF #NinerGang #49ers #Niners #BlackLivesMatter #GoNiners #NFL #NFLSunday #NFLGameDay #NFLTwitter\n",
      "1465117290458931200 2021-11-29 03:35:57 +0300 <GenXIsNotWoke> #Pelosi #Maddow #NYC #BlackLivesMatter #berniesanders #Bitcoin #CNN #Covid19 #AOC #DonaldTrumpJr #GreenNewDeal #Democrats #manchin #FoxNews  The buck stops with #Biden - its ALL his bad decisions &amp; #Socialist or #Woke #Left #Green policies. #LetsGoBrandon   https://t.co/vWqgt4sSOS\n",
      "1465117097772605446 2021-11-29 03:35:11 +0300 <kmb9119> Leftists in #California deserve this for reelecting democrats.  Looters Ransack Stores Across Country Throughout Thanksgiving Week  https://t.co/U5kIR2v9yH #maga #Pelosi #SanFrancisco #BlackLivesMatter\n",
      "1465116730490073088 2021-11-29 03:33:43 +0300 <Souls_Man86> MOOR   https://t.co/Fjm9gIjktB  #BlueJays #BlackLivesMatter #BlackFriday #BLACKPINK #BLACKPINKdiWIBKpopAwards #Africa #AfricaUnite #ImACeleb #BiggBoss15\n",
      "1465116693781524491 2021-11-29 03:33:35 +0300 <BLMAW> We are sad to hear of Virgil Abloh’s passing. A fashion visionary who went on to lead and work with iconic fashion brands, his legacy will be with us forever.  #RIPvirgilabloh #BlackLivesMatter  https://t.co/bGt2WPkLSV\n",
      "1465116641017024515 2021-11-29 03:33:22 +0300 <MendacityAbout> #TVWnews #vanwa #BlackLivesMatter #waleg\n",
      "1465116334979702790 2021-11-29 03:32:09 +0300 <tbasharks> Fri Jul 17 2020 Chicago, Illinois - Violent arrests made in Grant Park WATCH:  https://t.co/JblvikvM98 #ChicagoIllinois #CPD #blacklivesmatter #blm #defundthepolice #abolishthepolice\n"
     ]
    },
    {
     "name": "stdout",
     "output_type": "stream",
     "text": [
      "1465115830962704388 2021-11-29 03:30:09 +0300 <paramesvaradeva> Satanic racist supremacist entrenched 1% economic ripoff predator system | #OWS #GiletJaunes #BlackLivesMatter !\n",
      "1465115412220157954 2021-11-29 03:28:29 +0300 <dsshake> And finally... a strawman argument from a low information voter: #MAGA red state fascist supporting alt rightwingnutz like @CodyPrescher  #policebrutality #blacklivesmatter #blm #georgefloyd #police #racism #nojusticenopeace #protest #Constitution #VOTE 🌊\n",
      "1465114778074902528 2021-11-29 03:25:58 +0300 <TwinPeaksOnMars> @shobenScot @dixiechick547 #white Karen commands me to delete a tweet calling her out for proposing that all #Black men be GPS tracked. #whiteFragility #karens #BlackLivesMatter\n",
      "1465114743555825667 2021-11-29 03:25:50 +0300 <ClareKuehn> #BlackLivesMatter #NickiMinaj #MAGA #2A #Alberta #Ontario #Toronto #corruption Wakey #science #Australia #India #Ghana #Arizona #Israel #murder #children  Oh this is why no mention of Prince #Andrew is allowed!  💥💣 #Maxwell #MaxwellTrial #Epstein didn't kill himself  https://t.co/6rKJvvawpw\n",
      "1465114681027215360 2021-11-29 03:25:35 +0300 <LuvbnMissP> This news station is TRASH for this headline!! Can you spot ALL the wrongs?!?  : : #homophobic #racist #wfaa #wfaaweather #news #BreakingNews #BlackLivesMatter #JussieSmollett #BlackTwitter #BlackTableTalk #RetweeetPlease #LGBTQIA\n",
      "1465114388835315718 2021-11-29 03:24:25 +0300 <HorrorBiz75> Yes.   I remember.   The terrorist’s name is Darrell Brooks.  The savage attack took place one week ago.   NEVER FORGET!   #DarrellBrooks #Waukesha #BlackLivesMatter #DomesticTerrorism #BLM  https://t.co/CktvBZO0Uo\n",
      "1465113480294395915 2021-11-29 03:20:48 +0300 <dsshake> #policebrutality #blacklivesmatter #blm #georgefloyd #police #racism #nojusticenopeace #protest  https://t.co/tIkhxPePau\n",
      "1465113156917686273 2021-11-29 03:19:31 +0300 <dsshake> #Blackpeople are the problem according to @Danny8Master; what is the 4th, &amp; 1st Amendment rights?  White Person! #seniorcitizen #American #CivilLiberty #CivilRights #PoliceBrutality #policebrutality #blacklivesmatter #blm #georgefloyd #police #racism #nojusticenopeace #protest 👇  https://t.co/8oCG9bZyCu\n",
      "1465110519157866503 2021-11-29 03:09:02 +0300 <rhinehartcounse> #millennials #genz #s #love #entrepreneur #millennial #motivation #success #money #genx  #business #financialfreedom #entrepreneurship  #youth #blacklivesmatter  #inspiration #mentalh #MentalHealthAwareness #MentalHealthMatters #college\n",
      "1465110367399555073 2021-11-29 03:08:26 +0300 <stanspak> In a world full of people like Aaron Rodgers, be like @Kaepernick7 . Thank you, Colin Kaepernick for your courage and integrity. #BlackLivesMatter\n",
      "1465110115619540993 2021-11-29 03:07:26 +0300 <paramesvaradeva> Satanic stealing of labor wealth |  what happened to the #reparations ?  #BlackLivesMatter ? #BlackHistoryEveryMonth !  https://t.co/FKFmLER0Xd\n",
      "1465110002478288899 2021-11-29 03:06:59 +0300 <jaybeedayoung> A woman just said that men can’t be oppressed. Did y’all forget that black men exist or what?  And don’t say “you’re not oppressed because you’re a man you’re oppressed because you’re black”.  That is a cop out. #BlackLivesMatter #Racism\n",
      "1465109986661396480 2021-11-29 03:06:55 +0300 <teachergorman> Out with #MonmouthForJustice standing for #BlackLivesMatter. I've missed a few weeks, but those folx across the street have been out every week. Come join us on Sundays at 3:00 in Monmouth!  https://t.co/8e5Wo2Kf0y\n",
      "1465109016682672134 2021-11-29 03:03:04 +0300 <DavidFDodge1> @AAmmaazzing @DeadZon76328919 @CNN DeadZone you do know he didn’t run into those people due to their skin color right? #BlackLivesMatter\n",
      "1465108487093067784 2021-11-29 03:00:58 +0300 <DavidFDodge1> @Knarfill @LosingComptrol @CNN As though you care 😂! Also, Black people are not shooting other black people BECAUSE they are black. See the difference? #BlackLivesMatter\n",
      "1465108438736719872 2021-11-29 03:00:46 +0300 <dsshake> @CodyPrescher @KBliss1970 @GLFOP The topic is: #PoliceBrutality, red state stupidity;  abuse of authority in favor of #whitenationalist a bias/bigotry against #PeopleOfColor, #minoriies, #BlackLivesMatter #MAGA #policereform #politics #policeviolence #GQPDomesticTerrorists  👇  https://t.co/09YOVS7Av2\n",
      "1465108336957968386 2021-11-29 03:00:22 +0300 <newteclibrary> NTPL has partnered with Making Change to present \"If Nothing Changes, Nothing Changes\",  designed to spark conversations and discussions around diversity and inclusion.  Tuesday, November 30 @ 7 pm on Zoom. Scan the QR Code to register.   #makingchange #blacklivesmatter  https://t.co/glVSeMqGbQ\n",
      "1465108290984050692 2021-11-29 03:00:11 +0300 <TJewel_N_Exile> We’re not done yet, folks!😤  Coco needs FOOD, clothes, cookware, bath items, DIAPERS + a million baby things for this cutie!🥺💜  CA $misscocobaybe  PP VM👇🏽  Ty💜❤️ #FundCoco #HelpCocoLive #BlackLivesMatter  #MutualAidSavesLives\n",
      "1465108261338857482 2021-11-29 03:00:04 +0300 <DavidFDodge1> @gypsybeepie @NicetyAF @FreedomOvertime @CNN CNN has several news stories about Wisconsin. Learn how to use Google. #BlackLivesMatter\n",
      "1465108247421931525 2021-11-29 03:00:01 +0300 <OldMainBell> ding. ding* ding ding DING ding... ding... #PennState #BlackLivesMatter #JusticeForAll\n",
      "1465108069843718145 2021-11-29 02:59:18 +0300 <DavidFDodge1> @ladymslady @justanobody696 @CNN I think Sam is trying to say we are not condemning the violence that took place. A ridiculously feeble argument since we do condemn it. #BlackLivesMatter\n",
      "1465107860749225988 2021-11-29 02:58:29 +0300 <Dartagnan1986> Musketeers of the @Twitch community, WE are LIVE 🔴 on @Rainbow6Game! #MadMusketeerTV #Xbox  #XboxAmbassadors #VarietyStreamer #Tactical #Twitchstreamer #Streaming   #BlacklivesMatter #TwitchAffiliate #BlackContentCreator   https://t.co/XoYMkUtmMH\n",
      "1465107803614367745 2021-11-29 02:58:15 +0300 <DavidFDodge1> @CNN I can’t imagine what it is like to be shown over and over again that your country does not support you. #BlackLivesMatter\n",
      "1465106388510720000 2021-11-29 02:52:38 +0300 <StellaTalking> Check out freevase's video! #TikTok  https://t.co/DZn7cs3lOD @drboycewatkins1 @RealCandaceO @ParisHilton #BlackLivesMatter\n",
      "1465106272466866179 2021-11-29 02:52:10 +0300 <pkarnig> Social Distancing 2021-11 #anthropoceneproject #filmfotograf #saveourforestsandourwater #blacklivesmatter #nccwp #zeisikonnettar #ilfordfp4 #pmkpyro #silvergelatinprint @ Netarts, Oregon  https://t.co/ECAiaKLl3w\n",
      "1465105836724862983 2021-11-29 02:50:26 +0300 <MotownDR> @cmclymer @NatPoliceAssoc Omg, me too! 😆  That is so weird!  I have never even directly interacted with them. Soooo very bizarre. I bet they look for keywords in 'bios,' on Twitter &amp; block 'the other side' in my case it's probably #BlackLivesMatter  I bet they ban all w/#BLM in their bio. Hilarious &amp;...  https://t.co/UpNL6URIeV\n",
      "1465105347027214338 2021-11-29 02:48:29 +0300 <Isobel_Y9> @ajplus #BlackLivesMatter\n",
      "1465105110355296257 2021-11-29 02:47:33 +0300 <CivilRightsStan> @patriottakes Ask #KyleRittennhouse what he meant when he said that he \"supports\" #BlackLivesMatter AND ask Kyle WHY he went to the protest to represent the anti-#BLM side AND ask him why he is interviewing with all these right-wing extremist outlets. These are the things we need to know!\n",
      "1465104987470503941 2021-11-29 02:47:04 +0300 <LeftwardSwing> \"Do you hate how POC are dying at the hands? Well come on in buy our crap!\"   #BlackLivesMatter? For @DIESEL it's more like Black Lives Marketing.  https://t.co/zjykeWwshi\n",
      "1465104923960434694 2021-11-29 02:46:48 +0300 <CanadianVAR> #canadianvoicesagainstracism #antiracism #BlackLivesMatter #AllBlackLivesMatter #letsdobetter #antiracismlearning #community #communityorganization\n",
      "1465104157011066880 2021-11-29 02:43:46 +0300 <MIRODOSAx> #BlackLivesMatter  https://t.co/HAshbDZRjT\n",
      "1465103991411404802 2021-11-29 02:43:06 +0300 <translivesmtr> \"Those who deny freedom to others deserve it not for themselves, and, under a just God, cannot long retain it.\" – Abraham Lincoln  #blacklivesmatter #blacktranslivesmatter #translivesmatter 🏳️‍⚧️ ✊🏼\n",
      "1465103741682597888 2021-11-29 02:42:06 +0300 <blackityblizzak> @KWestSavali @MichaelEDyson Compare that to rittenhouse 😡😡😡 #BlackLivesMatter\n",
      "1465103726537068546 2021-11-29 02:42:03 +0300 <say_the_names> Michael Dean #BlackLivesMatter\n",
      "1465103582718574604 2021-11-29 02:41:29 +0300 <melinda_wvu> @downisthenew_up @KimberlyROSE50 #BlackLivesMatter  https://t.co/y4UE7R5uur\n",
      "1465103558634885120 2021-11-29 02:41:23 +0300 <deepgreendesign> Take a knee: traitor!  Illegally breaching Capitol Building &amp; killing police: tourism!  #VanillaISIS #CdnPoli #WhiteSupremacy #TakeAKnee #BlackLivesMatter #AntiBlackRacism\n",
      "1465103518834978818 2021-11-29 02:41:13 +0300 <Economoose> @DsCrash254 @Blake_RESISTS @downisthenew_up @HatinHate and black kids are raised to go to prison. Police hassle  young black kids (and POC) on the sidewalks and in their cars simply because of the color of their skin. It is unjust &amp; unfair. We can, and must, do better. #BlackLivesMatter\n",
      "1465103117771423744 2021-11-29 02:39:38 +0300 <dsshake> @KBliss1970 @CodyPrescher @GLFOP Is this a tragedy, the murder of 17,000 Americans--or just a good start for authoritarian fanboys?   More than 17,000 deaths caused by police #Policereform #TheLancet #BlackLivesMatter   https://t.co/BEDUw51Tz4\n",
      "1465102934807662605 2021-11-29 02:38:54 +0300 <GeorgeFloyd_com> Ew. #Racism is everywhere and every day. It's systemic. It's built into the lives and cultures of any community you touch. #EnoughIsEnough Being silent is no longer an option. #BLM #BlackLivesMatter\n"
     ]
    },
    {
     "name": "stdout",
     "output_type": "stream",
     "text": [
      "1465102775994355717 2021-11-29 02:38:16 +0300 <axelusprime> Tis the season but in case you forgot Black Lives still matter. From your friendly neighborhood hero for hire. #SweetXmas #BLM #blacklivesmatter #blackcosplayerover30 #LukeCage #HeroforHire  https://t.co/byxCrljVJU\n",
      "1465102577868152836 2021-11-29 02:37:29 +0300 <OfficialPrusa>  https://t.co/xjwpgXAD24  If anyone has a Canva account you can now use our stickers template to print and put in your community! #AntiFascist #BlackLivesMatter\n",
      "1465101240300355591 2021-11-29 02:32:10 +0300 <tbasharks> Sat Aug 08 2020 Portland, Oregon - Police use tear gas and impact munitions against protesters WATCH:  https://t.co/BUbNygFZZD #PortlandOregon #PPD #blacklivesmatter #blm #defundthepolice #abolishthepolice\n",
      "1465100987794968581 2021-11-29 02:31:10 +0300 <BLMNorthPreston> RCMP North Preston Detachment  in your own lane there is no traffic . @NSBS @NSCrownAttorney obstructionofjustice $$$ #northprestonland 2 subdivisions !#Blacklivesmatter @blmcanada_  @BlackTwittaNews  https://t.co/l0YRLiPrpj\n",
      "1465099987998494720 2021-11-29 02:27:12 +0300 <TruckinMedic13> I'll be right there with you, taking a knee........  #BlackLivesMatter\n",
      "1465099686801338370 2021-11-29 02:26:00 +0300 <marktsneed> My newest effort The Chase is a coming of age book set in Chicago. Pick it up today. #SundayThoughts #SundayMotivation #WritingCommunity #BlackLivesMatter #amwritingfiction #ShamelessSelfpromoSunday #JusticeforDaunteWright #JusticeforAhmaudArbery #StrongerTogether #Resist  https://t.co/MuW8WOZfUL\n",
      "1465099477648347141 2021-11-29 02:25:10 +0300 <BLMProtestBot> Keep up the fight. #BlackLivesMatter\n",
      "1465099132696244228 2021-11-29 02:23:48 +0300 <2020Jy> You will also know they are STILL targetting POC women for financial gain and general racial hatred, they called antifa a terrorist organisation. Seems you are defending a blatant racist. #BlackLivesMatter #racism\n",
      "1465098616905863172 2021-11-29 02:21:45 +0300 <cwalking51> Cut my eye playing sports..didn't rush to hospital I kept playing...I rock da black bandaid..like left eye..I was cut frfr but I'm a #trendsetter #blackbandaid #BlackLivesMatter\n",
      "1465098611289739264 2021-11-29 02:21:43 +0300 <wspiv001> “inside the clothing items that he dropped was a black semiautomatic handgun, at which time a deputy-involved shooting occurred.” | by William Spivey | Sep, 2020 | Medium - via @pensignal   https://t.co/sRZ76P2qUE #BlackLivesMatter\n",
      "1465098583393329153 2021-11-29 02:21:37 +0300 <Adriana12017879> #BlackLivesMatter  🥰🥰🥰  https://t.co/SQ4hpsBinO\n",
      "1465097955023622149 2021-11-29 02:19:07 +0300 <takaG7toma> #差別いじめダメ絶対 #BlackLivesMatter #StopAsianHate #Diversity #Individuality #Sympathy  早くワクチンが行き渡り コロナ禍が収束しますように  世界中の医療関係の方々や社会維持の為に戦ってる方々に感謝しつつ  #マスク #手洗い #三密回避   あ。おはようございます。。\n",
      "1465097670498914304 2021-11-29 02:17:59 +0300 <BLMNorthPreston> You want Attention Spotlights @NSCrownAttorney  North Preston RCMP Detachment Obstruction Of Justice! @TwitCoast #Blacklivesmatter  https://t.co/IdTeWV0VJk\n",
      "1465097631227645956 2021-11-29 02:17:50 +0300 <yared_dd> @MohammedMahmude #Africans joining #NoMore movement against #Neocolonialism &amp; #imperialism. #PanafricanismPrevails #BlackLivesMatter #EthiopiaPrevails #BurkinaFaso #Niger\n",
      "1465097348959195136 2021-11-29 02:16:42 +0300 <KregerPatricia> #TheKidIsAMurderer #WeWontForget  #BlackLivesMatter  #SoSickOfAllTheDumbarseBS #CRTRetributionsItsAllNecessaryAndImportant #AndPhorkingWhiteArseholesNeedToStop #ShootingPeople #SaveYourCrocodileTearsKyle🤬\n",
      "1465096597126230018 2021-11-29 02:13:43 +0300 <richardjmarini> In this episode of the @refusefascism #podcast @SamBGoldman speaks w/ historian &amp; author  @ProfCAnderson about #whitesupremacy, the #secondamendment &amp; the fascist movement's unleashing of vigilante violence  https://t.co/D5Ct2FXHdl #KyleRittennhouse #AhmaudArbery #BlackLivesMatter\n",
      "1465096331756806148 2021-11-29 02:12:40 +0300 <cabubsmom> So, who matters here? #BLM #BlackLivesMatter #selfdiscrimination #racist #hategroup #stopthehate\n",
      "1465096128047857665 2021-11-29 02:11:51 +0300 <Memi1961> @downisthenew_up Awesome! And may I say, you look pretty hot in that shirt!  #blacklivesmatter\n",
      "1465095894127333386 2021-11-29 02:10:55 +0300 <Sam52160989> Chavis Carter   #SayTheirNames #BlackLivesMatter\n",
      "1465094918242668547 2021-11-29 02:07:03 +0300 <DavisAndrew88> @MarkMitchellMP This is what you get when toxic anti-police #BlackLivesMatter rhetoric goes unchecked and there are people marching down the streets of our cities last year with signs that read “ACAB” (All Cops Are B****)  A total lack of respect for the law and more cops being shot at\n",
      "1465094799044788228 2021-11-29 02:06:34 +0300 <libertashio_> Les afro-americains de Cergy pontoise, j'espère que vous êtes devant M6. #BlackLivesMatter #EnqueteExclusive\n",
      "1465094086214533124 2021-11-29 02:03:44 +0300 <Steph_Alcaraz> Scusez, mais c’est inacceptable ce comportement venant de policiers. Ces policiers devraient être mis à la porte point! @SPVQ_police démontre que ces policiers peuvent tout faire en toute impunité… #NeRienLaisserPasser #BlackLivesMatter\n",
      "1465094080501886977 2021-11-29 02:03:43 +0300 <CARE2Liberate> #institutionalracism #BlackLivesMatter #Redundencies #Academies #Bullying #Discrimination\n",
      "1465094021949235201 2021-11-29 02:03:29 +0300 <crazyfightsss> satisfying🤌🏿 #blm #BlackLivesMatter #BlackTwitter #darkhumor #memes #ghettofights #hoodfights #streetfights #fistfights #fights #ghettofight #hoodfight #streetfight #fightpage #fightvids #fightvid #worldstarfights #WORLDSTAR #worldstarhiphop #schoolfights👊🏽 #fightvideos  https://t.co/ticpxTsvHu\n",
      "1465093759394275333 2021-11-29 02:02:27 +0300 <ShaheerHB> Emotions, conflicts, racism, BBall, all in one episode. Best one yet #Swagger. Was so happy when Royale spoke up!! The beginning of great team bonding. #BlackLivesMatter\n",
      "1465093408091881475 2021-11-29 02:01:03 +0300 <tmishmck> And I approve of this message.  #BlackLivesMatter  #BlackLivesMatter  #BlackLivesMatter\n",
      "1465093222393253890 2021-11-29 02:00:18 +0300 <tmishmck> @downisthenew_up #BlackLivesMatter  #BlackLivesMatter  #BlackLivesMatter\n",
      "1465093151274639362 2021-11-29 02:00:02 +0300 <OldMainBell> Ding* DING, DING, ding DING Ding #PennState #BlackLivesMatter #JusticeForAll\n",
      "1465092892276449280 2021-11-29 01:59:00 +0300 <b4one> Has any member of the Mafia or the biker gangs ever been arrested like this? #cdnpoli #polqc #Quebec #BlackLivesMatter #racist #tlmep @tvanouvelles @RadioCanadaInfo @francoislegault @CBCNews @afpfr\n",
      "1465092848886366214 2021-11-29 01:58:49 +0300 <DorNoirBeauty> What has been your worst shopping experience whether in a local beauty supply store or a regular store/chain store as a person of color?  #worstshoppingexperience #shopoingwhileblack #SmallBusinessSaturday #BlackLivesMatter  #BlackTwitter\n",
      "1465092448766550016 2021-11-29 01:57:14 +0300 <EuroPaillette> Uff. #Precht fragt Svenja Flaßpöhler, ob die \"Empfindlichkeit oder Empfinsamkeit\" von #BlackLivesMatter und #MeToo berechtigt sei. Gibt's da niemanden, der mal überlegt, ob das wirklich eine gute Idee ist? Keine*r in der Redaktion, die*der mal ein paar Einwände formuliert?\n",
      "1465091968057421828 2021-11-29 01:55:19 +0300 <exnflscout> Kyle Rittenhouse was falsely labeled a white supremacist w/ zero evidence while the perpetrator of the #WaukeshaMassacre is not even mentioned nor is his extensive criminal history &amp; calling for violence against white ppl. #BlackLivesMatter Terrorist #DarrellBrooks Say His Name.\n",
      "1465089857752076294 2021-11-29 01:46:56 +0300 <AdanAstur> Pon un #BlackLivesMatter en tu vida. O si no tienes uno a mano, #AdoptaUnInmigrante; si es ilegal, el Gobierno de España te bonificará.😏\n",
      "1465089116450611207 2021-11-29 01:44:00 +0300 <YeMerkato> 🌍#Africa says not again #NoMore  #Whitesupremacy oriented US, UK &amp; EU foreign policy is the problem we Africans are fighting.  Today it’s 🇪🇹🇪🇷🇳🇪🇧🇫 |Tomorrow will be at your doorstep.   Wake up and say #NoMore #HandsoffEthiopia #HandsOffEritrea #HandsOffAfrica  #BlackLivesMatter  https://t.co/aWaYij6pbU\n",
      "1465088760723513354 2021-11-29 01:42:35 +0300 <BLM757> #GetTheStrap - #BlackPowerCoalition - The new line of self-defense for BLACK America. We will no longer allow our own to be murdered unchecked.   Now recruiting established generals to join our ranks.   #BLM757 #BPC #BlackLivesMatter #BLM #2A  https://t.co/hMA1t1v3tZ  https://t.co/vrpU2Q2yt4\n"
     ]
    },
    {
     "name": "stdout",
     "output_type": "stream",
     "text": [
      "1465088636236480515 2021-11-29 01:42:05 +0300 <BLM757> #GetTheStrap - #BlackPowerCoalition - The new line of self-defense for BLACK America. We will no longer allow our own to be murdered unchecked.   Now recruiting established generals to join our ranks.   #BLM757 #BPC #BlackLivesMatter #BLM #2A  https://t.co/hMA1t1v3tZ  https://t.co/whtTvznxtl\n",
      "1465088626434400267 2021-11-29 01:42:03 +0300 <say_the_names> Akiel Denkins #BlackLivesMatter\n",
      "1465088479751200775 2021-11-29 01:41:28 +0300 <BLMNorthPreston> You @NSCrownAttorney @NSBS       never going stop Harassment Retaliation @BLMNorthPreston notbackdown!Selfrepresented 21charges 7missing but was Assaulted 7timePolice 5 times!Ready to settle Fraud! #BlackLivesMatter @BLM_TO @BLCKTWlTTERHQ @officialBLMNYC @AnthonyBNYC @BLMLA MORE  https://t.co/UquNluexMX\n",
      "1465088376420253702 2021-11-29 01:41:03 +0300 <boogiemayu> Everyone need Confession🌎🌊🚨 Where Fair?  Astro's Power is Super Powerful.  always GOD watch everything&amp;do Soon  #BlackLivesMatter  #BlackOwnedBusiness  #Blackentertainment #Blackfamilyconnection   https://t.co/u1MyWZoG9t\n",
      "1465088345571213313 2021-11-29 01:40:56 +0300 <Sam52160989> Victor Duffy Jr.   #SayTheirNames #BlackLivesMatter\n",
      "1465088170316423179 2021-11-29 01:40:14 +0300 <Hope4Afro> #Niger &amp; #BurkinaFaso fighting the colonisers. Stay strong !  #BlackLivesMatter - #NoMore #France interference. #AfricaUnite\n",
      "1465088004255592454 2021-11-29 01:39:34 +0300 <MAG_Rochester> New 🖼 by @shawndunwoody #BlackLivesMatter    “Unfinished Business” (2021) Acrylic paint on canvas On loan from the artist  https://t.co/XN5E1lr2sx\n",
      "1465088001285910529 2021-11-29 01:39:34 +0300 <PandaBear8631> #BlackLivesMatter\n",
      "1465087576939761667 2021-11-29 01:37:53 +0300 <Divamanda23> #BlackLivesMatter\n",
      "1465087512779505667 2021-11-29 01:37:37 +0300 <tnakane> みなさんおはようございます🌛  能力の差は考え方の差。  新しい1週間が始まりました！ 今月も明日で終わり。2021年のラストスパートです。  いよいよ冬本番と言った天気で寒いですが、前向きに頑張ります😊😊  #おはよう戦隊1129  #おは戦31129ng  #愛拶1129  #コロナに負けない #BlackLivesMatter\n",
      "1465087281614790666 2021-11-29 01:36:42 +0300 <_Jumpman614> Do we say #BlackLivesMatter because they really matter or do we say it because it’s the “popular thing to do, we get mad when other races kill us yet we kill each other very quickly, examples you say nipsey hussle, dolph, or chk local news channels\n",
      "1465087241089269763 2021-11-29 01:36:32 +0300 <brightstrangely> @FurlongIanM @Bawbag40 @kelly_white_2 @witchyisbak @ElizabethKeesey @TheFamousArtBR @Paintpot17 @kiddpuma214 This. I feel like #BlackLivesMatter and #BelieveVictims is a kind of collision: we suck at prosecuting sex crimes.  So that’s like a foundation for rhetoric. We really suck at catching and convicting rapists. We are great at exploiting stories about rape.\n",
      "1465086897341014016 2021-11-29 01:35:10 +0300 <Ebony74090450> Attached to everything, connected to none. 💚 #BlackGirlMagic #BlackLivesMatter #naturalhair #fashionnova  https://t.co/xP8XXyuZQ0\n",
      "1465086833591791629 2021-11-29 01:34:55 +0300 <tewdage_us> And some try to blame the west and the US  for this, how cruel is that! Our own brothers killed us, our own African neighbors slaughtered us. Never forget, never💔💔💔 #EritreanTroopsOutofTigray #BlackLivesMatter #AxumMassacre #TruthMatters @Trevornoah @SecBlinken @BBGAfrica #eth\n",
      "1465086624857935880 2021-11-29 01:34:06 +0300 <ClareKuehn> #BlackLivesMatter #NickiMinaj #MAGA #2A #Alberta #Ontario #Toronto #health #covid19 #Covid_19 #cancer #corruption Wakey #science #sciencewins #Australia #India #Ghana #DeltaVariant #Arizona #Israel #murder #children #mamabear #Notaboutavirus   More injecteds ... \"#vaccinated\"  https://t.co/t7nobW9JRI\n",
      "1465086343428681735 2021-11-29 01:32:58 +0300 <JohnKevinLucke1> Trial set to start on charges that actor Jussie Smollett faked racist attack  https://t.co/TZ3UISQeuG via @politico #Chicago #JussieSmollett #racism #HateCrime #BLM #BlackLivesMatter\n",
      "1465085828787544088 2021-11-29 01:30:56 +0300 <DrKChilds> King Richard 🔥🔥🔥🔥  #BlackLivesMatter\n",
      "1465085827193712644 2021-11-29 01:30:55 +0300 <Sam52160989> Janet Wilson   #SayTheirNames #BlackLivesMatter\n",
      "1465085807409070080 2021-11-29 01:30:51 +0300 <CallMeAhmjusAyn> We're wondering why #poc got such harsh sentences. Did they all serve #theFullMonty?🤔 Are any still alive? How many died in prison?#BlackLivesMatter #NoJusticeNoPeace⚖️   @AOC  @SpeakerPelosi  @amyklobuchar  @January6thCmte  @RepAdamSchiff  @RepRaskin   #DemVoice1  @TheLastWord\n",
      "1465085492303745026 2021-11-29 01:29:35 +0300 <Llingo_OG> Public Education  https://t.co/0wIb6fHsQ7 #publicenemy #education #school #hiphop #teaching #abolitionist #blacklivesmatter #tshirt #teeshirt  https://t.co/vW9RRvnhlw\n",
      "1465085472884068353 2021-11-29 01:29:31 +0300 <talktodenene> @kathymi71147962 @downisthenew_up @DAndreAz2 She offered unsolicited opinions AND a threat. He's asking for threats wearing a shirt? You need therapy lady. And #BlackLivesMatter\n",
      "1465085328264515594 2021-11-29 01:28:56 +0300 <abdulsalamwal14> Better Way To Close the Weekend 🖤.    Good week Ahead😎🙏🏾.                  #halamadrid   #deemoney #deenoverdunya #alhamdulillah #sm #black #blacklivesmatter @ Abidjan, Cote d'Ivoire  https://t.co/PYpppehTXd\n",
      "1465085080385298434 2021-11-29 01:27:57 +0300 <MiasWorldBooks> Remember, you can be the author and the main character in your OWN story ✍️   Mia’s World💫  https://t.co/mhSHamcjuX  #booktwt #Kindle #WritingCommunity #BlackLivesMatter #blackauthor #AuthorsOfTwitter #childrenauthor #blog #FutureOfWork #coparent  https://t.co/CdUs1TooLP\n",
      "1465084452598534145 2021-11-29 01:25:28 +0300 <2020Blackstone> Rightwing Multiculturalism is Pro: #WhiteLivesMatter, #BlackLivesMatter, #LatinoLivesMatter, #IndigenousLivesMatter, and #AsianLivesMatter but Against: #AllLivesMatter is redundant and lacks specification\n",
      "1465084279399100421 2021-11-29 01:24:46 +0300 <FroggyBottomPnd> #BlackLivesMatter  All mothers should understand this.  https://t.co/tia5ih7hUW\n",
      "1465083876808683533 2021-11-29 01:23:10 +0300 <crazyfightsss> Fat Beckies 🙄 #blm #BlackLivesMatter #BlackTwitter #darkhumor #memes #ghettofights #hoodfights #streetfights #fistfights #fights #ghettofight #hoodfight #streetfight #fightpage #fightvids #fightvid #worldstarfights #WORLDSTAR #worldstarhiphop #schoolfights👊🏽 #fightvideos  https://t.co/yeMTMwU6Xw\n",
      "1465083872169783296 2021-11-29 01:23:09 +0300 <AntiRacistJazz> A great article about how to change minds. It'll give you some insight into what we're trying to do as Jazz Fans Against Racism. #TakeNote #JazzNation #BlackLivesMatter #SpeakUpandDribble   LINK:  https://t.co/y53ZMgaFDK  https://t.co/fpXEG8Qu9s\n",
      "1465083371873349639 2021-11-29 01:21:10 +0300 <Barney82864755> Please guy, follow me on IG...🙏, my old account has been disabled 😔😔  . . . #followback #TrendingNow #trending #RETWEEET #retweetme  #showlove #dubai #dxb #uae #BLM #BlackLivesMatter #naija #9ja #Nigeria #Nigerian #j9ablog  https://t.co/dbH4oEyuPb\n",
      "1465083081417805830 2021-11-29 01:20:01 +0300 <B1GTEN01> @NBCNews #FakePolls #Fake  I don’t know many #Blacks or #Hispanics who are #vaccinated, a big majority are #Democrats!  Unless, #BlackLivesMatter are now #Republicans or #Conservatives   @ABCWorldNews @CNN @MSNBC @nypost @nytimes @washingtonpost @FoxNews @CBSNews\n",
      "1465082919475728392 2021-11-29 01:19:22 +0300 <kaywiththevibes> Our an we believed a lot of lies.   TikTok: @negritudeandelevation  TikTok: @Kay_With_The_Vibes  #blm #BlackLivesMatter #africanamerican #spirituality #blacktiktok #blacktwitter #CriticalRaceTheory #crt  https://t.co/q8Y5W1Hqpa\n",
      "1465082626138648576 2021-11-29 01:18:12 +0300 <ChuckMonsanto> They have a muted response cause they don’t care if one of their crazies get violent. #left #democrats #BlackLivesMatter #lgbt embrace your constitutional #2A rights. DEFEND yourselves from people who increasingly are telling you what they plan to do.\n",
      "1465082387495325701 2021-11-29 01:17:15 +0300 <kaywiththevibes> Believing in God don’t make you good or bad.   TikTok: @negritudeandelevation  TikTok: @Kay_With_The_Vibes  #blm #BlackLivesMatter #africanamerican #BlackHistory #crt #CriticalRaceTheory #spirituality #blacktiktok #blacktwitter  https://t.co/5Vhraj2Cys\n",
      "1465082355991810049 2021-11-29 01:17:08 +0300 <DrummerWrites> #AhmaudArbery  #BreonnaTaylor  #GeorgeFloyd  #ElijahMcClain #JacobBlake  #DaunteWright  #BlackLivesMatter #StopRacism  #JusticeForAhmaud #JusticeForBreonna #JusticeForElijah #JusticeForJacob  #JusticeForDaunte #SayTheirNames #ICantBreathe #9minutes29seconds #ReformThePolice  https://t.co/6gj5ggxuJx\n",
      "1465081704515833858 2021-11-29 01:14:32 +0300 <kaywiththevibes> We keep worrying about the “American Dream”, that promise wasn’t made to us.   TikTok: @negritudeandelevation  TikTok: @Kay_With_The_Vibes  #blm #BlackTwitter #blacktiktok #BlackLivesMatter #BlackHistory #americanhistory #africanamerican #CriticalRaceTheory #crt #spirituality  https://t.co/dQs83ZScGB\n",
      "1465081639340548096 2021-11-29 01:14:17 +0300 <skialps1963> @98Toks Brought to you by @DoorDash @Cisco @hm @WNBA @degree @OldNavy @Dropbox @Ritzcrackers @VANS_66 @SlackHQ @lululemon @SPANX @nike @MLB @NBA @NFL @mls @NHL @Starbucks @apple @Microsoft @nabisco @Target @Wendys @benandjerrys @ACLU @twitter @netflix in the name of #BlackLivesMatter\n",
      "1465081579382976518 2021-11-29 01:14:03 +0300 <Z_investor18> I hate everything #BLM and #BlackLivesMatter  stand for...where are all the people who disagree with me? I’ll let you loot my house\n",
      "1465081316051984385 2021-11-29 01:13:00 +0300 <MartinWilliam95> \"Injustice anywhere is a threat to #justice everywhere.\" #MLK #BlackLivesMatter #MalcolmX\n",
      "1465081079446990849 2021-11-29 01:12:03 +0300 <SpareTheRodNP>  https://t.co/2YV5h15R14 #BlackLivesMatter #MenMatter #Incarceration #MensRights #FreeOurMen #SpareTheRod #BLM #NoJusticeNoPeace #JusticeReformNow #CivilRights #SilenceIsViolence #Racism #UnequalJustice #Gender #GenderDivide #Men #Male #InvisibleMen #Prison #Jail #PrisonReform\n",
      "1465081076892774408 2021-11-29 01:12:03 +0300 <say_the_names> Stephon Clark #BlackLivesMatter\n",
      "1465081064183971840 2021-11-29 01:12:00 +0300 <ChefTsonton> @downisthenew_up @farfnme Wear daily. #Standup4humanrights  #BlackLivesMatter  https://t.co/iT6X7Qa4SX\n",
      "1465081017945911296 2021-11-29 01:11:49 +0300 <Sugabab59115132> #BLM #blacklivesmatter\n",
      "1465080907623108612 2021-11-29 01:11:22 +0300 <portman_vanessa> What has blacks done wrong?? #BlackLivesMatter  #racism  https://t.co/dDCpSi6kCx\n",
      "1465080781584273411 2021-11-29 01:10:52 +0300 <Sugabab59115132> Charlottesville sends message to the hearts of Americans from the heart of the old Confederacy #confederacy #Americans  #charlottesville #racism  #BLM  #blacklivesmatter    https://t.co/49gU93ehV8\n",
      "1465080760356925447 2021-11-29 01:10:47 +0300 <anthony11230> If the amendment to Clause 9 of the UK Nationality &amp; Borders Bill becomes law, non-White #BAME, born &amp; bred in the UK, face-retrospectively also- being stripped of their citizenship without notice &amp; appeal, and deported #Windrush #BlackLivesMatter #Racism  https://t.co/AvvuGexm8E  https://t.co/iV9SvQvzlG\n",
      "1465080743726665731 2021-11-29 01:10:43 +0300 <mamushhailu21> Join all Africans  the  #Nomore #BlackLivesMatter #Africa   #Ethiopia #NoMore_NeoColonialism   #Nomore  https://t.co/k4b1DOoqTz\n",
      "1465080612012834825 2021-11-29 01:10:12 +0300 <RamboDaGhoul> All lives don’t matter until #BlackLivesMatter  https://t.co/MQAXeiRdku\n",
      "1465080421226401799 2021-11-29 01:09:26 +0300 <BLMNorthPreston> 16 charges @BLMNorthPreston won 12-21!Arrest Jan 14 14 absent Jeni Person lD:305432  Why?Fraud Sergeant/Inspector Oct 7 14 Judge Judge Paul Scovil Absent Recorts.Judge/Justice Timothy Gabriel Hand Picked Fraud! BreachOFDuty Only Lawsuit @NSBS @NSCrownAttorney! #BlackLivesMatter  https://t.co/DZEhVLpeyM\n",
      "1465079063551385615 2021-11-29 01:04:03 +0300 <TheScamdemic> @Chocolateanime4 You mean the same police who killed Breanna Taylor and George Floyd, along with countless others? #blacklivesmatter\n",
      "1465078538554511368 2021-11-29 01:01:58 +0300 <xunavzlahonesta> @spiritdance33 #BlackLivesMatter #FreePalestine  #FreeAssangeNOW #FreeAlexSaab\n",
      "1465078294961868818 2021-11-29 01:01:00 +0300 <GParksFound> Untitled (Muhammad Ali), Miami, Florida, 1970⁠ .⁠ .⁠ .⁠ #blackculture #blacklove #blackisbeautiful #socialjustice #freedom #endinjustice #speakup #speakout #blacklivesmatter #blm  https://t.co/YBxAHiN7q6\n"
     ]
    },
    {
     "name": "stdout",
     "output_type": "stream",
     "text": [
      "1465078062899474436 2021-11-29 01:00:04 +0300 <Teestimonybrand> You were created for a purpose. #Teestimony #christianapparel #faithbasedapparel #christiantees #Godislove #bibleverse #Jesus #Blacklivesmatter #ChristianQuotes #Holybible #christianity #dailyreminder #blessed #affirmation #notetoself #church  https://t.co/tCVyBX9wB2\n",
      "1465078050899431430 2021-11-29 01:00:01 +0300 <OldMainBell> DING* ding. Ding? ding, ding... #PennState #BlackLivesMatter #JusticeForAll\n",
      "1465077503891054602 2021-11-29 00:57:51 +0300 <politicforsport> SPEAK YOUR TRUTH ⚖️🔧 #BlackStories #BlackLivesMatter #PoliticianforSport\n",
      "1465077228358746113 2021-11-29 00:56:45 +0300 <USCGamecockBoy> #America #BlackLivesMatter\n",
      "1465077226051813380 2021-11-29 00:56:45 +0300 <NicetyAF> @gypsybeepie @FreedomOvertime @CNN #Equality and #justice sounds like calling for 'blood in the streets'????  Your ears MUST be clogged  #BlackLivesMatter\n",
      "1465076792474148869 2021-11-29 00:55:01 +0300 <AVALANCHE_RAP>  https://t.co/oBJjY9RzkV #blacklivesmatter #blackpower\n",
      "1465076721623969799 2021-11-29 00:54:44 +0300 <Emnet04677231> #NoMore #imperialism! #NoMore #Neocolonialism  #NoMore #Divideandrule #NoMore interference in the internal affairs of #Ethiopia #EthiopiaPrevails #BlackLivesMatter #AfricaUnite\n",
      "1465076692536500224 2021-11-29 00:54:37 +0300 <shazlns> Last words ........ #BlackLivesMatter\n",
      "1465076074442809347 2021-11-29 00:52:10 +0300 <GuardianAng> Go fund me for wrongly accused and convicted #anthonybroadwater !!! Please RT. #BlackLivesMatter\n",
      "1465075781705469959 2021-11-29 00:51:00 +0300 <Anti_Fascist247> Amerikkka is using immigrants /other races to suppress #BlackLivesMatter 🤷🏾‍♂️ https://t.co/xCHnkAVpoQ\n",
      "1465075762944524288 2021-11-29 00:50:56 +0300 <Sam52160989> Italia Marie Kelly   #SayTheirNames #BlackLivesMatter\n",
      "1465075674436280320 2021-11-29 00:50:35 +0300 <Emnet04677231> @_hudsonc #NoMore #imperialism! #NoMore #Neocolonialism  #NoMore #Divideandrule #NoMore interference in the internal affairs of #Ethiopia #EthiopiaPrevails #BlackLivesMatter #AfricaUnite @BLMLA\n",
      "1465075021425094661 2021-11-29 00:47:59 +0300 <icantbreathetoo> What \"oppression\" looks like in some countries #blm #blacklivesmatter #woke #rittenhouse #leftist  https://t.co/QTEPLX54IT\n",
      "1465074608726495253 2021-11-29 00:46:21 +0300 <KingsleyCato> One must be energized by fear and not paralyzed by it. #BLM  #BlackLivesMatter  #AllLivesMatter\n",
      "1465074537062486019 2021-11-29 00:46:04 +0300 <BotDefund> It's time to #DefundTheGlenRidgePolice #BlackLivesMatter\n",
      "1465073763666513929 2021-11-29 00:42:59 +0300 <ElenaRi71156636> . #NYPD  @NYPDDetectives   @NewYorkFBI  #BlackLivesMatter   #BLM  #AfricanAmerican   #WTF .\n",
      "1465073710218493954 2021-11-29 00:42:46 +0300 <_Mikextreme_> @elzorrodetuitel #BlackLivesMatter\n",
      "1465073696947810309 2021-11-29 00:42:43 +0300 <LegalLoofah> Leftists don't care about the little guy. They only care to advance radical change.  Big biz are safe from SF's organized crime sprees, because they can pay for security. Small biz is screwed. The Left caused it and won't end it. #SocialistSunday #BlackLivesMatter #CrimeWatch\n",
      "1465073526667419649 2021-11-29 00:42:03 +0300 <say_the_names> Terrence Crutcher #BlackLivesMatter\n"
     ]
    }
   ],
   "source": [
    "c = twint.Config()\n",
    "c.Search = '#blacklivesmatter'\n",
    "c.Limit = 300\n",
    "twint.run.Search(c)"
   ]
  },
  {
   "cell_type": "markdown",
   "id": "4e637c0c",
   "metadata": {},
   "source": [
    "## Store as Pandas DataFrame"
   ]
  },
  {
   "cell_type": "code",
   "execution_count": 49,
   "id": "2d71a86a",
   "metadata": {},
   "outputs": [
    {
     "name": "stdout",
     "output_type": "stream",
     "text": [
      "1465143900574785540 2021-11-29 05:21:41 +0300 <elonmusk> @SawyerMerritt This is true. Also, Tesla employees get health insurance, stock &amp; other benefits.\n",
      "1465043882618540045 2021-11-28 22:44:15 +0300 <elonmusk> @dciuzio @JonErlichman @SpacGuru 🤣\n",
      "1464706955130269702 2021-11-28 00:25:25 +0300 <elonmusk> @lexfridman Nice\n",
      "1464507751262875651 2021-11-27 11:13:51 +0300 <elonmusk> @WholeMarsBlog The most ironic outcome is the most likely\n",
      "1464507322114342912 2021-11-27 11:12:09 +0300 <elonmusk> @EvaFoxU @teslaownersSV Yeah\n",
      "1464506658520899592 2021-11-27 11:09:31 +0300 <elonmusk> @teslaownersSV Hypothetically, if they did make lots of electric cars, then they would be the leader\n",
      "1464423352295165954 2021-11-27 05:38:29 +0300 <elonmusk> @mdad8200 @existentialcoms Exactly\n",
      "1464419275398123526 2021-11-27 05:22:17 +0300 <elonmusk> @mishaboar Good thread\n",
      "1464398343103258628 2021-11-27 03:59:06 +0300 <elonmusk> @WholeMarsBlog Figuratively &amp; literally\n",
      "1464395375469600777 2021-11-27 03:47:19 +0300 <elonmusk> @todd_gleason @kimpaquette Yup\n",
      "1464394944395857920 2021-11-27 03:45:36 +0300 <elonmusk> @ajtourville We learned our lesson with $465M DoE loan received in 2010/2011 – onerous terms exceed value of money received. That’s why we paid it back so early, despite an early repayment penalty.\n",
      "1464393595146878976 2021-11-27 03:40:14 +0300 <elonmusk> @kimpaquette Must be nice living in Cloud Cuckoo Land\n",
      "1464315008322576385 2021-11-26 22:27:58 +0300 <elonmusk> @timetravelart Maybe drive an upright Falcon 9 past the White House flying a giant Stars &amp; Stripes with a marching band playing “I can see clearly now”?\n",
      "1464313451526959110 2021-11-26 22:21:47 +0300 <elonmusk> @PPathole @SpaceX That’s our initial interstage design that we scrapped\n",
      "1464221594881081350 2021-11-26 16:16:46 +0300 <elonmusk> @existentialcoms Combined Tesla+SpaceX market cap is now over $1.2T, which means “$4.9B” is less than 0.4% of combined company value\n",
      "1464215665380892678 2021-11-26 15:53:13 +0300 <elonmusk> @marenkahnert @Kristennetten @RationalEtienne @FalkenSchwer @NuovaRealta @PPathole @WholeMarsBlog @EvaFoxU @Tesla It has always been Tesla’s view that all subsidies should be eliminated, but that must include the massive subsidies for oil &amp; gas.   For some reason, governments don’t want to do that …\n",
      "1464016169040584707 2021-11-26 02:40:29 +0300 <elonmusk> @ID_AA_Carmack Great speech, couldn’t agree more!\n",
      "1464012616792219648 2021-11-26 02:26:22 +0300 <elonmusk> @teslaownersSV Great, hope yours is too!\n",
      "1464012344120512517 2021-11-26 02:25:17 +0300 <elonmusk> @teslaownersSV Haha true\n",
      "1464000520616558592 2021-11-26 01:38:18 +0300 <elonmusk> @GailAlfarATX @SpaceX @RGVaerialphotos @cnunezimages @kanyewest @SciGuySpace @Erdayastronaut @dogecoin @BillyM2k @austinbarnard45 @NASA Absolutely!\n"
     ]
    }
   ],
   "source": [
    "c = twint.Config()\n",
    "c.Limit = 1\n",
    "c.Username = 'elonmusk'\n",
    "c.Pandas = True\n",
    "\n",
    "twint.run.Search(c)\n",
    "\n",
    "Tweets_df = twint.storage.panda.Tweets_df"
   ]
  },
  {
   "cell_type": "markdown",
   "id": "946296be",
   "metadata": {},
   "source": [
    "## EXTRACTION OF DATA TO BE CLEANED ANALYSED\n",
    "Let us display and save the tweet result in .csv format using save config. However, here I am saving the results in pandas by writing my own function."
   ]
  },
  {
   "cell_type": "code",
   "execution_count": 50,
   "id": "3ea0c2a2",
   "metadata": {},
   "outputs": [
    {
     "name": "stdout",
     "output_type": "stream",
     "text": [
      "1465171194517221378 2021-11-29 07:10:08 +0300 <PPTVHD36> แพทย์ผู้ค้นพบโควิด-19 โอไมครอน เตือนทั่วโลกอย่าตื่นตระหนก พบเบื้องต้นผู้ป่วยอาการไม่รุนแรง รักษาตัวที่บ้านได้ ให้รอผลวิจัยละเอียดใน 2 สัปดาห์   https://t.co/QFWRHgxIgm  #PPTVHD36 #ช่อง36 #เรื่องข่าวเรื่องใหญ่ #ไวรัสโคโรนา #โควิด19 #COVID19 #แอฟริกาใต้ #โอไมครอน #ข่าวต่างประเทศ\n",
      "1465171182064443392 2021-11-29 07:10:06 +0300 <the_hindu> Three years after the Department of Telecom permitted WiFi services on commercial flights, it is yet to become a reality for domestic air travellers as airlines grapple with the huge installation costs and the impact of #COVID19 on passenger demand.  https://t.co/q5wmcVIMfk\n",
      "1465171174304845831 2021-11-29 07:10:04 +0300 <journsuresh> 8,309 Fresh covid cases in India in the last 24 hours. #COVID19  #India #TamilNadu\n",
      "1465171170261495808 2021-11-29 07:10:03 +0300 <osteomath> @veggie64_leslie ... except that Senator Paul is correct that natural immunity should be taken more appropriately into account for risk of spread #COVID19\n",
      "1465171165308203011 2021-11-29 07:10:02 +0300 <DeccanHerald> #France's Health Ministry said it had possibly detected eight cases of the #Omicron variant of the coronavirus across the country.  #COVID19   https://t.co/68fWes2VZV\n",
      "1465171160207749128 2021-11-29 07:10:00 +0300 <pawan_lalchand> #Omicron New Covid Variant  दक्षिण अफ़्रीका से दिल्ली होते मुंबई पहुंचा 32 वर्षीय शख़्स निकला कोरोना पॉजीटिव  कहीं ओमीक्रॉन की दस्तक तो नहीं?  मचा हड़कंप  #NewVariant #SouthAfrica #COVID19    https://t.co/LLJzzBrpQ5\n",
      "1465171158458896390 2021-11-29 07:10:00 +0300 <Supreme_Cat87> I #literally just got #over my #cold (#sickness) in 4 days #without any #medicine or #medication #period #read that #again fuck #covid19 #omicron\n",
      "1465171157951434759 2021-11-29 07:10:00 +0300 <khaleejtimes> The #UAE has administered at least one dose of a Covid-19 vaccine to 100% of all eligible residents. It means that most of the target groups are now protected against #Covid19.  Read more:  https://t.co/Id85vqRVd4  https://t.co/fXHGOVtSOq\n",
      "1465171157758332931 2021-11-29 07:10:00 +0300 <EfectoCocuyo> #SepaQue Cuba envió a Venezuela una nueva partida de vacunas contra #COVID19, El envío es parte del acuerdo por el que Venezuela recibirá hasta final de año 16 millones de dosis de la vacuna Abdala, según Nicolás Maduro.    Lee más ⬇️  https://t.co/bsWvC4ye10\n",
      "1465171121808941056 2021-11-29 07:09:51 +0300 <kforkandarp> भारत से जो लोग विदेश जाते हैं वो विदेश में ही रहें, भारत वापिस आके यहाँ पर महामारी और गंदगी न फैलाएं #Omicron #COVID19\n",
      "1465171116767555589 2021-11-29 07:09:50 +0300 <ChairoBatman> #OraciónDeLaNoche #OracionDiaria declaramos que los poderes del dinero , las corporaciones y los que deciden la ley del hombre  son sometidos a ti para evitar mas daños de su parte y del monstruo del coronapuerco #COVID19 y sus demonios, tropieza sus amenazas y a ellos y al miedo  https://t.co/69an0EkZXI\n",
      "1465171100506099713 2021-11-29 07:09:46 +0300 <No__5_6_7__Nou> COVID19大戦 2022 〜世界「オミ」喰い〜\n",
      "1465171099994447878 2021-11-29 07:09:46 +0300 <RealTonyOoz> #COVID19 #VaccineSideEffects #RHOP #LopezKambosos #Showtrial #spaaja #MunawarFaruqi #Echappee\n",
      "1465171099398725632 2021-11-29 07:09:46 +0300 <BrandRadianz> “The world is clearly divided on many issues, but surely, they do have the same experience when it comes to the common ills” -Excerpt from “Nobody Speaks To Me” book #CSR #SDGs #Sustainability #HR  #ClimateChange  #ForPeopleForPlanet #COVID19 #COP26 #CircularEconomy #peace #calm  https://t.co/0j0812ivMC\n",
      "1465171099088408577 2021-11-29 07:09:46 +0300 <Marathi_Akshay_> दक्षिण आफ्रिकेच्या सर्व फलाईटस बंद करा आणि बाहेरच्या देशातून आलेल्या लोकांची कडक कोरोना तपासणी करा. परत टाळेबंदीची नामुष्की ओढावून सामान्य जनतेला वेठीस धरू नका. अगोदरच सर्व पावले उचलावीत! @PMOIndia @CMOMaharashtra  #COVID19 #OmicronVariant\n",
      "1465171096798326794 2021-11-29 07:09:45 +0300 <Jkm567> #OMICRON Variant of Covid19 may be causing mild infections &amp; not need hospitalization- Dr of South Africa who 1st identified the Variant.The symptoms of the infected may b different from #DeltaVariant. @HFWOdisha @SRC_Odisha @SecyChief @MoSarkar5T  https://t.co/lcZjJgFagL\n",
      "1465171096081080320 2021-11-29 07:09:45 +0300 <ThaiEnquirer> The Thai Government is more concerned with the cross-border spread of Covid-19 than a new covid variant found in South Africa, a senior doctor at Siriraj Hospital told Thai Enquirer on Monday.  #Thailand #Covid19 #Omicron #โอไมครอน #โควิดสายพันธุ์ใหม่  https://t.co/m4oSysClzB\n",
      "1465171094789185538 2021-11-29 07:09:45 +0300 <_NataliaAlmeida> Hoy toca vacuna ! #UruguaySeVacuna #COVID19 💪🙂\n",
      "1465171077932351490 2021-11-29 07:09:41 +0300 <CirebonRadio> Selain taat menjalani protokol kesehatan, vaksin adlh cara agar kita bs mengakhiri pandemi #COVID19 Ingin tahu dimana Anda bs divaksin? Hubungi puskesmas a/ fasilitas kesehatan terdekat Ayo ajak org yg Anda kenal agar divaksin sesuai waktunya  supported by: Cirebon Radio &amp; Unicef  https://t.co/3s5npDr6kb\n",
      "1465171047603486724 2021-11-29 07:09:33 +0300 <cogito_cogitas> @CristianTerhes  🔴#France 🇫🇷 Suite de 🎥 Hold-Up : 🎥 Hold On Le film événement  #Vaccine #COVID19  Primum (Non) Nocere… de @BarneriasPierre  https://t.co/UtlyaVIEgH\n",
      "1465171039470514178 2021-11-29 07:09:32 +0300 <adwaitsm> #Omicron #OmicronVariant   Learnt an important and crutial information on Omicron varient of #COVID19 .   Omicron is ओमायक्रॉन Just like Biden is बायडन\n",
      "1465171014187241473 2021-11-29 07:09:26 +0300 <propc2020> @SolomonYue @nbc It is more imperative for all nations to #BoycottBeijing2022  completely, then to roll with the problem &amp; resort to countermeasures such as urge to reduce viewership #BoycottNBC2022 . How do best athletes compete in a place responsible for #COVID19? @WIONews @FoxNews @republic\n",
      "1465171012107096064 2021-11-29 07:09:25 +0300 <therawstatus> #Omicron #COVID19 #covidvaccine  https://t.co/FRtxWl5ED2\n",
      "1465171000018890756 2021-11-29 07:09:22 +0300 <BrandRadianz> “The world is clearly divided on many issues, but surely, they do have the same experience when it comes to the common ills” -Excerpt from “Nobody Speaks To Me” book #CSR #SDGs #Sustainability #HR  #ClimateChange  #ForPeopleForPlanet #COVID19 #COP26 #CircularEconomy #peace #calm  https://t.co/p0rGEA94k5\n",
      "1465170973423022080 2021-11-29 07:09:16 +0300 <Jas_2101> Go Corona Go  #COVID19  #Omicron 😫  https://t.co/LtW2ljl0JU\n",
      "1465170972974088197 2021-11-29 07:09:16 +0300 <YKurniawandy> @maiadestya Sesuai janji kampanye... \"Kita siapkan kolamnya\".. 🤣🤣🤣🤣  Btw mungkin ini juga bagian dr makna simbolis tugu peti mati buat warga jakarta... Covid19+DBD = ....\n",
      "1465170970088710144 2021-11-29 07:09:15 +0300 <stalk_f> ・・・。#岸田政権 #自民党 #新型コロナ #COVID19 #感染症対策\n",
      "1465170964375822336 2021-11-29 07:09:14 +0300 <RadioGranma> #Manzanillo🇨🇺😷 ante la nueva normalidad es necesario #ActuarResponsable, no perder la disciplina y el cumplimiento de las normas higiénico sanitarias establecidas.. 👉🔴Recuerda la #Covid19 aún nos acecha!!!!  #PonleCorazón #CubaVive  https://t.co/IHG1SXRDaT\n",
      "1465170941986492416 2021-11-29 07:09:08 +0300 <RealBenisons> @ashishkjha @WHCOS hope that's all true  + I hope @WhiteHouse grasps that containing #COVID19, including this new #OmicronVariant, depends on targeting the pathogen, not the passports  targeting countries *seems* to amount to doing something, while covid is barely alive, but  https://t.co/HoPrIilq3j\n",
      "1465170938215813121 2021-11-29 07:09:07 +0300 <ABPNews> महाराष्ट्र के भिवंडी के एक वृद्धाश्रम में कोरोना विस्फोट, 69 बुजुर्गों को हुआ कोविड  @anchorjiya  @surajojhaa की रिपोर्ट   #NewCoronaVariant #OmicronVariant #Omicron #COVID19 #Maharashtra #India  https://t.co/tepmssPrLp\n",
      "1465170920272642048 2021-11-29 07:09:03 +0300 <BrandRadianz> “The world is clearly divided on many issues, but surely, they do have the same experience when it comes to the common ills” -Excerpt from “Nobody Speaks To Me” book #CSR #SDGs #Sustainability #HR  #ClimateChange  #ForPeopleForPlanet #COVID19 #COP26 #CircularEconomy #peace #calm  https://t.co/xIRk4kUVTq\n",
      "1465170906196725761 2021-11-29 07:09:00 +0300 <newsmerahputih> Kasus COVID-19 RI turun 99,3 persen, Menkominfo: Tetap patuhi prokes.  #merahputihcom #COVID19 #Indonesia #prokes  https://t.co/C6J3SSVJz7\n",
      "1465170904619569158 2021-11-29 07:08:59 +0300 <ajblight> @DHSCgovuk A question: I’m traveling to the UK in a few weeks and am fully vaccinated for COVID19. Can I complete my PCR test BEFORE leaving, or must I complete it once I arrive? Thank you!\n",
      "1465170894628614154 2021-11-29 07:08:57 +0300 <BigBadDenis> Moderna prepared to develop Omicron booster if needed  More here:  https://t.co/DXDio0S6PL #Moderna #OmicronVariant #COVID19  https://t.co/dpbyijZewb\n",
      "1465170889918480392 2021-11-29 07:08:56 +0300 <theaseanpost> \"We are raising a red flag.\" #Omicron #COVID19 #Pandemic #Borders #Global  https://t.co/gqT6MtzBff\n",
      "1465170884663123977 2021-11-29 07:08:55 +0300 <meitli73> Lasst Euch #impfen und weiterhin gilt #maskeauf und #StayAtHome 🏠 #COVID19 #Omicron\n",
      "1465170840987725824 2021-11-29 07:08:44 +0300 <sangeetanarayan> A cup of turmeric milk helps fight cold, cough, inflammation etc. For the recipe, watch the video.#SouthAfrica #Omicron #OmicronVariant #Delta #COVID19 #India #Maharashtra #Delhi  ...  https://t.co/8mlUZeOkNy via @YouTube\n",
      "1465170822562205705 2021-11-29 07:08:40 +0300 <EvanMillward> NOW ON @WCPO: - @RavenWCPO temp changes ahead #cincywx - @KendriaLafleur man killed outside Walmart remembered - @OttilieMadeline busiest travel day of the season at @CVGairport - #COVID19 Omicron - @hcollaborative on what it actually means - @KJMSingleton Bengals sweep Steelers\n",
      "1465170817470369802 2021-11-29 07:08:39 +0300 <cogito_cogitas> @JuvingBrunet  🔴#France 🇫🇷 Suite de 🎥 Hold-Up : 🎥 Hold On Le film événement  #Vaccine #COVID19  Primum (Non) Nocere… de @BarneriasPierre  https://t.co/UtlyaVIEgH\n",
      "1465170808251187209 2021-11-29 07:08:36 +0300 <MsiaHariIni> Satu kes positif #COVID19 dikesan di pintu masuk Malaysia hari pertama Perjalanan Lengkap Vaksin (VTL) Malaysia-Singapura - @Khairykj   @KKMPutrajaya  #ReopeningSafely  https://t.co/zWOCAB5YTm\n"
     ]
    },
    {
     "name": "stdout",
     "output_type": "stream",
     "text": [
      "1465170800697298944 2021-11-29 07:08:35 +0300 <CarloGrims> #lockdown #COVID19 #Covid_19 #vaccine\n",
      "1465170799178838022 2021-11-29 07:08:34 +0300 <pugnare_retro> As at 5pm, the covid19 website administrators are still scrambling to update the contents with the sh*t Jacinda just made up.  https://t.co/kslrKsMNCV\n",
      "1465170776517226505 2021-11-29 07:08:29 +0300 <Libservativepod> Can he say this?? Is this allowed?? I’m scared!!! #Omicron #COVID19\n",
      "1465170765792391171 2021-11-29 07:08:26 +0300 <pastywhiteguy> For priding ourselves on safety by spending 7,788 billion on the military (number one in the world). We are also number one in the with 799,414 Covid deaths. Just seems bizarre to me. #COVID19 #cutmilitaryspending #defundthemilitary #InfrastructureBill\n",
      "1465170765758623750 2021-11-29 07:08:26 +0300 <G_Woodhouse> Wish vaccine mandates for teachers has been brought in earlier - the quality of teachers at my daughters’ old school has now improved significantly!!!  #VaccineMandate #COVID19 @NSWEducation\n",
      "1465170751334621185 2021-11-29 07:08:23 +0300 <phasi_mthimunye> @LeeAnneB14 @MzwaneleManyi @eNCA Flu is a genre. It is a respiratory illness caused by viral infection. It is highly contagious and transmitted in droplets when a a person talk, sneeze or caughs.  Covid19 also has these features and therefore is a type of flu. Like a migraine and headache.\n",
      "1465170749522513920 2021-11-29 07:08:22 +0300 <mumbaitak> दक्षिण आफ्रिकेतून डोंबिवलीत परतलेला प्रवासी निघाला कोरोना पॉझिटिव्ह  सविस्तर वृत्त &gt;&gt;  https://t.co/4JJqZ2uzci  #Maharashtra #mumbai #MarathiNews #COVID19 #OmicronVariant #Omicron  📸IndiaToday  https://t.co/mrR11Kp9L6\n",
      "1465170734330925065 2021-11-29 07:08:19 +0300 <MorningLiveSABC> President #CyrilRamaphosa says South Africa will remain on level one of the #COVID19 lockdown, but urge citizens to vaccinate.  @SakinaKamwendo has top stories on #MorningLiveSABC. #SABCNews #NewVariant\n",
      "1465170718019100674 2021-11-29 07:08:15 +0300 <TNNavbharat> #Mumbai से सटे भिवंडी के मातोश्री वृद्धाश्रम में मिले कोविड के 67 केस, 62 लोगों को लग चुकी थी वैक्सीन की दोनों डोज  @JyotsnaBedi @Shivani703 #COVID19  https://t.co/AdBnAaU5gC\n",
      "1465170705683787781 2021-11-29 07:08:12 +0300 <avivajazz> Omicron Objectivity • Dr. John Campbell #COVID19 #Variant  https://t.co/U12MsheznO via @YouTube\n",
      "1465170704337301506 2021-11-29 07:08:12 +0300 <uttaratoday> Covid19: देश में मिले कोरोना के 8,309 नए मामले, 236 की मौत  https://t.co/HlrXwb7qDg #Corona #Covid19 #CoronaVirus #CoronaVirusInIndia\n",
      "1465170688013131784 2021-11-29 07:08:08 +0300 <Gilo_J> If you believe in the #mrna vaccines (@pfizer &amp; @moderna_tx) and all they have been telling us the new strain should not scare you #COVID19\n",
      "1465170682770345995 2021-11-29 07:08:06 +0300 <AViverosNoticia> JORNADA RURAL EMERGENTE DE VACUNACIÓN COVID ESTE LUNES EN SAN JOSÉ DE GRACIA, AGS  #Aguascalientes #Vacunación #Covid19  https://t.co/rDdcJKhmP7\n",
      "1465170660930555906 2021-11-29 07:08:01 +0300 <cogito_cogitas> @alexiskarklins  🔴#France 🇫🇷 Suite de 🎥 Hold-Up : 🎥 Hold On Le film événement  #Vaccine #COVID19  Primum (Non) Nocere… de @BarneriasPierre  https://t.co/UtlyaVIEgH\n",
      "1465170654613807108 2021-11-29 07:08:00 +0300 <Milenio> #UNAM advierte que fiestas decembrinas podrían provocar rebrote de #Covid19  https://t.co/YRxyum6aYf  https://t.co/BiCAEzjy1V\n",
      "1465170620312956935 2021-11-29 07:07:52 +0300 <JterReehorst> Daar staan ze....... het fantastische covid beleid van @MinPres en @hugodejonge  🙊🙉🙈 in 1 nummer weergegeven.  Grappig 😂😂😂 maar eigenlijk ook triest..... #codezwart #COVID19\n",
      "1465170609713909760 2021-11-29 07:07:49 +0300 <norrthpier> @atrupar One good class action lawsuit will end all of the #COVID19  misinformation bull----.\n",
      "1465170591346950151 2021-11-29 07:07:45 +0300 <SocialWorkerPD> #Omicron should be the new hot Crypto to invest in. The name deserves better than this. @elonmusk should have coined the name before the @WHO geeked out over chips and Mountain Dew.  #COVID19 #OmicronVariant #cryptocurrencies #Corona #SpiderManNowWayHome 👀  ☝🏻\n",
      "1465170578231504900 2021-11-29 07:07:42 +0300 <Betsheva> 2dosisdía92: A lo largo de esta #pandemia las clases fueron en línea, pero, la amistad viajó más allá. Esta bella mujer me permitió compartir con ella y su esposo #diadeaccióndegracias .Lo disfrutamos tanto q las #fotos se dieron después de comer. #coronavirus #covid19 #ómicron  https://t.co/KyomOJzRXo\n",
      "1465170576788668421 2021-11-29 07:07:41 +0300 <__4real___> Today's statistics worldwide #COVID19  https://t.co/GOFgAaIuBN\n",
      "1465170566944473090 2021-11-29 07:07:39 +0300 <htlifeandstyle> Some German politicians insist a #COVID19 vaccine mandate would divide society. Others argue it would be unconstitutional. Ines Eisele believes these are weak arguments and an excuse to do nothing. @htTweets   https://t.co/om3ybrn6IP\n",
      "1465170564432154636 2021-11-29 07:07:38 +0300 <jgandreu> Interesante artículo sobre la nueva variante de #COVID19 . Sigamos cuidándonos. No hay más\n",
      "1465170545608036357 2021-11-29 07:07:34 +0300 <rosie_k09> #CancelTerm1 #CancelCBSEICSEEXAMS #Omicron #COVID19 #OmicronIsAirborne #Unvaccinated  @cbseindia29 @PMOIndia\n",
      "1465170526238818307 2021-11-29 07:07:29 +0300 <cogito_cogitas> @DoReMi_Patriote  🔴#France 🇫🇷 Suite de 🎥 Hold-Up : 🎥 Hold On Le film événement  #Vaccine #COVID19  Primum (Non) Nocere… de @BarneriasPierre  https://t.co/UtlyaVIEgH\n",
      "1465170521050390533 2021-11-29 07:07:28 +0300 <AnilAnnaiah> “The world is clearly divided on many issues, but surely, they do have the same experience when it comes to the common ills” -Excerpt from “Nobody Speaks To Me” book #CSR #SDGs #Sustainability #HR  #ClimateChange  #ForPeopleForPlanet #COVID19 #COP26 #CircularEconomy #peace #calm  https://t.co/uGJK2wY3nB\n",
      "1465170506764591105 2021-11-29 07:07:25 +0300 <hsanusi> @vonnycornellya_ Rest in peace, tetap waspada covid19 masih ada..\n",
      "1465170494936821762 2021-11-29 07:07:22 +0300 <locutorpanama> 28 de noviembre, 2021  Entrevista al Dr. Eduardo Barría por la periodista Flor Mizrachi, didáctica, actualiza la situación del covid19 en  Panamá y responde a preguntas de cifras estadísticas que no son dadas a diario por el MINSA.   https://t.co/Raq1cBjmue\n",
      "1465170489832349704 2021-11-29 07:07:20 +0300 <9_is_me> In the night of November 28, the Ministry of Health under the #Junta announced that 350 new #Covid19 cases and nine new deaths had been confirmed in one day. #Nov29Coup  #NoFlyZoneInMyanmar #WhatsHappeningInMyanmar #HelpMyanmarIDPs  https://t.co/Rl6tK6KgMa\n",
      "1465170486518816775 2021-11-29 07:07:20 +0300 <epistolitas> Ante la cuarta ola de #COVID19 los profes necesitan la Pfizer  https://t.co/m9RAwahGrq\n",
      "1465170476565557249 2021-11-29 07:07:17 +0300 <TabascoHOY> #México 🇲🇽| La Secretaría de Salud (@SSalud_mx) informó que durante las últimas horas se registraron mil 50 nuevos contagios y 38 defunciones por #COVID19.   https://t.co/6GS5bM6lDw\n",
      "1465170466931306499 2021-11-29 07:07:15 +0300 <MattMichalski> I understand everyone wants things to be normal again, but ask yourself this: Did you get vaccinated by your choice? Did you feel like you had no choice? If you were made to feel like you didn't have a choice, would you have done it? #covid19\n",
      "1465170453568241664 2021-11-29 07:07:12 +0300 <ImagenTVMex> La @SSalud_mx informó que hay 3 millones 883 mil 842 casos confirmados acumulados de #COVID19; agregó que existen 22 mil 034 casos activos estimados.   Más información en #ImagenNoticias #ImagenInforma #SéFuerteMéxico #QuédateEnCasa  https://t.co/Hn8WtOudzd\n",
      "1465170412086640647 2021-11-29 07:07:02 +0300 <BrianDude> Via @euronews: Could this nasal spray be the solution to preventing and treating all COVID variants?  https://t.co/gQkfKNDxnF  #COVID19 #Omicron #OmicronVarariant #coronavirus #Variant #Science #bluewave2022\n",
      "1465170401168789504 2021-11-29 07:06:59 +0300 <AnilAnnaiah> “The world is clearly divided on many issues, but surely, they do have the same experience when it comes to the common ills” -Excerpt from “Nobody Speaks To Me” book #CSR #SDGs #Sustainability #HR  #ClimateChange  #ForPeopleForPlanet #COVID19 #COP26 #CircularEconomy #peace #calm  https://t.co/2b0IjHQe04\n",
      "1465170399742750725 2021-11-29 07:06:59 +0300 <BANIBRATADATT1> It is not yet clear whether the #Omicron #Covid19 variant is more transmissible, or causes more severe disease compared to other variants, including #Delta, the World Health Organization (#WHO) has said.  https://t.co/Ipofus7WtU\n",
      "1465170380302209031 2021-11-29 07:06:54 +0300 <NewsDigestWeb> 【徳島県 きょうの新規感染者ゼロ 16日連続】  徳島県+0（合計3291人） ※徳島県は29日、県内で新たな感染者は確認されなかったと発表した。新規感染者数ゼロは16日連続  詳細は下記URLより：  https://t.co/oEslL3ucOx  #新型コロナウイルス #COVID19  https://t.co/M1UTEb2aMz\n",
      "1465170376686772227 2021-11-29 07:06:54 +0300 <visionpolitica7> Al corte de este domingo 28 de noviembre, 8 municipios de #Oaxaca registraron nuevos casos positivos de #COVID19.  #SiTeCuidasTúNosCuidamosTodos #MeCuido #PorAmorALaVida  https://t.co/ofdKpziOPb\n",
      "1465170375680135170 2021-11-29 07:06:53 +0300 <bettycjung> November 28, 2021 9:20 PM EDT Real-time mapping of #COVID19  #nCov (2019-nCoV) Global Cases (Confirmed Cases and Total Deaths)   https://t.co/oqeBcFG6H9     Daily New Cases: 458,339 (Bad news) Daily New Deaths: 5,058  https://t.co/nriH6eZExK\n",
      "1465170372555259906 2021-11-29 07:06:53 +0300 <aavishhkar> People who can WORK FROM HOME productively &amp; comfortably SHOULD NOT be forced to join/come to offices. Absolutely no logic in it.   #Corona #COVID19 #OmicronVariant #Omicron\n",
      "1465170348668821505 2021-11-29 07:06:47 +0300 <kwaailight> @AfricaMelane you are spreading wrong Covid19 info. Vaccinated and unvaccinated people are NOT at the same risk of contracting Covid19.  https://t.co/IxaLkRhbk4\n"
     ]
    },
    {
     "name": "stdout",
     "output_type": "stream",
     "text": [
      "1465170335989317636 2021-11-29 07:06:44 +0300 <OaxacaesNoticia> Este 28 de noviembre, se contabilizaron un total de 226 casos activos de #COVID19 en 59 municipios de la entidad.   📌 Aplica con disciplina todas las medidas sanitarias para mitigar la pandemia en #Oaxaca.  #SiTeCuidasTúNosCuidamosTodos  https://t.co/fWIfR7oEDn\n",
      "1465170317052104704 2021-11-29 07:06:39 +0300 <visionpolitica7> Este 28 de noviembre, se contabilizaron un total de 226 casos activos de #COVID19 en 59 municipios de la entidad.   📌 Aplica con disciplina todas las medidas sanitarias para mitigar la pandemia en #Oaxaca.  #SiTeCuidasTúNosCuidamosTodos  https://t.co/qPjhPgC5wl\n",
      "1465170314204270599 2021-11-29 07:06:39 +0300 <asiulairam1> La ONU condena la \"casi absoluta\" impunidad de las desapariciones en México Y para cuando va a condenar @ONU_es que el presidente convoque a la gente a reunirse zócalo en plena pandemia #Omicron #Covid #COVID19 #COVIDIOTS #FelizDomingoATodos @PEspinosaC   https://t.co/4LUXUJby3y\n",
      "1465170310135644162 2021-11-29 07:06:38 +0300 <BatScientist> @RonFilipkowski If anyone in Arizona is missing a Thanksgiving turkey 🦃 it’s on Charlie Kirk’s head.   Approach with caution…\n",
      "1465170306952151040 2021-11-29 07:06:37 +0300 <pikiran_rakyat> Luhut Pandjaitan Minta Masyarakat Tidak Panik Terkait Covid-19 Varian Omicron #omicron #varianomicron #covid19 #corona #karantina #luhutbinsarpandjaitan #menkomarves  https://t.co/A1wexMmP7x via @YouTube\n",
      "1465170305899503623 2021-11-29 07:06:37 +0300 <cogito_cogitas> @Pierre_GTIL  🔴#France 🇫🇷 Suite de 🎥 Hold-Up : 🎥 Hold On Le film événement  #Vaccine #COVID19  Primum (Non) Nocere… de @BarneriasPierre  https://t.co/UtlyaVIEgH\n",
      "1465170303034683394 2021-11-29 07:06:36 +0300 <pu_pulse> #pupulse #Chandigarh #COVID19 #Corona #coronavirus #news  https://t.co/T5z6prrdpZ\n",
      "1465170295078064128 2021-11-29 07:06:34 +0300 <PandeyRaviG> You can't control circumstances but you can control your actions. We all know that but have you ever implemented this in your life? that's the biggest question. IMPLEMENT.  #morningmotivation #sfastservices #COVID19 #staymotivated\n",
      "1465170284370030599 2021-11-29 07:06:31 +0300 <NadeemNadu3> COVID19 | India reports 8,309 new cases, 236 deaths &amp; 9,905 recoveries in the last 24 hours; Active caseload at 1,03,859; lowest in 544 days: Ministry of Health and Family Welfare\n",
      "1465170278317637641 2021-11-29 07:06:30 +0300 <AnilAnnaiah> “The world is clearly divided on many issues, but surely, they do have the same experience when it comes to the common ills” -Excerpt from “Nobody Speaks To Me” book #CSR #SDGs #Sustainability #HR  #ClimateChange  #ForPeopleForPlanet #COVID19 #COP26 #CircularEconomy #peace #calm  https://t.co/QejBo5BUv2\n",
      "1465170277835460614 2021-11-29 07:06:30 +0300 <carytsang_tw> #PLANDEMIC Whenever there are plans to compel vaccination or stricten restrictions of personal freedom, there will be a new mutant, like #Omicron this time. Has been working like this over the past 2 years.  #COVID19  #State #DeepState #WatchOutForYourFreedom\n",
      "1465170272156209154 2021-11-29 07:06:29 +0300 <gaxy256> @nhk_news @3515361 やっと、 #COVID19 が、#デルタ株 が、収束したと思ったら、 今度は、#オミクロン株 かぁ…😱\n",
      "1465170269421457416 2021-11-29 07:06:28 +0300 <Gulf4121997> In the night of November 28, the Ministry of Health under the #Junta announced that 350 new #Covid19 cases and nine new deaths had been confirmed in one day. #Nov29Coup  #NoFlyZoneInMyanmar #WhatsHappeningInMyanmar #HelpMyanmarIDPs  https://t.co/qjgQDMTdM1\n",
      "1465170266963775489 2021-11-29 07:06:27 +0300 <lisamikolFL> @GoMtnBiking @JeremyStrongCo @paulsphilipson @pblowe2 @RandPaul You can get COVID19 more than once. Often, it’s worse the second time.\n",
      "1465170245639880709 2021-11-29 07:06:22 +0300 <ConservJean> #EcoHealthAlliance #PeterDaszak #Fauci #FauciLied #WakeUpAmerica #WakeUpEverybody #COVID19 #SARSCoV2 #Covid #CCPVirus #CCP @MichaelPSenger @BidoliNicola @RealPNavarro @R_H_Ebright @RWMaloneMD\n",
      "1465170222390808581 2021-11-29 07:06:17 +0300 <NTVJustIn> ఇండియాలో కొత్తగా 8309 కరోనా కేసులు, 236 మరణాలు నమోదు. ప్రస్తుతం దేశంలో యాక్టివ్‌ కేసుల సంఖ్య 1,03,859 గా నమోదు  #India #COVID19 #Corona\n",
      "1465170221665161217 2021-11-29 07:06:17 +0300 <DDNewsGujarati> ➡️દેશમાં કુલ રસીકરણ 1,22,41,68,929  ➡️ગઇકાલે 42,04,171 લોકોને અપાઇ રસી   #COVID19 #vaccine #LargestVaccineDrive  https://t.co/PHZiZTvbVt\n",
      "1465170221493334022 2021-11-29 07:06:17 +0300 <Gorgeouss_89> #Covid19 😫 My Girl Got This Though &amp; Imma Make Sure Of That ‼️🤞🏽💯🙏🏽  https://t.co/oCeMtlySGJ\n",
      "1465170159920898060 2021-11-29 07:06:02 +0300 <DeccanHerald> India reported 8,309 new Covid-19 cases on Monday and 236 related deaths.  #COVID19 #COVID19India  https://t.co/JLkkSe7qAM\n",
      "1465170147501494272 2021-11-29 07:05:59 +0300 <BANIBRATADATT1> Two people in the Canadian capital city of #Ottawa have tested positive for the highly transmissible #Omicron variant of #Covid19, according to the #Ontario provincial government.  https://t.co/Pig1J9tkpB\n",
      "1465170122402902021 2021-11-29 07:05:53 +0300 <WhiteNo01994319> Endlich!   https://t.co/e5pKA1PHod Bill #Gates vor Oberstem Gerichtshof in #Indien wegen Mordes mit #COVID19 -#Impfstoff angeklagt – Todesstrafe gefordert\n",
      "1465170119294816257 2021-11-29 07:05:52 +0300 <adv_antara> Children are vulnerable. #CancelTerm1 #CancelCBSEICSEEXAMS #Omicron #COVID19 #OmicronIsAirborne #Unvaccinated  https://t.co/JrnZDofkmL\n",
      "1465170109882769414 2021-11-29 07:05:50 +0300 <lapastasik1> HARI KORPRI KE-50  Diperingati secara Virtual Di Lapas Tasikmalaya  Tasikmalaya, 29/11/21 Ditengah pandemi COVID19 Lembaga Pemasyarakatan Kelas IIB Tasikmalaya peringati hari Korpri Ke-50 Tahun 2021 dengan upacara yang dilaksanakan secara virtual.  https://t.co/nINEKR9f99\n",
      "1465170107504730119 2021-11-29 07:05:49 +0300 <RosalynOlivo325> I’m so paranoid #Omicron #COVID19\n",
      "1465170102156886022 2021-11-29 07:05:48 +0300 <GabbarTalksNews> #BreakingNews 🔴  #COVID19: #India reports 8,309 new cases, 236 deaths in last 24 hours.  https://t.co/9DXAFDeVZX\n",
      "1465170086671515648 2021-11-29 07:05:44 +0300 <Usmsys> How Much Does It Cost To Develop Contact Tracing Apps like NHS COVID-19? for more information @  https://t.co/GUZ6xZSr9j #NHSCOVIDappdevelopmentcost #mobileappsinhealthcareindustry   #nhscovid19appdevelopmentcost #CostToDevelopContactTracingApp #COVID19 #NHS\n",
      "1465170070888321028 2021-11-29 07:05:41 +0300 <sarah_andros88> My Bacteria, called sars-covid19, just wiped out the world in 600 days!   https://t.co/cw9lXyk4gj #PlagueInc\n",
      "1465170064223703045 2021-11-29 07:05:39 +0300 <luckyngcobo66> @SihleMahamba Not even once and i was working at retail never even tested positive for covid19 🤔\n",
      "1465170056518770690 2021-11-29 07:05:37 +0300 <NikkeiAsia> The Japanese government has decided to halt allowing foreign business travelers and students to enter the country because of the emergence of the new COVID-19 variant omicron. Here are four things to know about the new variant.   https://t.co/zuo2cgZld2 #COVID19 #OmicronVariant\n",
      "1465170040790011908 2021-11-29 07:05:33 +0300 <ScienceNotDogma> Today I spent more time than I should have Refuting #vaccine and #COVID19 #misinformation, much of it b/c ppl just don't #vetsources.  Much of it ALSO spread by #antivaxxers who refuse to #LISTENtoExperts, even as more people keep dying, the vast majority of them unvaccinated.🙁\n",
      "1465170037866745867 2021-11-29 07:05:33 +0300 <Lightsaber666> @benfleckney @levarburton @SirPatStew @jonathansfrakes @BrentSpiner @Marina_Sirtis @akaWorf @gates_mcfadden Be thankful we have streaming services vs if the covid19 hit back in the 80, so u can watch just about anything being isolated.\n",
      "1465170014898737172 2021-11-29 07:05:27 +0300 <nc_doh> NORTHERN CAPE COVID-19 STATISTICS AS AT 28 NOVEMBER 2021  The National Department of Health announced an additional 23 people testing positive for #COVID19 in the Northern Cape in the past 24 hours.  https://t.co/L53xC0qbEi\n",
      "1465170012801740801 2021-11-29 07:05:27 +0300 <Globalcup17> #lowongankerja#OpenBooking#RekanCommuters#COVID19  https://t.co/KoTN92Awq2\n",
      "1465169977766342657 2021-11-29 07:05:18 +0300 <edwin_latham> #abc730 #auspol #auspol2021 #AuspolSoCorrupt #COVID19 #COVID19nsw #COVID19Vic #insiders #Melbourneprotest #sydneyprotests  https://t.co/aXp6EB76IG\n",
      "1465169965644795908 2021-11-29 07:05:16 +0300 <AJDAYTRADES> @TownAngele @Fight_2_Be_Free Media is helping in pushing fake #COVID19 variants to distract from #GhislaineMaxwellTrial\n",
      "1465169961794650117 2021-11-29 07:05:15 +0300 <WhiteNo01994319> Endlich!   https://t.co/e5pKA1PHod Bill #Gates vor Oberstem Gerichtshof in #Indien wegen Mordes mit #COVID19 -#Impfstoff angeklagt – Todesstrafe gefordert  https://t.co/Cq5IvgTGOV\n",
      "1465169940588085250 2021-11-29 07:05:10 +0300 <abhisheknilmani> खौफ... #Johannesburg #Airport #OmicronVariant #COVID19  https://t.co/nYzopLlwVT\n",
      "1465169927682228230 2021-11-29 07:05:06 +0300 <xpresstn> The #health dept is struggling to #vaccinate people in Coimbatore with the 2nd dose as many are hesitant to get jabbed assuming the pandemic has subsided. Coimbatore has recorded a slight rise in #COVID19 cases. #CovidVaccine  @deepaktnie @NewIndianXpress   https://t.co/2c4kcEargc\n",
      "1465169913232990209 2021-11-29 07:05:03 +0300 <RodolfoCondeco> “desfalcado de metade dos titulares por covid19”  Metade de 11 é 2 e não sabia 🤣  https://t.co/L9vIu81ouT\n"
     ]
    },
    {
     "name": "stdout",
     "output_type": "stream",
     "text": [
      "1465169901958610952 2021-11-29 07:05:00 +0300 <Philosopher_Jay> In South Africa, before the Omicron variant, from Oct. 1 to 28, there were 1,399 Covid19 deaths. The Omicron variant started on Nov 1. From Nov 1 to 28, there have been 623. That is a drop of 55% in deaths, lowest in 16 months. Why the hysteria before evidence of its lethality?  https://t.co/cKP7xlkHkZ\n",
      "1465169900448661511 2021-11-29 07:05:00 +0300 <bowie_regina73> 5 Day Lead Challenge!  https://t.co/FK8BCFUEZS I have joined this to help me figure out what do I want to do for an online business since COVID19 is very common where I live.  The easiest system I have found so far to set it up.\n",
      "1465169899735580673 2021-11-29 07:05:00 +0300 <YourAnonNews> Jet fuel AND wind at 600ft weaken loaded beams - there are no Alien Space craft, there are Hyper Sonic air craft - and Covid19 is not a Military weapon, Cointelpro is  Get a grip, some lube and your Jabs ASAP - you're worth it HT, don't be a sucker - YAN    https://t.co/BSef3IXIY0  https://t.co/mHp8RFDhMO\n",
      "1465169899538432014 2021-11-29 07:05:00 +0300 <mid_day> #MiddayNews |  #Mumbai’s new cases and TPR rise marginally  #COVID19    https://t.co/kyyUaXCnTQ\n",
      "1465169894815772677 2021-11-29 07:04:59 +0300 <covid19_trpc_jp> 【注意喚起】現在効果を検証中（未承認）の薬品を、新型コロナウィルスへの治療・予防に高い効果があるとして、個人輸入サイトに誘導する事例が通報されています。非常に危険な行為です。十分にお気を付けください。  #アビガン（抗ウイルス薬） #イベルメクチン（駆虫薬）   https://t.co/NhfOFW9uzf\n",
      "1465169883340148741 2021-11-29 07:04:56 +0300 <Alonzo_Golden> @blueheartedly Very much so! It's a blessing to have him on our side fighting against covid19!\n",
      "1465169868253110279 2021-11-29 07:04:52 +0300 <ModernAlgos> Is mkt really getting affected with new #Covid19 #Omicron? OR it is a mere HYPE,Irony is that, it'd already down by 1000 Pts from High 18600 &amp; then everyone is saying - mkts are falling due to new variant, may be - but there are other reasons as well.  #StockMarket #nifty50  https://t.co/446dQSnmcU\n",
      "1465169842961584131 2021-11-29 07:04:46 +0300 <CanHCBrunei> Beginning Nov. 30, the #GoC will expand its list of #COVID19 vaccines accepted for entry to Canada to include Sinopharm, Sinovac and COVAXIN.   Travellers must have received a full vaccine series at least 14 days before entry to Canada.   https://t.co/aFEIVduyYw  https://t.co/GmDcUqbdlZ\n",
      "1465169841707356162 2021-11-29 07:04:46 +0300 <_CMIE> Manufacturing jobs yet to recover  https://t.co/ns5Z4YGZ92 #employment #EconTwitter #CPHS #manufacturingjobs #cmie #COVID19  https://t.co/5GLVBgFwxM\n",
      "1465169804558434306 2021-11-29 07:04:37 +0300 <DISCERN97> 😂 what ever happened to vice? #COVID19  https://t.co/y4LQHStAz8\n",
      "1465169794236248069 2021-11-29 07:04:35 +0300 <indiatvnews> मथुरा में 3 विदेशी नागरिक कोरोना पॉजिटिव पाए गए  #Mathura #OmicronVariant #Covid19  https://t.co/0hVcT9wtfG\n",
      "1465169794215268354 2021-11-29 07:04:35 +0300 <IndiaTVHindi> मथुरा में 3 विदेशी नागरिक कोरोना पॉजिटिव पाए गए  #Mathura #OmicronVariant #Covid19  https://t.co/U6uCyORCCH\n",
      "1465169793095454729 2021-11-29 07:04:34 +0300 <mpho3435> A Texas governor tweeted. #USA  #SouthAfrica #COVIDIOTS #COVID19  https://t.co/9fjcT2GweG\n",
      "1465169788729061380 2021-11-29 07:04:33 +0300 <latasrinivasan> #COVID19 cases rising in #coimbatore looks like December is going to be a tough month @RAKRI1\n",
      "1465169762682552325 2021-11-29 07:04:27 +0300 <veekay122002> 5000 + teaching and non teaching staff refusing to vaccinate due to \"religious belief\". Govt of #kerala says OK .Anyone else will be suspended if they refuse the vaccine They opened the state during peak covid19 wave not to upset em . #appeasement #LiberalismIsAMentalDisorder\n",
      "1465169760333803520 2021-11-29 07:04:27 +0300 <Annah78748887> @MorningLiveSABC @SABC_2 @LeanneManas @SakinaKamwendo Good morning...if you really think you give us all we need to know...where are the journalists that used to give us the real news before these so called Covid19? you tell us what they tell you to do..no more real news becaus more pandemic news more pay for journalists 👎\n",
      "1465169743325900801 2021-11-29 07:04:23 +0300 <juank23_7> Primero una advertencia: Los datos aquí mostrados son \"muy preliminares para afirmar una alza en adelante\", por lo que todo podría cambiar. Sin embargo, es mejor prevenir que lamentar.  Desde el 02/11 el promedio de muertes diarias por #COVID19 en alza de 27 a 35 actualmente 🇵🇪  https://t.co/6I0BtQ4Fjq\n",
      "1465169741769691136 2021-11-29 07:04:22 +0300 <b6J6AFTma7cDA4q> @EARL_COVID19_tw 一部の富裕層しかまともに医療を受ける事が出来ない国においては、大多数の軽症・中等症は放置プレイだから、医療が窮迫する事は無いから、パニックにはならないでしょうよｗ\n",
      "1465169730176696322 2021-11-29 07:04:19 +0300 <Central_CM> La Secretaría de @SSalud_mx informó que en #México suman 3 millones 883 mil 842 casos confirmados por #COVID19, y un total de 293 mil 897 decesos.  https://t.co/Kxb7fEtu1S\n",
      "1465169726930239495 2021-11-29 07:04:19 +0300 <librosbuscados> Municipios con más casos confirmados activos de #Covid19 en México: Mexicali, Tijuana, Puebla León Hermosillo Chihuahua Gustavo A Madero #CDMX Álvaro Obregón Ensenada Iztapalapa San Luis Potosí Tlalpan Aguascalientes Torreón Juárez Mérida Azcapotzalco Saltillo Querétaro Monterrey  https://t.co/618T6hPaTZ\n",
      "1465169723205857285 2021-11-29 07:04:18 +0300 <RosaReyesBravo> Por el sentido del deber de trabajadores, estudiantes y cuadros en tiempos difíciles de #Cuba frente a la #covid19 y limitaciones x el bloqueo norteamericano Felicidades a la #UniversidadMambisa #OrgulloUO 👏👏👏 @DianaSedalYanes  @UOCuba  https://t.co/PBRFsdXFPy\n",
      "1465169707732901892 2021-11-29 07:04:14 +0300 <ANI> Bhopal | Madhya Pradesh schools will operate with 50% strength instead of 100% from today, online classes to also continue  \"Online classes should continue considering the current COVID19 situation. This is a good decision by the state government,\" says a parent.  https://t.co/fzS11CEJqt\n",
      "1465169697456934912 2021-11-29 07:04:12 +0300 <MeckyKayiranga> #COVID19 nshya yatumye u #Rwanda rusubika ingendo hagati yarwo na Afurika y'amajyepfo -  https://t.co/2cfesEjuro  https://t.co/IuZNzSyGGp\n",
      "1465169690569809920 2021-11-29 07:04:10 +0300 <revivethera> Come for the #Bucillamine to treat #COVID19 stay for the #Bucillamine for the prevention of reperfusion injury and don’t forget #Psilocybin and #ganoderma. @Revive_RVV has a great pipeline. #Investment   $RVV $RVVTF  https://t.co/Q5zkGmGos7\n",
      "1465169677433417736 2021-11-29 07:04:07 +0300 <DrKAnderson_> Still baffles me that we are basically 2 years into a pandemic and people are still wearing disposable masks? And/or wearing masks incorrectly? #Ridiculous #Covid19 #WearAMask\n",
      "1465169650589786113 2021-11-29 07:04:00 +0300 <MGDezigns> Gold floral Scissors Hairstylist Hair Salon Name Premium Face Mask  https://t.co/qbHOprhsiS #facemasks #coronavirus #covid19 #socialdistancing #hairstylist #hairsalon #salon #beauty #hairdresser\n",
      "1465169647968215047 2021-11-29 07:04:00 +0300 <WSWSArts> This interview is the first testimony provided to the Global Workers’ Inquest into the #COVID19 Pandemic, which aims to expose the lies and misinformation used to justify the official response to the pandemic #EndCOVID   https://t.co/gLBcJ2oTBE\n",
      "1465169626229141504 2021-11-29 07:03:55 +0300 <ColvinKate> Amazing to be starting the Victorian Homelessness Conference #VHC2021 - in person and on line - and now talking about what has been learnt through #Covid19 #homelessness  https://t.co/RcviL78Yui\n",
      "1465169623880511490 2021-11-29 07:03:54 +0300 <cogito_cogitas> @ZNeveri  🔴#France 🇫🇷 Suite de 🎥 Hold-Up : 🎥 Hold On Le film événement  #Vaccine #COVID19  Primum (Non) Nocere… de @BarneriasPierre  https://t.co/UtlyaVIEgH\n",
      "1465169605530292225 2021-11-29 07:03:50 +0300 <XpressHyderabad> A day after 25 students and five teachers tested positive for #COVID19  at the Tech Mahindra University in Medchal, the District Medical Health Officer (DMHO) asked for the closure of the university for two weeks. @NewIndianXpress  https://t.co/INBPKi2nMr\n",
      "1465169604918059017 2021-11-29 07:03:50 +0300 <dvidinliogluu> sana çok dargınım covid19\n",
      "1465169599947853833 2021-11-29 07:03:48 +0300 <bharianmy> #BHnasional SOP terutama kuarantin pelancong dari negara berisiko tinggi akan turut diperhalusi   https://t.co/R0sv94MuJW  #coronavirus #covid19\n",
      "1465169542515249157 2021-11-29 07:03:35 +0300 <COVIDLive> 176 new cases in Pakistan   [5:03 GMT] #coronavirus #CoronaVirusUpdate #COVID19 #CoronavirusPandemic\n",
      "1465169485074026496 2021-11-29 07:03:21 +0300 <metro_vaartha> വാക്സിനൊപ്പം മാസ്കും; അലംഭാവമരുത്... മെട്രൊ വാർത്തയുടെ ഇന്നത്തെ മുഖപ്രസംഗം വായിക്കൂ #CovidVaccine #Covid19 #Coronavirus #CovidUpdates #Metrovaartha Read more at :  https://t.co/J2onqP2bZ3\n",
      "1465169482985447427 2021-11-29 07:03:20 +0300 <BulawayoZoom> Border testing and movement controls in place for many months are being tightly enforced for travellers crossing into #Zimbabwe, especially on the southern and western borders, in the wake of the discovery of a new #COVID19 variant in #SouthAfrica &amp; #Botswana @MoHCCZim @DayZRP  https://t.co/QeAxxdb7uY\n",
      "1465169482561859589 2021-11-29 07:03:20 +0300 <YankeeDoodle73> #China #HunterBiden #JoeBiden #CreepyUncleJoe #COVID19 #FauciLiedMillionsDied\n",
      "1465169472893771778 2021-11-29 07:03:18 +0300 <hamareadhikar> \"Canada confirms its first Covid #Omicron infections in two people who had recently traveled to Nigeria,\"  reports AFP #Canada #COVID19 #CoronavirusUpdates #OmicronVariant\n",
      "1465169466136821764 2021-11-29 07:03:16 +0300 <sssharma19> Times of India today news itself shows the real  positive results of India as compared to Western countries to fight against Covid19.Some people in India shall not give any  credit to Government, still they will find some or other petty reasons to criticize  particularly Modiji.  https://t.co/EP0s8O7QV2\n",
      "1465169426383196164 2021-11-29 07:03:07 +0300 <GrantAllison> With Omicron in Canada…I’m now quite anxious to see Alberta open up the third booster shots to 50+ and people with significant comorbidities.  Like REALLY anxious. #AbLeg #COVID19 #COVIDAB\n",
      "1465169418430910471 2021-11-29 07:03:05 +0300 <rzeczpospolita> #Japonia, w obawie przed #Omikron.em, zamknie granice dla wszystkich obcokrajowców? #koronawirus #SARS_CoV_2 #COVID19   https://t.co/ZHMTYkUfV9\n"
     ]
    },
    {
     "name": "stdout",
     "output_type": "stream",
     "text": [
      "1465169410943946755 2021-11-29 07:03:03 +0300 <NewsStateHindi> #Uttarakhand में बाहर से आने वालों के लिए एडवाइज़री...सभी यात्रियों का होगा RT-PCR टेस्ट... @Dhirendrasays   #Uttarakhand #Omicron #OmicronVariant #COVID19  https://t.co/9tqVvJ3e5A\n",
      "1465169409987784705 2021-11-29 07:03:03 +0300 <Hot1027News> Over the weekend South Africa registered more than 6000 new COVID19 infections with 14 related deaths. Gauteng accounts for the bulk of new infections. The test positivity rate has jumped to 9.8%.  #HOT1027NEWS @Hot1027FM @nicd_sa @HealthZA  https://t.co/6HRkK19bKq\n",
      "1465169397631254532 2021-11-29 07:03:00 +0300 <DanghaiHai12> 4T strategy to live with the covid-19 pandemic – Vietnam  https://t.co/d3Xman2fGV  #covid19\n",
      "1465169385329500163 2021-11-29 07:02:57 +0300 <nuclearbologna> Did anyone else think of this when #Omicron was announced?  #unicron #transformers #COVID19  https://t.co/MRv7wrm8tI\n",
      "1465169371798540292 2021-11-29 07:02:54 +0300 <Silence21240183> @ftchina #HongKong govt absolutely is not fighting against #COVID19 but use that as excuse to control #HongKongers   And they just care re-opening the border with #China but not the world  If Hong Kong is still a international hub?   https://t.co/GT11tVyXZj\n",
      "1465169356522876931 2021-11-29 07:02:50 +0300 <peachybrets> 'Moreover, the government also temporarily suspended the entry of fully-vaccinated nationals of non-visa countries under the “green list.”'  So we only have the yellow and red list. No more green list. #Omicron #COVID19   https://t.co/CmqapYypvv\n",
      "1465169356422205445 2021-11-29 07:02:50 +0300 <currencia> 菅首相が文字通り「体を張って」コロナ蔓延を停めたから民心が安定しているだけであって、万が一にでもコロナ再流行なんて下手を売ったら、不人気の岸田内閣なんて秒で倒閣ですよ。　#COVID19 #オミクロン株\n",
      "1465169336969007104 2021-11-29 07:02:46 +0300 <cnbcindonesia> WASPADA! COVID-19 VARIAN OMICRON GOYANG BURSA GLOBAL  Gaesss.. Sekarang ada Covid19 varian baru lagi, namanya \"omicron\". Kemunculan Omicron bahkan buat bursa Europa &amp; AS kompak market sell di akhir pekan... Apakah ini bikin kamu juga khawatir bakal merembet ke bursa tanah air?\n",
      "1465169303955820545 2021-11-29 07:02:38 +0300 <SeuPessanha> Desde a primeira morte por Covid19 no Brasil em 17/03/2020, estamos há 604 dias sem uma nota de pesar da Presidência pelos milhares de mortos e contaminados, sem uma visita do Presidente aos médicos, enfermeiros da linha de frente e pacientes nos hospitais pelo país.\n",
      "1465169289938276352 2021-11-29 07:02:34 +0300 <LatestLYMarathi> COVID 19 In India: भारतामध्ये मागील 24 तासांत 8,309 नवे कोरोना रूग्ण; 236 मृत्यू #COVID19 #Coronavirus   https://t.co/ojwA0hMPA1\n",
      "1465169238918840320 2021-11-29 07:02:22 +0300 <COVID_Scale> Since the start of the pandemic, 799,414 Americans have died from #COVID19 (15.3% of all deaths worldwide). That is about the same as 34,757 Onawa train wrecks which killed 23 people in 1919:  https://t.co/JijP8SXiaK\n",
      "1465169233084567558 2021-11-29 07:02:21 +0300 <CLTcrime> Still no confirmed cases of #Omicron in the US or @CLTgov but that'll likely change in the coming days. #4thWave #COVID19\n",
      "1465169226407182341 2021-11-29 07:02:19 +0300 <DinakaranNews> இந்தியாவில் கடந்த 24 மணி நேரத்தில் 8,309 பேருக்கு கொரோனா.!  #IndiaFightsCorona #CoronavirusUpdates #COVID19  https://t.co/HGj1Vcc6NU\n",
      "1465169222376505345 2021-11-29 07:02:18 +0300 <BzhTau> 💡 #coronavirus #quarantine Formation gratuite pour les professeurs en #confinement pendant la #pandemie de #covid19 !  🔗  https://t.co/9xVEMJsAer\n",
      "1465169209126645762 2021-11-29 07:02:15 +0300 <RTTradingIdeas> $MRNA Moderna says a Covid19 Omicron vaccine could be ready by early 2022.  LMAO, who cares??  I never got the first vaccine.  I don't wear a mask.  And yet amazingly, I remain completely healthy.  The answer is: Vitamins C + D, Zinc and Quercetin   https://t.co/mmI4QGzyID\n",
      "1465169200545103879 2021-11-29 07:02:13 +0300 <VishwasKulal86> They are back to form... TRP time #TV9Kannada #terror #COVID19 #Omricon  https://t.co/8EJ1mCXZQS\n",
      "1465169189052813314 2021-11-29 07:02:10 +0300 <RichardRoma6000> The two first cases of #covid19 in Canada were brought from Nigeria. Interesting test case to see if Nigeria's rate of infection (their fully vaccinated is 1.7%) is exponentially greater vs. those fully vaccinated countries. #CovidVaccine  https://t.co/clsLdiiAW4\n",
      "1465169187110735881 2021-11-29 07:02:10 +0300 <kong_ls> @stage_fright22 @MaitreyaBhakal you clearly said covid19 in your twit but of course you can move the goal posts.  so, your new story is that the dictator is evil becoz he failed to regulate...  clearly if falun gong is allowed in jhina, there will be more people like u.\n",
      "1465169159390736392 2021-11-29 07:02:03 +0300 <D64_Covidbot> @aniho91 🦠 Am 29. November 2021 wurden 0 #Neuinfektionen  und 0 Todesfälle  in Konstanz (Landkreis) gemeldet. Die #Inzidenz liegt bei 422,48  ➡. #COVID19  https://t.co/g7bJHrLP1f\n",
      "1465169138553434119 2021-11-29 07:01:58 +0300 <felidaeny> @Eric3Gribble @RossCameron4 It's EXTREMELY unlikely that #COVID19 would undergo a sudden evolutionary pivot towards causing MILDER illness. Impossible to tell so soon. Best case scenario is that it's no more severe or transmissible than Delta\n",
      "1465169120261914634 2021-11-29 07:01:54 +0300 <itsyourxyz> I think we hurt his feelings. Maybe he shouldn’t be moving people against their will into camps.  #MichaelGunner #CentreForNationalResilience #VaccineMandate #VaccineSideEffects #vaccine #vaccination #COVID19 #COVID19Aus    https://t.co/jNxJogkm5c  https://t.co/mNd7SIQctL\n",
      "1465169108501073923 2021-11-29 07:01:51 +0300 <keik2009> @EARL_COVID19_tw 軽いのに全部置き換わってくれたら、むしろ幸いですね。\n",
      "1465169083461033985 2021-11-29 07:01:45 +0300 <VijayKumarBSP> @narendramodi @PMOIndia  Please 🙏🙏 don't play with this #OmicronVariant as you played earlier with #COVID19 Do take necessary actions 🙏🙏for the sake of Bharat Mata\n",
      "1465169082433646598 2021-11-29 07:01:45 +0300 <MorpheusLives> Humanity is doomed. With all this technology it seems like the masses got dumber, more compliant, easily  manipulated, less likely to notice when evil people intend to harm them. #Omicron #Fauci #COVID19 #Globalists #Democrats\n",
      "1465169079870783493 2021-11-29 07:01:44 +0300 <AsianTechPress> A Chinese woman was sued by #Pfizer the day before Thanksgiving for allegedly stealing a large number of confidential documents, including the company's #COVID19 #vaccine secrets, before she left her job.  https://t.co/LvgLf9vLV7  https://t.co/1zocylzHr6\n",
      "1465169071561871371 2021-11-29 07:01:42 +0300 <foraggio> Great episode of #PlanetAmerica this week, particularly the interview with Dr @MichaelWorobey on the #COVID19 origins and his excellent research. Highly recommend.  https://t.co/2SnOZExAzs\n",
      "1465169045163069443 2021-11-29 07:01:36 +0300 <FreeKrisHelton> #COVID19  #FauciLiedMillionsDied #FAF  https://t.co/5BmIN386Ln\n",
      "1465169041706741761 2021-11-29 07:01:35 +0300 <dumbwire> #Omicron #OMIC #FOMO #DeFi #COVID19 Obscure Omicron token spikes 900% after new variant emerges  https://t.co/zJ6RQUWtgC -  https://t.co/HzksZFXjrd  https://t.co/9yGujHZZB4\n",
      "1465169031649021959 2021-11-29 07:01:33 +0300 <MirageNewsCom> New TPS recruits begin their training   https://t.co/3AmPrjKv9u #AusPol #Australia #Campaign #Corrections #Covid19 #Environment #Fitness #Government #Infrastructure #Minister #Prisoners #Queensland #Security #Southern #Staffing #TAS #Tasmania #Tassie #Victoria  https://t.co/nfA35WL2kY\n",
      "1465169026145992704 2021-11-29 07:01:32 +0300 <WILLOW_MAB> After Covid19 disappeared during the unrest &amp; Local Government Rallies, I'm not complying with anything that the Government is saying now and moving forward, they think we're children these ones\n",
      "1465169016021045255 2021-11-29 07:01:29 +0300 <RamjattanChris> Pfizer whistleblower - the vaccinated are 3 times more likely to be infected with #COVID19 than the unvaccinated   https://t.co/kKhcqBqvuS\n",
      "1465169007795912714 2021-11-29 07:01:27 +0300 <OCR_Extremadura> A partir de las 7y20 en #Md1Extremadura. #Portugal refuerza sus fronteras terrestres contra la #covid19. #Vacunación niñas y niños. #Financiación. Gran Manifestación #PorelCampoExtremeño. #Deportes. #ElTrenExtremeño. #Previsiones.  https://t.co/0lycaauCUU\n",
      "1465168996131643393 2021-11-29 07:01:24 +0300 <ayogo_do> Thank you for inviting us to #MenengaiFour,now,can those infected with #COVID19 make to the list 👇?  https://t.co/7fczGfne4V\n",
      "1465168990586781703 2021-11-29 07:01:23 +0300 <expose_ccp> @drscottjensen I don't know why @margbrennan @FaceTheNation brought Dr. #Fauci a political issue, the #COVID19 #vaccination is a controversial issue among scientists. Why does the #vaccine prevail Zelenko Protocol when all scientific data shows that the latter is much safer?\n",
      "1465168948480167936 2021-11-29 07:01:13 +0300 <NeverGonnaWoke> What Really Happened in Wuhan: Investigating the Chinese lab leak theory  https://t.co/YMhUtVHwlR via @YouTube #Wuhan #China #LabLeak #COVID19\n",
      "1465168947875958787 2021-11-29 07:01:13 +0300 <NtvTeluguLive> Telangana on Alert Over New COVID Variant   #OmicronVariant #COVID19 #Telangana #NTVTelugu  https://t.co/m1AFXYEC4O\n",
      "1465168918532796423 2021-11-29 07:01:06 +0300 <CovidMexico> 💉 Latinoamérica: porcentaje de población con al menos 1 dosis  🇨🇺 90% (10.1M) 🇨🇱 88% (16.8M) 🇦🇷 80% (36.5M) 🇺🇾 79% (2.7M) 🇧🇷 76% (162.4M) 🇨🇷 75% (3.9M) 🇪🇨 75% (13.4M) 🇨🇴 70% (36.0M) 🇵🇦 69% (3.0M) 🇸🇻 68% (4.4M) 🇵🇪 65% (21.7M) 🇩🇴 63% (6.9M)  #COVID19 #COVIDー19  https://t.co/3VUBwbegna\n",
      "1465168910823550984 2021-11-29 07:01:04 +0300 <ErinSnider10> Sigh. #COVID19 reality.\n",
      "1465168903986765824 2021-11-29 07:01:02 +0300 <MediaOneTVLive> നേരത്തെ കോവിഡ് ബാധിച്ചവരെ പുതിയ വകഭേദം ബാധിക്കാനുള്ള സാധ്യത കൂടുതലാണെന്നാണ് ഡബ്ല്യുഎച്ച്ഒയുടെ പ്രാഥമിക കണ്ടെത്തല്‍ #Omicron #WHO #covid19  https://t.co/TzYbgROzZh\n",
      "1465168895594143753 2021-11-29 07:01:00 +0300 <skipjo5> @JackPosobiec What credibility does this guy have? #Fauci #COVID19\n"
     ]
    },
    {
     "name": "stdout",
     "output_type": "stream",
     "text": [
      "1465168890170912772 2021-11-29 07:00:59 +0300 <SunAndStormInv> #COVID19 #Vaccines  The issue is the less than 18 yr old group.  With 30-40% of the population under vaccinated, we are still placing older and  vaccinated patients and younger vaxed patients with co-morbidities at risk.  Va...  https://t.co/BV7R2kbapt\n",
      "1465168882142904325 2021-11-29 07:00:57 +0300 <prabhatkhabar> Corona Update News: कोरोना के नये खतरे से निबटने की तैयारी, रेलवे स्टेशन और एयरपोर्ट पर निगरानी की गयी तेज.. #Corona #CoronavirusPandemic #CoronavirusUpdates #COVID19    https://t.co/HYtzEDeQPD\n",
      "1465168879404007427 2021-11-29 07:00:57 +0300 <radster360> @chris_beebe I was thinking the same thing this morning. The point is that we are going to have some form of variant for a very very long time and we can’t react to it every time. People will just stop taking WHO and CDC seriously! COVID19 vaccination annually is here to stay!\n",
      "1465168877990653957 2021-11-29 07:00:56 +0300 <Hot1027News> While the country remains on Alert level 1 of the COVID19 lockdown, which may come as a relief for some, government will review this decision in a week considering the trajectory of new infections. #HOT1027NEWS @PresidencyZA @HealthZA @nicd_sa @Hot1027FM  https://t.co/yXMX9Sv7Ke\n",
      "1465168875134328836 2021-11-29 07:00:56 +0300 <OVaca_> @LatigoPueblo @alberto_dahik La peste de los gastos reservados y la cobra de diputados, es pero que COVID19, la peste Bubonica, etc.\n",
      "1465168867932753926 2021-11-29 07:00:54 +0300 <CovidMexico> #ACTUALIZACIÓN Latinoamérica: Casos y Defunciones  🇧🇷 22,080,906 | 614,314 🇦🇷 5,326,448 | 116,529 🇨🇴 5,065,373 | 128,437 🇲🇽 3,883,842 | 293,897 🇵🇪 2,234,075 | 201,108 🇨🇱 1,759,405 | 38,313 🇨🇺 962,220 | 8,300 🇬🇹 617,610 | 15,928 🇨🇷 566,560 | 7,287 🇧🇴 536,472 | 19,161  #COVID19  https://t.co/9nungaD1t2\n",
      "1465168843425206279 2021-11-29 07:00:48 +0300 <airnews_ghy> 📻Regional Assamese Morning News  🕘0900 Hours 🗓️29/11/2021, #Covid19  শুনক, #Covid19 সম্পৰ্কীয় সকলো গুৰুত্বপূৰ্ণ কথা  Listen to all important news on #Covid19  For the detail bulletin do listen to the YouTube link below :  https://t.co/aqSnWYUvo0  https://t.co/YnPNrVrvCw\n",
      "1465168834164310019 2021-11-29 07:00:46 +0300 <cordoba_ahora> #CordobaAhora Covid-19: 53 casos y ningún fallecimiento este domingo en Córdoba El nivel de ocupación de camas críticas para adultos Covid-19 es de 0,6% y con asistencia respiratoria mecánica es de 15%. #COVID19 #pandemia #Cordoba   https://t.co/yaIAtpstap\n",
      "1465168828845883401 2021-11-29 07:00:44 +0300 <cryptofrog_007> #omincron , the new #COVID19 variant, is causing so much concern. How much so far do we know about #Omicron and what impact it would bring to us?\n",
      "1465168807522365440 2021-11-29 07:00:39 +0300 <Digion_mcac> 大事なこと思い出した！！  2021年度対象者のワクチン接種が完了するわけですが……。 副反応で5Gの送受信できるようになった方！ その他、超人的な能力を獲得できた方！ おられましたらご一報ください！  #COVID19Vaccine #COVID19 #ワクチン接種 #ワクチン副反応\n",
      "1465168799187947528 2021-11-29 07:00:37 +0300 <gorgepulse> Updated Oregon #COVID19 outbreak trends. Workplace outbreaks increased by 1 to 48, congregate care down to 61, active school outbreaks down to 62, 808 schools with active cases, a slight drop. Oregon is 1 of only 10 states with indoor mask mandates. That could be helping us...  https://t.co/97QKLrKUDU\n",
      "1465168791503990784 2021-11-29 07:00:36 +0300 <Mandar_240Bhp> @ndtvfeed @ndtv First kick this @DrTedros out 😡😡  #china slave #ChinaLiedPeopleDied #COVID19 #covidvariant #Omicron #OmriconVariant  https://t.co/gfli2IdYHw\n",
      "1465168787053826051 2021-11-29 07:00:35 +0300 <Zee24Kalak> નવા વેરિએન્ટના કેસમાં સતત વધારો થઈ રહ્યો છે. #Omicron #OmicronVariant #Canada #coronavirus @JustinTrudeau #COVID19 #ZEE24Kalak   Watch LIVE :  https://t.co/uZaTuPKcj8   https://t.co/3XmZoiUVfr\n",
      "1465168776874405890 2021-11-29 07:00:32 +0300 <1Ethos> It’s a wrap! #Filmmaker that was fun! #COVID19 safely filming for you Chicago! May god be with me!\n",
      "1465168754187382784 2021-11-29 07:00:27 +0300 <rexmedw> The Elephant in the Room: #LongCovid   By @mistressofline   #COVID19  #Omicron  #WearAMask  https://t.co/JR16vTBBiA\n",
      "1465168741587722247 2021-11-29 07:00:24 +0300 <njakaram> WHO criticizes travel bans on southern African countries over new omicron variant #covid19  https://t.co/CcRppW2IdS\n",
      "1465168738668490756 2021-11-29 07:00:23 +0300 <Occidentaljihad> #COVID19 #immunity #NaturalImmunity  https://t.co/FsEpFk2C1G\n",
      "1465168717843775495 2021-11-29 07:00:18 +0300 <CampdenFB> Campden Wealth has rescheduled the 18th edition of its leading European Families in Business Forum in-person in Berlin to 30-31 March, 2022 due to rising #Covid19 infections on the continent.  #familybusiness #returntolive #events #register  https://t.co/fUs0f5XG02  https://t.co/3VJmbcMpAJ\n",
      "1465168715947954195 2021-11-29 07:00:18 +0300 <ndtv> #Covid19  https://t.co/stk6lTZBou\n",
      "1465168708632862726 2021-11-29 07:00:16 +0300 <MattMichalski> People who still believe that #COVID19 is a threat are in the same category as flat earthers in my opinion. All the evidence is there to back up the truth, but they'd rather just believe in some fantasy of being in an apocalyptic scenario.\n",
      "1465168706082938885 2021-11-29 07:00:15 +0300 <cathyhagen21> 'Good Morning America' guest worries #COVID could hurt Biden's economic 'progress', but #Dems claimed the economic issues of 2020 were because of #Trump when #COVID19 was the problem.  https://t.co/GqHd3BQBVw #FoxNews #Media #MediaBias #Bidenflation #DemsAreDestoyingAmerica\n",
      "1465168678727688192 2021-11-29 07:00:09 +0300 <TicoTrafico> (CrVehicular) #RestricciónVehicularCR #COVID19 #TraficoCR #QuedateEnCasa 🏠  https://t.co/1GshYtAxEZ\n",
      "1465168661119844358 2021-11-29 07:00:04 +0300 <KanchanGupta> PM @narendramodi and Government of #India are fully engaged with checkmating potential threat posed by #OmicronVariant of #Covid19 *All States &amp; UTs alerted; extensive guidelines issued; *NO cause for alarm; *Ignore bunkum by tin canister ‘journalists’. *#MaskUp Get #vaccinated\n",
      "1465168660180332555 2021-11-29 07:00:04 +0300 <EastMojo> #Sikkim has so far conducted 2,70,075 sample tests for #COVID19, including 358 in the last 24 hours.  #EastStory #NortheastIndia  https://t.co/1qd6ZgVoBg\n",
      "1465168658347577349 2021-11-29 07:00:04 +0300 <ChrisKrxss> @Sail_beyond1 Haha Darwin Award! #VaccinesWork #covid19 #corona\n",
      "1465168656321724418 2021-11-29 07:00:03 +0300 <AMDABIDSSHealth> Tara na’t mag \"Bayanihan Bakunahan\" sa unang araw ng 3-day National Vaccination mula November 29 (today) hanggang December 1!  Magpa-rehistro na sa inyong LGU at maging bayani para sa kapwa Pilipino!  Read more here:  https://t.co/7xGQPVXylV  #COVID19 #getvaccienatedcovid19  https://t.co/m3QFGe51fx\n",
      "1465168650911068161 2021-11-29 07:00:02 +0300 <AnRodrAng> Otro año jodido en tema de pandemia: 2022, gracias #China, gracias #Sudafrica, gracias #Canada, gracias mugroso virus de mierda #COVID19 #Omicron\n",
      "1465168643164045319 2021-11-29 07:00:00 +0300 <soypacosantos> Seguimos en #SemáforoVerde, implica continuar con nuestras actividades cotidianas con responsabilidad, sin relajar las medidas de prevención de #Covid19_mx. ¡Cuídate!  https://t.co/az8cLbZlpf\n",
      "1465168643097088003 2021-11-29 07:00:00 +0300 <TT_My_Kolkata> More number of teachers are required for invigilation, maintaining the standard operating procedures on the campus for an exam during the pandemic. #CISCE #CovidProtocol #COVID19 #semesterexam #ISC #ICSE #Kolkata #MyKolkata  https://t.co/xpWXKpzJnj\n",
      "1465168643075969029 2021-11-29 07:00:00 +0300 <China2ASEAN> The latest detected new #COVID19 variant #Omicron is raising concerns worldwide. China's top epidemiologist #ZhongNanshan said it is too early to reach a conclusion on how fast #Omicron can spread, whether it will cause more severe illness or whether new vaccines are needed.  https://t.co/pNG1iBhbyB\n",
      "1465168642967056389 2021-11-29 07:00:00 +0300 <eraser> «Die Grenzen meiner Sprache bedeuten die Grenzen meiner Welt». El lenguaje disfraza el pensamiento. Conclusiones adoptadas por Consejo Europeo en la Reunión extraordinaria 17-21 JUL 2020 #EUCO #UE #EU  https://t.co/UlmsudybgZ  #EUE #politica #Europa #GIGeconomy #COVID19 #presente\n",
      "1465168642778099715 2021-11-29 07:00:00 +0300 <imssjalcontigo> La respuesta a la pandemia por #COVID19 fue profundamente humanitaria.  #112AsambleaIMSS  https://t.co/gDj7WMygKf\n",
      "1465168642765737994 2021-11-29 07:00:00 +0300 <IMSSBCSOFICIAL> La reconversión del #SeguroSocial fue la columna vertebral de la atención hospitalaria ante el #COVID19 para cumplir un objetivo: que nadie se quedara sin atención. #112AsambleaIMSS #IMSSenPalacio  https://t.co/qd8MsuKW0s\n",
      "1465168642656460803 2021-11-29 07:00:00 +0300 <DiarioValorMx> #ValorNoticias #COVID19  Los usuarios de cines calificaron la decisión de los cines como “autoritaria” 😲    https://t.co/1huvhYLRol\n",
      "1465168642350489607 2021-11-29 07:00:00 +0300 <Bhekisisa_MG> What is #ivermectin? An over-the-counter medicine used to treat parasites in livestock. So why have humans started using it to treat #COVID19 symptoms?  https://t.co/IBapGpTv0u  https://t.co/VCkG6MheOr\n",
      "1465168642308509699 2021-11-29 07:00:00 +0300 <rslijenmalang> #StaySafe #dirumahaja #JagaJarak  #Jatimbebascovid  #laporkankecovidhubjatim #RSLapanganIjenBoulevardMlg  #StayAtHome  #COVID19 #Malang\n",
      "1465168642153222145 2021-11-29 07:00:00 +0300 <Uni2Noticias> ¡Ojo! 🦠 \"Se convocará una reunión de emergencia de los ministros de salud del G7 para discutir los desarrollos sobre ómicron\", dijo el Departamento de Salud del Reino Unido 👀🚨  #COVID19   https://t.co/xyucwhUGf7\n",
      "1465168641918259201 2021-11-29 07:00:00 +0300 <travelingcooki1> Find a COVID-19 vaccine in USA  https://t.co/g9wOOBFlRV #COVID19  #Vaccine – Incentives  –  Find Vaccine near you  –  Rewards  –  Employees additional vaccination support #VaccinesWork #USA #NYC #VaccinePassports #vaccinesnearme #photooftheday  https://t.co/UUJhlMLOSG\n",
      "1465168641406615562 2021-11-29 07:00:00 +0300 <rajahtravel_com> 🛑🛑🛑 PH government released 14 countries in RED LIST due to COVID-19 variant Omicron. ✈🚫🌍 Full details here 👉  https://t.co/UisinySnTU  Be informed and stay safe everyone!🙏💕  #RajahTravel #RajahBulletin #PHTravels #Covid19 #OmiconAlert #VisaApplication #Visa  https://t.co/mnsQ57ljYs\n",
      "1465168641347883013 2021-11-29 07:00:00 +0300 <NCCIberoamerica> Un gru­po de in­ves­ti­ga­do­res iden­ti­fi­có una se­rie de #genes aso­cia­dos a la apa­ri­ción de for­mas gra­ves del #COVID19 en pa­cien­tes jó­ve­nes y sin pro­ble­mas de sa­lud 🧬😷⬇️.   https://t.co/MRYH2zneYc\n"
     ]
    },
    {
     "name": "stdout",
     "output_type": "stream",
     "text": [
      "1465168633144000512 2021-11-29 06:59:58 +0300 <felidaeny> @allak_weda @CKyobutungi i highly recommend checking out @DrEricDing as he has the most accurate scientific info on it. He's a world-renowned epidemiologist, 16 yrs at Harvard, and was one of the first to Tweet about the severities of COVID19 back in Jan 2020. I trust numbers over random opinions, lol\n",
      "1465168621634605060 2021-11-29 06:59:55 +0300 <monmeebsaikia> #LargestVaccineDrive ৰ অধীনত দেশত বর্তমানলৈকে ১২১ কোটি ৯৪ লাখ ৭১ হাজাৰ ১৩৪ পালি #CovidVaccine প্রদান কৰা হৈছে। @MoHFW_INDIA ৰ তথ্য অনুসৰি শেহতীয়াকৈ ২৪ ঘণ্টাত ৮২ লাখ ৮৬ হাজাৰৰাে অধিক পালি প্রতিষেধক প্ৰদান কৰা হয়। বর্তমান দেশত সক্রিয় ৰােগীৰ সংখ্যা ১০৫,৬৯১ হৈছেগৈ। #COVID19\n",
      "1465168618367422471 2021-11-29 06:59:54 +0300 <TammyRolfe> I've been boostered!   #COVID19 #COVIDBooster #vaccinated\n",
      "1465168615968161795 2021-11-29 06:59:54 +0300 <ClareKuehn> #BlackLivesMatter #NickiMinaj #MAGA #2A #Alberta #Ontario #covid19 #corruption Wakey #science #sciencewins #Australia #India #Ghana #Arizona #Israel #murder #children #Notaboutavirus  Until they put their code-reading robots everywhere ... this is an action plan! Please share!!  https://t.co/WyhAyRTWBU\n",
      "1465168611207573517 2021-11-29 06:59:53 +0300 <drmmumbaicr> Protect Yourself &amp; Others from COVID19  #Unite2FightCorona  https://t.co/mWI3EYUIzH\n",
      "1465168607134973952 2021-11-29 06:59:52 +0300 <Pylori04884231> @kotanishohei2 @issunsakihahik @EARL_COVID19_tw @nagashimakenta @hanakihideaki ただ個人的にはペプチドと呼んで差し支えないとは思います。\n",
      "1465168606497427457 2021-11-29 06:59:51 +0300 <madhyamam> യു.കെയിൽ ഒമിക്രോണിന്‍റെ മൂന്നാമത്തെ കേസ്​; ചൊവ്വാഴ്ച മുതൽ മാസ്​ക്​ നിർബന്ധം #Omicron #UK #FaceMask #Covid19  https://t.co/sljPg74Nvg\n",
      "1465168578949255168 2021-11-29 06:59:45 +0300 <latestly> Ashes 2021: ‘Hoping COVID-19 Omicron Variant Does Not Affect Series’, Says Ashley Giles  https://t.co/sLKCKfVKdM #Ashes2021 #England #Australia #Coronavirus #COVID19 #Pandemic #Omicron #AshleyGiles\n",
      "1465168558866849798 2021-11-29 06:59:40 +0300 <sai_sparthamd> @UAZHealth team is honored to be part of the RECOVER #COVID19 Consortium to help our communities. We are working with statewide consortium of @az_ceal @BannerUnivMed with a large team led by 4 MPIs (Nikolich, Reiman, Glassberg, &amp; Parthasarathy)\n",
      "1465168557570854914 2021-11-29 06:59:40 +0300 <Pylori04884231> @kotanishohei2 @issunsakihahik @EARL_COVID19_tw @nagashimakenta @hanakihideaki 横から失礼します。 気になったので調べたところ、一般的にペプチドとは2~50アミノ酸からなるものでそれ以上はタンパク質と呼ぶとのことです。   https://t.co/Ne19dJAUdK  分子量約1万以上のポリペプチドをタンパク質と定義している物もありました。   https://t.co/ECmRFr4wZ4\n",
      "1465168553527562245 2021-11-29 06:59:39 +0300 <saamTVnews> Omicron: परदेशातून येणाऱ्यांसाठी बदलले नियम, प्रवाशांवर घातली बंधने  #Corona #RTPCR #covid19 #stategoverment #OmicronVariant  https://t.co/vXDQx41jH3\n",
      "1465168531272519687 2021-11-29 06:59:34 +0300 <wnewspresse> Revue de presse -  #Covid19: Face à la 5e vague, tout ce qui change à partir de ce lundi  https://t.co/ntEEl3bHdj | wnews  https://t.co/NtHytEwHd3\n",
      "1465168479200460801 2021-11-29 06:59:21 +0300 <Freitas33__> when the concrete stairs is infected with the #Omicron variant but your #vaccine only kinda works for #covid19 and the #DeltaVariant 🙂\n",
      "1465168467863252997 2021-11-29 06:59:18 +0300 <D64_Covidbot> @ZeroCovidTH 🦠 Am 29. November 2021 wurden 33 #Neuinfektionen  ↘ und 0 Todesfälle  in Jena (Kreisfreie Stadt) gemeldet. Die #Inzidenz liegt bei 633,07  ↘. #COVID19  https://t.co/e5txU830CF\n",
      "1465168456723038209 2021-11-29 06:59:16 +0300 <Spotboye> Deeply Saddened 💔  Veteran choreographer #SivaShankar passed away due to #COVID19 on Sunday  #RIPSivaShankar | #SonuSood | #Chiranjeevi | #SSRajamouli   https://t.co/nHthyg97vv\n",
      "1465168435080433664 2021-11-29 06:59:11 +0300 <karenpaulscbc> This story really \"got\" it. Manitoba town, divided on #COVID19 vaccines, tries to heal itself with ‘proof of kindness.'   https://t.co/pLTLh0a8mD\n",
      "1465168433440595971 2021-11-29 06:59:10 +0300 <Leopauldelr> Leopaul's blog: COVID-19 SITUATION: 11/29/2021  https://t.co/vlupE6yb76 #covid19\n",
      "1465168407096004610 2021-11-29 06:59:04 +0300 <osteomath> @RealBrianWatt If people don't want to get the vaccine, fine. And yes, natural immunity is better than the vaccine. Doesn't mean that people should avoid the #COVID19 or other vaccines just to get natural immunity; transmission goes down with vaccination\n",
      "1465168401735819269 2021-11-29 06:59:03 +0300 <_covid_19_bot_> Cases: 261,485,066 (+0)  Deaths: 5,199,456 (+107)  Recovered: 0 (+0)  Active Cases: 261,485,066 (100%) Completed Cases: 5,199,456 (1.99%) Mortality Rate: 1.99% (No Change) Case Fatality Rate: 100.00% (No Change)  #COVID19 #Coronavirus #StayHome\n",
      "1465168399684804611 2021-11-29 06:59:02 +0300 <Arklowweather> 03:59 AM temp 3.9c,max 4.1c,min 3.4c,Dewpoint 0.0c,Avg wind speed 2.0kmh,N,max gust 13.0 kmh,Rain since midnight  0.0mm,Rain this month so far 14.6 mm-Please research public health advice to help stop Covid19\n",
      "1465168388712538113 2021-11-29 06:59:00 +0300 <Meghan55671> Last week @DianaAtwine received donations of 15 indirect ophthalmoscopes and 30 extracapsular cataract kits from Light For the World Organisation. This equipment will help ensure continued eye health activities amidst COVID19 by limiting contact with patients. #LetsBuildUG  https://t.co/uai09SNtPD\n",
      "1465168387382734851 2021-11-29 06:58:59 +0300 <WilliamYang120> Following in Israel's footsteps, Japan has decided to halt allowing foreign business travelers and students to enter the country because of emergence of the new #COVID19 variant #Omicron.  https://t.co/82rPwUhfmw\n",
      "1465168355128758277 2021-11-29 06:58:52 +0300 <pfanderson> Testing - EMU Safe #covid19   https://t.co/AGcp8Nlpjp\n",
      "1465168341782437895 2021-11-29 06:58:48 +0300 <iansmit58861933> @IsabelOakeshott I’d like to nominate you as leader of the gullible, queen of oafs, covid19 denier in chief but worse of all the No1 promoter of long covid in children.\n",
      "1465168306642423811 2021-11-29 06:58:40 +0300 <GranthMidha> Is corona virus taking resolutions seriously...  #NewyearNewme #Covid_19 #covidvariant #COVID19 #Omicron\n",
      "1465168296731238401 2021-11-29 06:58:38 +0300 <Parag_Kar> Challenges-  For (i) Low corporate tax collections.  For (ii) Low telecom revenues - moratorium and delayed auctions.  For (iii) Unable to meet disinvestment targets (till Sept we met 10K vs targeted 175K Cr)  And on top of this Covid19 is far from gone.\n",
      "1465168269128568834 2021-11-29 06:58:31 +0300 <thenewsshots> In the last 24 hours, India has reported 8,309 new #COVID19 cases, 236 deaths, and 9,905 recoveries, with a total active caseload of 1,03,859, as per the Ministry of Health and Family Welfare.  #coronavirus #COVID19Updates #TheNewsShots\n",
      "1465168257254506496 2021-11-29 06:58:28 +0300 <pratidintime> The new guidelines will come into effect from the midnight of December 1.  #NewGuidelines #COVID19 #Omnicron #InternationalPassengers  https://t.co/QjXf2Y1RR6\n",
      "1465168253945192448 2021-11-29 06:58:27 +0300 <RyushiAhnam> 水際対策ビジネス目的や留学生も入国停止へ(日本テレビ系（NNN）) #Yahooニュース  https://t.co/hj9l0mDvza #新型コロナウイルス #COVID19 #Outbreak #変異株 #オミクロン株 #渡航制限 #入国禁止\n",
      "1465168252531843072 2021-11-29 06:58:27 +0300 <atrinoshiesque> #CoronavirusUpdates #OmnicronVariant  The \"known\" cases of the #Omicron strain of #Covid19; #SouthAfrica 109  #Botswana 19 #Netherlands 13 #UK 3 #Australia 3 #Israel 2 #Canada 2 #HongKong 2 #Denmark 2 #Austria 1 #Italy 1 #Belgium 1 #CzechRepublic 1 #Germany 1\n",
      "1465168251814494217 2021-11-29 06:58:27 +0300 <MarxThird> @SRB727 I just love how some covidiots are against vaccines because covid doesn't exist, and other covidiots are against vaccines because they make covid too dangerous.  #COVID19\n",
      "1465168251483312133 2021-11-29 06:58:27 +0300 <cordoba_ahora> #CordobaAhora Operativo Identificar y vacunación. Aquí horarios y lugares de atención También se sostiene la inoculación sin turno de primeras dosis a menores de 3 a 11 años y a adolescentes de 12 y 17 años sin comorbilidades. #COVID19 #Cordoba @MuniCba   https://t.co/hKF8OyzMWQ\n",
      "1465168242687709192 2021-11-29 06:58:25 +0300 <covid19__fuck> スタバの福袋当選した！\n",
      "1465168242473725952 2021-11-29 06:58:25 +0300 <htTweets> India reports 8,309 new #Covid19 cases, 236 deaths in 24 hours  https://t.co/hubyP2iac5\n",
      "1465168223838498821 2021-11-29 06:58:20 +0300 <ladymissazira> Is COVID19 going to be like dengue where getting it once does not protect you from the other 3 variants you haven't gotten yet?  So Alpha, Delta, Omnicron?  @Khairykj @yoongkhean\n",
      "1465168221741490177 2021-11-29 06:58:20 +0300 <tilevoasartas> Κατακτήσαμε ακόμη μια #πρωτιά και #μπράβο στην #κυβέρνηση_εγκληματίες που τα κατάφερε!! Είμαστε πλέον πρώτοι όχι μόνο στην Ευρώπη, αλλά παγκόσμιοι #πρωταθλητές: «Πρώτη παγκοσμίως η Ελλάδα σε #θανάτους ανά εκατομμύριο πληθυσμού και σε ρυθμό θανάτων»!!! 1/2 #Covid_19 #COVID19  https://t.co/J6ayaIly8b\n",
      "1465168218465525760 2021-11-29 06:58:19 +0300 <vikasyogbharti> @AJAYAWASTHI108 @SanatanPrabhat_ @bmks_india सुप्रभात भारत☀️ 🙏मां भगवती विश्व का कल्याण करे 🙏   ज्ञान सबसे बड़ा धन है !  स्वयं से पूछो\"मैं कितना धनवान हूं\"   #Mondayvibes #COVID19  @SanatanPrabhat_ @bmks_india\n"
     ]
    },
    {
     "name": "stdout",
     "output_type": "stream",
     "text": [
      "1465168181253881858 2021-11-29 06:58:10 +0300 <Allan_Straarup> @DanRather All the nurses, doctors and scientists that continually have been fighting #COVID19 since the very beginning, haven't received nearly enough credit  They've given up so much to help so many and no amount of accolades could ever come close to show the gratitude we should all show  https://t.co/jgFNmLuwfV\n",
      "1465168175578816525 2021-11-29 06:58:09 +0300 <akasi_tako> オミクロン株が重症化しないことを祈る事しかできないもどかしさ\n",
      "1465168134659133441 2021-11-29 06:57:59 +0300 <Jacob_Joshua> @rapplerdotcom @jcpunongbayan Such problem is heavily censored by the Big Techs on every social platform. It is time to think outside the box... since we detected this #Covid19 during its early detection on Jan2020.\n",
      "1465168129462575107 2021-11-29 06:57:58 +0300 <ConchaTacoLady> The doctor who discovered omicron described her patients’ symptoms   #xi #variant #Omicron #covid19  https://t.co/MYFoyJg60r -via qz\n",
      "1465168100085551111 2021-11-29 06:57:51 +0300 <AJAYAWASTHI108> सुप्रभात भारत☀️ 🙏मां भगवती विश्व का कल्याण करे 🙏   ज्ञान सबसे बड़ा धन है !  स्वयं से पूछो\"मैं कितना धनवान हूं\"   #Mondayvibes #COVID19  @SanatanPrabhat_ @bmks_india\n",
      "1465168086252888075 2021-11-29 06:57:47 +0300 <PeterWi96791546> Governments authorities schools scientists doctors can no longer be trusted . It’s ended up the same as 1930s nazi Germany. Who took their eye off the ball ? and Why were governments not policed after ww2 ? If they had this covid19 bullshit would not even be happening.\n",
      "1465168081383137282 2021-11-29 06:57:46 +0300 <RK_Gunti> Gautam Budh Nagar on alert after detection of new Covid-19 variant ‘Omicron’.  Source : Hindustan Times  #COVID19 #Omicron #Noida\n",
      "1465168037171003394 2021-11-29 06:57:36 +0300 <ikhwanhafiz> Omicron apa jadah pulak ni? Macam nama kilang Micron ja. #covid19  https://t.co/B22lH0W3nz\n",
      "1465168026437836804 2021-11-29 06:57:33 +0300 <bharianmy> #BHwilayah Lebih 600,000 penduduk dewasa negeri itu menerima suntikan ketiga   https://t.co/R8WJCsXb2N  #coronavirus #covid19 #vaksin\n",
      "1465168021698215943 2021-11-29 06:57:32 +0300 <picardonhealth> As #Omicron pops up in Canada, several other countries, danger of vaccine inequity comes into sharp focus, by @geoffreyyork    https://t.co/2j8E97v7bp via @globeandmail #COVID19 #vaccination #VaccineEquity #GlobalHealth\n",
      "1465168014161195016 2021-11-29 06:57:30 +0300 <SABCNews> #SABCNews Top Stories for 29 November 2021 For more visit  https://t.co/Pcfl4Rcee4 #lockdown  #COVID19 #Level1  https://t.co/AfYjeyFixG\n",
      "1465167997958602754 2021-11-29 06:57:26 +0300 <agabadeo> This should, instead, be  the time to unite to fight the common enemy and encourage openness in #COVID19 science\n",
      "1465167983379042304 2021-11-29 06:57:23 +0300 <Masuzoh_twt> @EARL_COVID19_tw テレビはほれきたと狂喜乱舞してますね またコロナの女王とか呼んでくるんでしょうな\n",
      "1465167961111478272 2021-11-29 06:57:18 +0300 <abpsanjha> Corona New Variant: 'ਓਮੀਕਰੋਨ' ਕੋਵਿਡ ਵੇਰੀਐਂਟ ਦੀ ਪਹਿਲੀ ਤਸਵੀਰ ਆਈ ਸਾਹਮਣੇ, ਡੈਲਟਾ ਨਾਲੋਂ ਕਈ ਹੋਰ ਪਰਿਵਰਤਨ ਦਿਖਾਉਂਦੀ  https://t.co/HEBLFMKwTm #coronavirusindia #COVID19 #Omicron #OmicronVariant\n",
      "1465167954052628485 2021-11-29 06:57:16 +0300 <anotherearth> Hey vaccine skeptics! What if it's the virus itself that has the brain controlling 5G nanotechnology in it? 🤔  #COVIDIOTS #COVID19 #VaccinesWork\n",
      "1465167926798032900 2021-11-29 06:57:09 +0300 <IMSSCDMXNorte> #112AsambleaIMSS  | En atención al #COVID19 se reconvirtieron 233 hospitales, se hicieron 18 unidades de expansión y se contrató a 47 mil 185 trabajadores. #IMSSenPalacio  https://t.co/YiW2BaRUdZ\n",
      "1465167918488952832 2021-11-29 06:57:07 +0300 <phillipfutures> #Minyak #Oil Futures naik setelah ditutup turun minggu lalu pasca pemberitaan varian baru #Covid19 yang bisa memperlambat permintaan saat pasokan tinggi . #CrudeOil WTI Futures naik 5.36% ke USD 71.80 per barel . #BrentOil Futures naik 4.65% ke USD 76.10 per barel . #trading\n",
      "1465167894724202501 2021-11-29 06:57:02 +0300 <lacapital2006> Tiene Tamaulipas 7 Muertes Mas A Causa Del Covid 19  https://t.co/nxTzNLzGrf #Tamaulipas #7muertes #Covid19 #decesos #pacientes #CiudadMadero #Reynosa #Tampico #Victoria\n",
      "1465167894434631683 2021-11-29 06:57:02 +0300 <DhakaTribune> Dhaka Tribune Opinion ll Tasrif Zawaad  The progress of global vaccination is under threat because of anti-vaccine supporters   https://t.co/dZnmEQhm0x  #Covid19 #Vaccination #AntiVaccine\n",
      "1465167886058545168 2021-11-29 06:57:00 +0300 <TamilTheHindu> ஒமைக்ரான் கரோனா வைரஸ் அச்சுறுத்தல் எதிரொலி: சர்வதேச விமான சேவை தொடங்குவது தள்ளிவைப்பு? | #Omicron | #COVID19 |  https://t.co/qOlcaggK3l\n",
      "1465167883298910209 2021-11-29 06:56:59 +0300 <Pyotr1840> &gt;今月から全世界を対象に、例外的に認めていたビジネス目的の短期滞在者などの日本への入国を当面の間、停止 #オミクロン株 #新型コロナ #COVID19 #岸田政権  #水際対策 ビジネス目的や留学生も #入国停止 へ（日本テレビ系（NNN））  https://t.co/2M2P3vZMIc\n",
      "1465167882359394306 2021-11-29 06:56:59 +0300 <MBCTVODISHA> #COVID19 | #India reports 8,309 new cases, 236 deaths &amp; 9,905 recoveries in the last 24 hours; Active caseload at 1,03,859; lowest in 544 days: #MinistryofHealthandFamilyWelfare  https://t.co/cGA3OF2wJO\n",
      "1465167880555663364 2021-11-29 06:56:58 +0300 <giveu2tictacs> @Omicron_Covid19 The word also means small o in Greek latin\n",
      "1465167871378882562 2021-11-29 06:56:56 +0300 <StoatTail> @EARL_COVID19_tw 若くて元気な層が厚い国と、年寄りが多かったり、肥満大国とでは、いろいろ違うの。。\n",
      "1465167857751367680 2021-11-29 06:56:53 +0300 <Mukulaa> The new variant (OMICRON) of COVID19 out of southern African states has had a rapid response mechanism with travel advisories and restrictions being issued at the global level including our neighbors what is our national response &amp; action plan ?@RobinahNabanja @MinofHealthUG\n",
      "1465167850935513093 2021-11-29 06:56:51 +0300 <fpjindia> #COVID19: #India reports 8,309 new cases, 236 deaths in last 24 hours   https://t.co/Qd7sIPureQ\n",
      "1465167841674465292 2021-11-29 06:56:49 +0300 <doritmi> @GloriaJH @TruthSeekerMTC @DCGreenZone1 @TonyBaduy @provaxtexan @RenfieldThomas @lucialiljegren @ConsequentialBr @indyymac @ScienceyS @melissa94307909 @crabb_vicki @ncdave4life @TakethatCt @stevenmosher @Mchael21592783M @AndrewLazarus4 @_mamadeb @quigley_jesse @iBlatant @Suesue2point0 @gobantwo2 @diederikdk @tenebra99 @LiamKav @Tony__Heller @Kathmarval @Kolyin @MilanovNina @ghoppe @AndyMac84956921 @mcfunny @AGoldsmithEsq @SpookyJay36 @MdRisette @BichonAtLaw @deNutrients @FrankDElia7 @floraoddchild @CharaStone6 @chickaboy @Top_Muppetries @smyl2day @SkepticalMutant @AcademicShards @carlsmythe @policing_uk @MarkReady47 @kevin_kehres @villagerssn If you’re buying it for #COVID19 vaccines, you’re not that different from those who bought it generally. You’re still a victim of misinformation now used to mislead others into harm. I hope you come out.\n",
      "1465167835248746499 2021-11-29 06:56:48 +0300 <DE2344> @morgfair #COVID19 is an animal virus (mix of bat, bird, and pig #coronavirus). There is no immunity   35 years of science showed we barely had any with human #COVID  https://t.co/6GV8uhIHbb   Why people would think they'll ever be immune to animal virus...That's a whole new level of stupid  https://t.co/vQfaCUvsF6\n",
      "1465167819293675530 2021-11-29 06:56:44 +0300 <AFathyn> @piersmorgan Covid19 survival rate is more than 99.5%, figures based on not on cause of death, but a positive PCR test.   Majority of deaths are people suffering from other deceases, infectious or genetical.   Who needs to fxck up is WHO.\n",
      "1465167815661408263 2021-11-29 06:56:43 +0300 <Akkho7> ครึ่งทางแย้ว..... #COVID19  Credit :  https://t.co/bPSdIGXG6J  https://t.co/ea05fnb9BP\n",
      "1465167777698701316 2021-11-29 06:56:34 +0300 <picardonhealth> The #Omicron variant has arrived in Canada, with two cases identified in Ontario just days after Ottawa and other governments imposed travel bans, leaving some travelers stranded, by @xiaoxuyvr @l_stone   https://t.co/m9n65tpxzg via @globeandmail #COVID19 #cdnhealth #cdnpoli\n",
      "1465167768362225669 2021-11-29 06:56:32 +0300 <asuka_yoneyama_> 大学へも影響が大きい。  #オミクロン株 #COVID19\n",
      "1465167742886055936 2021-11-29 06:56:26 +0300 <RDhariyannavar1> #DoctorWho #covidvariant #COVID19 #health  26/11 ಮುಂಬಯಿ ಭಯೋತ್ಪಾದನಾ ದಾಳಿಯು ‘ಹಿಂದೂ ಭಯೋತ್ಪಾದನೆ’ ತೋರಿಸಲು ಕಾಂಗ್ರೆಸ್‌ನ ಸಂಚು ! – ಕರ್ನಲ್‌ ಆರ್. ಎಸ್. ಸಿಂಗ್‌  https://t.co/wZJF9c5g0Q\n",
      "1465167738134048771 2021-11-29 06:56:24 +0300 <FreeKrisHelton> #CELINE #paralized by #COVID19  #vaccine #concert #cancelled #DoNotComplyEVER  https://t.co/f5rGBcMAtW\n",
      "1465167727077691400 2021-11-29 06:56:22 +0300 <malpani> Politicians and their mouthpieces are great at stoking the fears of a resurgence of the #COVID19 pandemic!   https://t.co/DxyYvAkrkH\n",
      "1465167713995612165 2021-11-29 06:56:19 +0300 <RPOBB> #Canada #Omicron:  Ontario reports first two cases of omicron #COVID19 variant  https://t.co/GABx7dZf5j\n",
      "1465167699151970305 2021-11-29 06:56:15 +0300 <AseemShri> India Nov 29 Covid-19 Updates: 8,309 new cases reported. 236 deaths recorded.  Kerala 4,350, Maharashtra 832, Tamil Nadu 736, West Bengal 715, Karnataka 315.  Vaccination: Total 122.4 cr shots given (Dose 1: 78.4 cr Dose 2: 44.1 cr) #COVID19 #India\n",
      "1465167681665916933 2021-11-29 06:56:11 +0300 <DrdhimanBhatta1> Interesting #technical chart pattern of #COVID19 3rd 🌊 in #Germany. Typical of a #cyclical #business,but cycle is too close to be scary and #3rdWave Is breaching #ATH in no time! #covidvariant  #CovidVaccine  #MultiBagger  #Multibaggers  #Omicron  #OmicronVariant  https://t.co/KZRCrWuatM\n",
      "1465167673269100547 2021-11-29 06:56:09 +0300 <enconcretonoti> #Pánuco Jornada de Vacunación Covid19 para  Jóvenes de 15-17 años .  #VacunateContralaCOVID19  https://t.co/7yFOQXRCqj\n",
      "1465167669871591430 2021-11-29 06:56:08 +0300 <RDhariyannavar1> #DoctorWho #covidvariant #COVID19 #health  ಪಾಲಿಯಲ್ಲಿ (ರಾಜಸ್ಥಾನ) ಸೇನಾನೆಲೆಯ ಮಾಹಿತಿಯನ್ನು ಪಾಕಿಸ್ತಾನಕ್ಕೆ ನೀಡುತ್ತಿದ್ದ ಮತಾಂಧನ ಬಂಧನ  https://t.co/8BLylOGKwa\n"
     ]
    }
   ],
   "source": [
    "c = twint.Config()\n",
    "c.Search = 'COVID19'\n",
    "c.Lang= 'en'  \n",
    "c.Pandas= True \n",
    "c.Limit = 300\n",
    "twint.run.Search(c)\n"
   ]
  },
  {
   "cell_type": "code",
   "execution_count": null,
   "id": "add949e9",
   "metadata": {},
   "outputs": [],
   "source": []
  },
  {
   "cell_type": "code",
   "execution_count": 51,
   "id": "96bfaf3c",
   "metadata": {},
   "outputs": [],
   "source": [
    "#This will display all the columns from the query I just made.\n",
    "def columne_names():\n",
    "  return twint.output.panda.Tweets_df.columns\n",
    "def twint_to_pd(columns):\n",
    "  return twint.output.panda.Tweets_df[columns]\n"
   ]
  },
  {
   "cell_type": "code",
   "execution_count": 52,
   "id": "58bb3d79",
   "metadata": {},
   "outputs": [],
   "source": [
    " #transform column I am inserted in from Twint to Pandas\n",
    "data= twint_to_pd(['tweet'])"
   ]
  },
  {
   "cell_type": "code",
   "execution_count": 53,
   "id": "73846e37",
   "metadata": {},
   "outputs": [
    {
     "data": {
      "text/html": [
       "<div>\n",
       "<style scoped>\n",
       "    .dataframe tbody tr th:only-of-type {\n",
       "        vertical-align: middle;\n",
       "    }\n",
       "\n",
       "    .dataframe tbody tr th {\n",
       "        vertical-align: top;\n",
       "    }\n",
       "\n",
       "    .dataframe thead th {\n",
       "        text-align: right;\n",
       "    }\n",
       "</style>\n",
       "<table border=\"1\" class=\"dataframe\">\n",
       "  <thead>\n",
       "    <tr style=\"text-align: right;\">\n",
       "      <th></th>\n",
       "      <th>tweet</th>\n",
       "    </tr>\n",
       "  </thead>\n",
       "  <tbody>\n",
       "    <tr>\n",
       "      <th>0</th>\n",
       "      <td>แพทย์ผู้ค้นพบโควิด-19 โอไมครอน เตือนทั่วโลกอย่...</td>\n",
       "    </tr>\n",
       "    <tr>\n",
       "      <th>1</th>\n",
       "      <td>Three years after the Department of Telecom pe...</td>\n",
       "    </tr>\n",
       "    <tr>\n",
       "      <th>2</th>\n",
       "      <td>8,309 Fresh covid cases in India in the last 2...</td>\n",
       "    </tr>\n",
       "    <tr>\n",
       "      <th>3</th>\n",
       "      <td>@veggie64_leslie ... except that Senator Paul ...</td>\n",
       "    </tr>\n",
       "    <tr>\n",
       "      <th>4</th>\n",
       "      <td>#France's Health Ministry said it had possibly...</td>\n",
       "    </tr>\n",
       "  </tbody>\n",
       "</table>\n",
       "</div>"
      ],
      "text/plain": [
       "                                               tweet\n",
       "0  แพทย์ผู้ค้นพบโควิด-19 โอไมครอน เตือนทั่วโลกอย่...\n",
       "1  Three years after the Department of Telecom pe...\n",
       "2  8,309 Fresh covid cases in India in the last 2...\n",
       "3  @veggie64_leslie ... except that Senator Paul ...\n",
       "4  #France's Health Ministry said it had possibly..."
      ]
     },
     "execution_count": 53,
     "metadata": {},
     "output_type": "execute_result"
    }
   ],
   "source": [
    "data.head()"
   ]
  },
  {
   "cell_type": "markdown",
   "id": "aa80b118",
   "metadata": {},
   "source": [
    "# DATA CLEANING"
   ]
  },
  {
   "cell_type": "markdown",
   "id": "84bd76d9",
   "metadata": {},
   "source": [
    "## 1. Removing punctuation\n",
    "\n",
    "Tweet data we scrapped consists of punctuations, hashtags, special characters, emojis etc. \n",
    "First I will remove the punctuations hashtags etc from the tweet.\n",
    "Here I will replace everything except characters and numbers with spaces\n"
   ]
  },
  {
   "cell_type": "code",
   "execution_count": 54,
   "id": "be649c6c",
   "metadata": {},
   "outputs": [
    {
     "name": "stderr",
     "output_type": "stream",
     "text": [
      "[nltk_data] Downloading package stopwords to\n",
      "[nltk_data]     C:\\Users\\kibom\\AppData\\Roaming\\nltk_data...\n",
      "[nltk_data]   Package stopwords is already up-to-date!\n"
     ]
    }
   ],
   "source": [
    "import nltk\n",
    "from nltk import sent_tokenize, word_tokenize\n",
    "from nltk.stem.snowball import SnowballStemmer\n",
    "from nltk.stem.wordnet import WordNetLemmatizer\n",
    "from nltk.corpus import stopwords\n",
    "import re\n",
    "import string\n",
    "nltk.download('stopwords')\n",
    "stopwords = stopwords.words('english')\n",
    "ps= nltk.PorterStemmer()"
   ]
  },
  {
   "cell_type": "code",
   "execution_count": 55,
   "id": "1dab8925",
   "metadata": {},
   "outputs": [
    {
     "name": "stderr",
     "output_type": "stream",
     "text": [
      "<ipython-input-55-86651d7a9336>:1: FutureWarning: The default value of regex will change from True to False in a future version.\n",
      "  data['tweet']= data['tweet'].str.replace(\"[^a-zA-Z0–9] \",  \"\")\n",
      "<ipython-input-55-86651d7a9336>:1: SettingWithCopyWarning: \n",
      "A value is trying to be set on a copy of a slice from a DataFrame.\n",
      "Try using .loc[row_indexer,col_indexer] = value instead\n",
      "\n",
      "See the caveats in the documentation: https://pandas.pydata.org/pandas-docs/stable/user_guide/indexing.html#returning-a-view-versus-a-copy\n",
      "  data['tweet']= data['tweet'].str.replace(\"[^a-zA-Z0–9] \",  \"\")\n"
     ]
    }
   ],
   "source": [
    "data['tweet']= data['tweet'].str.replace(\"[^a-zA-Z0–9] \",  \"\")"
   ]
  },
  {
   "cell_type": "code",
   "execution_count": 56,
   "id": "ef054ffb",
   "metadata": {},
   "outputs": [
    {
     "data": {
      "text/html": [
       "<div>\n",
       "<style scoped>\n",
       "    .dataframe tbody tr th:only-of-type {\n",
       "        vertical-align: middle;\n",
       "    }\n",
       "\n",
       "    .dataframe tbody tr th {\n",
       "        vertical-align: top;\n",
       "    }\n",
       "\n",
       "    .dataframe thead th {\n",
       "        text-align: right;\n",
       "    }\n",
       "</style>\n",
       "<table border=\"1\" class=\"dataframe\">\n",
       "  <thead>\n",
       "    <tr style=\"text-align: right;\">\n",
       "      <th></th>\n",
       "      <th>tweet</th>\n",
       "    </tr>\n",
       "  </thead>\n",
       "  <tbody>\n",
       "    <tr>\n",
       "      <th>0</th>\n",
       "      <td>แพทย์ผู้ค้นพบโควิด-19 โอไมครอเตือนทั่วโลกอย่าต...</td>\n",
       "    </tr>\n",
       "    <tr>\n",
       "      <th>1</th>\n",
       "      <td>Three years after the Department of Telecom pe...</td>\n",
       "    </tr>\n",
       "    <tr>\n",
       "      <th>2</th>\n",
       "      <td>8,309 Fresh covid cases in India in the last 2...</td>\n",
       "    </tr>\n",
       "    <tr>\n",
       "      <th>3</th>\n",
       "      <td>@veggie64_leslie ..except that Senator Paul is...</td>\n",
       "    </tr>\n",
       "    <tr>\n",
       "      <th>4</th>\n",
       "      <td>#France's Health Ministry said it had possibly...</td>\n",
       "    </tr>\n",
       "    <tr>\n",
       "      <th>...</th>\n",
       "      <td>...</td>\n",
       "    </tr>\n",
       "    <tr>\n",
       "      <th>311</th>\n",
       "      <td>#Canada #Omicron Ontario reports first two cas...</td>\n",
       "    </tr>\n",
       "    <tr>\n",
       "      <th>312</th>\n",
       "      <td>India Nov 29 Covid-19 Updates8,309 new cases r...</td>\n",
       "    </tr>\n",
       "    <tr>\n",
       "      <th>313</th>\n",
       "      <td>Interesting #technical chart pattern of #COVID...</td>\n",
       "    </tr>\n",
       "    <tr>\n",
       "      <th>314</th>\n",
       "      <td>#Pánuco Jornada de Vacunación Covid19 paraJóve...</td>\n",
       "    </tr>\n",
       "    <tr>\n",
       "      <th>315</th>\n",
       "      <td>#DoctorWho #covidvariant #COVID19 #healthಪಾಲಿಯ...</td>\n",
       "    </tr>\n",
       "  </tbody>\n",
       "</table>\n",
       "<p>316 rows × 1 columns</p>\n",
       "</div>"
      ],
      "text/plain": [
       "                                                 tweet\n",
       "0    แพทย์ผู้ค้นพบโควิด-19 โอไมครอเตือนทั่วโลกอย่าต...\n",
       "1    Three years after the Department of Telecom pe...\n",
       "2    8,309 Fresh covid cases in India in the last 2...\n",
       "3    @veggie64_leslie ..except that Senator Paul is...\n",
       "4    #France's Health Ministry said it had possibly...\n",
       "..                                                 ...\n",
       "311  #Canada #Omicron Ontario reports first two cas...\n",
       "312  India Nov 29 Covid-19 Updates8,309 new cases r...\n",
       "313  Interesting #technical chart pattern of #COVID...\n",
       "314  #Pánuco Jornada de Vacunación Covid19 paraJóve...\n",
       "315  #DoctorWho #covidvariant #COVID19 #healthಪಾಲಿಯ...\n",
       "\n",
       "[316 rows x 1 columns]"
      ]
     },
     "execution_count": 56,
     "metadata": {},
     "output_type": "execute_result"
    }
   ],
   "source": [
    "data"
   ]
  },
  {
   "cell_type": "markdown",
   "id": "aaf9fdb4",
   "metadata": {},
   "source": [
    "## 2. Tokenization\n",
    "Tokenization involves chopping a text into pieces, called tokens.\n",
    "Here I am creating a function for tokenization. \n",
    "In addition I am converting all text in lowercase. \n",
    "If we have covid and COVID computer will think them as two different words. \n",
    "So there will be duplication of data. \n",
    "Therefore, I am converting text to lowercase."
   ]
  },
  {
   "cell_type": "code",
   "execution_count": 57,
   "id": "5950ab5f",
   "metadata": {},
   "outputs": [
    {
     "name": "stderr",
     "output_type": "stream",
     "text": [
      "[nltk_data] Downloading package stopwords to\n",
      "[nltk_data]     C:\\Users\\kibom\\AppData\\Roaming\\nltk_data...\n",
      "[nltk_data]   Package stopwords is already up-to-date!\n"
     ]
    },
    {
     "data": {
      "text/plain": [
       "True"
      ]
     },
     "execution_count": 57,
     "metadata": {},
     "output_type": "execute_result"
    }
   ],
   "source": [
    "nltk.download(\"stopwords\")\n"
   ]
  },
  {
   "cell_type": "code",
   "execution_count": 58,
   "id": "a3a3b713",
   "metadata": {},
   "outputs": [
    {
     "name": "stderr",
     "output_type": "stream",
     "text": [
      "<ipython-input-58-bffdfaa5dabe>:4: SettingWithCopyWarning: \n",
      "A value is trying to be set on a copy of a slice from a DataFrame.\n",
      "Try using .loc[row_indexer,col_indexer] = value instead\n",
      "\n",
      "See the caveats in the documentation: https://pandas.pydata.org/pandas-docs/stable/user_guide/indexing.html#returning-a-view-versus-a-copy\n",
      "  data['tweet']= data['tweet'].apply (lambda x: tokenize(x.lower()))\n"
     ]
    }
   ],
   "source": [
    "def tokenize(text):\n",
    "    tokens = re.split(\"\\W+\", text)\n",
    "    return tokens\n",
    "data['tweet']= data['tweet'].apply (lambda x: tokenize(x.lower()))"
   ]
  },
  {
   "cell_type": "markdown",
   "id": "dd601bbb",
   "metadata": {},
   "source": [
    "## 3. Removing stopwords\n",
    "Stop words are commonly used word ( such as a, an, the, in, on). \n",
    "During analysis these words does not have much value to the analysis. As a result, we remove these words."
   ]
  },
  {
   "cell_type": "code",
   "execution_count": 59,
   "id": "7b903a16",
   "metadata": {},
   "outputs": [
    {
     "name": "stderr",
     "output_type": "stream",
     "text": [
      "<ipython-input-59-db5d09ddb72b>:4: SettingWithCopyWarning: \n",
      "A value is trying to be set on a copy of a slice from a DataFrame.\n",
      "Try using .loc[row_indexer,col_indexer] = value instead\n",
      "\n",
      "See the caveats in the documentation: https://pandas.pydata.org/pandas-docs/stable/user_guide/indexing.html#returning-a-view-versus-a-copy\n",
      "  data['tweet']= data['tweet'].apply(lambda x: remove_stopword(x))\n"
     ]
    }
   ],
   "source": [
    "def remove_stopword(text):\n",
    "  text_nostopword= [char for char in text if char not in stopwords]\n",
    "  return text_nostopword\n",
    "data['tweet']= data['tweet'].apply(lambda x: remove_stopword(x))"
   ]
  },
  {
   "cell_type": "code",
   "execution_count": 60,
   "id": "e352900e",
   "metadata": {},
   "outputs": [
    {
     "data": {
      "text/html": [
       "<div>\n",
       "<style scoped>\n",
       "    .dataframe tbody tr th:only-of-type {\n",
       "        vertical-align: middle;\n",
       "    }\n",
       "\n",
       "    .dataframe tbody tr th {\n",
       "        vertical-align: top;\n",
       "    }\n",
       "\n",
       "    .dataframe thead th {\n",
       "        text-align: right;\n",
       "    }\n",
       "</style>\n",
       "<table border=\"1\" class=\"dataframe\">\n",
       "  <thead>\n",
       "    <tr style=\"text-align: right;\">\n",
       "      <th></th>\n",
       "      <th>tweet</th>\n",
       "    </tr>\n",
       "  </thead>\n",
       "  <tbody>\n",
       "    <tr>\n",
       "      <th>0</th>\n",
       "      <td>[แพทย, ผ, ค, นพบโคว, ด, 19, โอไมครอเต, อนท, วโ...</td>\n",
       "    </tr>\n",
       "    <tr>\n",
       "      <th>1</th>\n",
       "      <td>[three, years, department, telecom, permitted,...</td>\n",
       "    </tr>\n",
       "    <tr>\n",
       "      <th>2</th>\n",
       "      <td>[8, 309, fresh, covid, cases, india, last, 2ho...</td>\n",
       "    </tr>\n",
       "    <tr>\n",
       "      <th>3</th>\n",
       "      <td>[, veggie64_leslie, except, senator, paul, cor...</td>\n",
       "    </tr>\n",
       "    <tr>\n",
       "      <th>4</th>\n",
       "      <td>[, france, health, ministry, said, possibly, d...</td>\n",
       "    </tr>\n",
       "    <tr>\n",
       "      <th>...</th>\n",
       "      <td>...</td>\n",
       "    </tr>\n",
       "    <tr>\n",
       "      <th>311</th>\n",
       "      <td>[, canada, omicron, ontario, reports, first, t...</td>\n",
       "    </tr>\n",
       "    <tr>\n",
       "      <th>312</th>\n",
       "      <td>[india, nov, 29, covid, 19, updates8, 309, new...</td>\n",
       "    </tr>\n",
       "    <tr>\n",
       "      <th>313</th>\n",
       "      <td>[interesting, technical, chart, pattern, covid...</td>\n",
       "    </tr>\n",
       "    <tr>\n",
       "      <th>314</th>\n",
       "      <td>[, pánuco, jornada, de, vacunación, covid19, p...</td>\n",
       "    </tr>\n",
       "    <tr>\n",
       "      <th>315</th>\n",
       "      <td>[, doctorwho, covidvariant, covid19, healthಪ, ...</td>\n",
       "    </tr>\n",
       "  </tbody>\n",
       "</table>\n",
       "<p>316 rows × 1 columns</p>\n",
       "</div>"
      ],
      "text/plain": [
       "                                                 tweet\n",
       "0    [แพทย, ผ, ค, นพบโคว, ด, 19, โอไมครอเต, อนท, วโ...\n",
       "1    [three, years, department, telecom, permitted,...\n",
       "2    [8, 309, fresh, covid, cases, india, last, 2ho...\n",
       "3    [, veggie64_leslie, except, senator, paul, cor...\n",
       "4    [, france, health, ministry, said, possibly, d...\n",
       "..                                                 ...\n",
       "311  [, canada, omicron, ontario, reports, first, t...\n",
       "312  [india, nov, 29, covid, 19, updates8, 309, new...\n",
       "313  [interesting, technical, chart, pattern, covid...\n",
       "314  [, pánuco, jornada, de, vacunación, covid19, p...\n",
       "315  [, doctorwho, covidvariant, covid19, healthಪ, ...\n",
       "\n",
       "[316 rows x 1 columns]"
      ]
     },
     "execution_count": 60,
     "metadata": {},
     "output_type": "execute_result"
    }
   ],
   "source": [
    "data"
   ]
  },
  {
   "cell_type": "markdown",
   "id": "a790fe81",
   "metadata": {},
   "source": [
    "## 4. Stemming / Lemmatize\n",
    "\n",
    "Here I am using stemmer as this is fast compared to lemmatize.\n",
    "There is different stemmer. Here I am using Porter stemmer as this is most popular and commonly used stemmer"
   ]
  },
  {
   "cell_type": "code",
   "execution_count": 61,
   "id": "5441240e",
   "metadata": {},
   "outputs": [
    {
     "name": "stderr",
     "output_type": "stream",
     "text": [
      "<ipython-input-61-1300a5726004>:7: SettingWithCopyWarning: \n",
      "A value is trying to be set on a copy of a slice from a DataFrame.\n",
      "Try using .loc[row_indexer,col_indexer] = value instead\n",
      "\n",
      "See the caveats in the documentation: https://pandas.pydata.org/pandas-docs/stable/user_guide/indexing.html#returning-a-view-versus-a-copy\n",
      "  data[\"tweet\"]= data[\"tweet\"].apply(lambda x: stem(x))\n"
     ]
    }
   ],
   "source": [
    "# Porter Stemmer\n",
    "ps= nltk.PorterStemmer()\n",
    "def stem(tweet_no_stopword):\n",
    "   text = [ps.stem ( word) for word in tweet_no_stopword]\n",
    "   return text\n",
    "\n",
    "data[\"tweet\"]= data[\"tweet\"].apply(lambda x: stem(x))"
   ]
  },
  {
   "cell_type": "code",
   "execution_count": 62,
   "id": "95aea9e4",
   "metadata": {},
   "outputs": [
    {
     "data": {
      "text/html": [
       "<div>\n",
       "<style scoped>\n",
       "    .dataframe tbody tr th:only-of-type {\n",
       "        vertical-align: middle;\n",
       "    }\n",
       "\n",
       "    .dataframe tbody tr th {\n",
       "        vertical-align: top;\n",
       "    }\n",
       "\n",
       "    .dataframe thead th {\n",
       "        text-align: right;\n",
       "    }\n",
       "</style>\n",
       "<table border=\"1\" class=\"dataframe\">\n",
       "  <thead>\n",
       "    <tr style=\"text-align: right;\">\n",
       "      <th></th>\n",
       "      <th>tweet</th>\n",
       "    </tr>\n",
       "  </thead>\n",
       "  <tbody>\n",
       "    <tr>\n",
       "      <th>0</th>\n",
       "      <td>[แพทย, ผ, ค, นพบโคว, ด, 19, โอไมครอเต, อนท, วโ...</td>\n",
       "    </tr>\n",
       "    <tr>\n",
       "      <th>1</th>\n",
       "      <td>[three, year, depart, telecom, permit, wifi, s...</td>\n",
       "    </tr>\n",
       "    <tr>\n",
       "      <th>2</th>\n",
       "      <td>[8, 309, fresh, covid, case, india, last, 2hou...</td>\n",
       "    </tr>\n",
       "    <tr>\n",
       "      <th>3</th>\n",
       "      <td>[, veggie64_lesli, except, senat, paul, correc...</td>\n",
       "    </tr>\n",
       "    <tr>\n",
       "      <th>4</th>\n",
       "      <td>[, franc, health, ministri, said, possibl, det...</td>\n",
       "    </tr>\n",
       "    <tr>\n",
       "      <th>...</th>\n",
       "      <td>...</td>\n",
       "    </tr>\n",
       "    <tr>\n",
       "      <th>311</th>\n",
       "      <td>[, canada, omicron, ontario, report, first, tw...</td>\n",
       "    </tr>\n",
       "    <tr>\n",
       "      <th>312</th>\n",
       "      <td>[india, nov, 29, covid, 19, updates8, 309, new...</td>\n",
       "    </tr>\n",
       "    <tr>\n",
       "      <th>313</th>\n",
       "      <td>[interest, technic, chart, pattern, covid19, 3...</td>\n",
       "    </tr>\n",
       "    <tr>\n",
       "      <th>314</th>\n",
       "      <td>[, pánuco, jornada, de, vacunación, covid19, p...</td>\n",
       "    </tr>\n",
       "    <tr>\n",
       "      <th>315</th>\n",
       "      <td>[, doctorwho, covidvari, covid19, healthಪ, ಲ, ...</td>\n",
       "    </tr>\n",
       "  </tbody>\n",
       "</table>\n",
       "<p>316 rows × 1 columns</p>\n",
       "</div>"
      ],
      "text/plain": [
       "                                                 tweet\n",
       "0    [แพทย, ผ, ค, นพบโคว, ด, 19, โอไมครอเต, อนท, วโ...\n",
       "1    [three, year, depart, telecom, permit, wifi, s...\n",
       "2    [8, 309, fresh, covid, case, india, last, 2hou...\n",
       "3    [, veggie64_lesli, except, senat, paul, correc...\n",
       "4    [, franc, health, ministri, said, possibl, det...\n",
       "..                                                 ...\n",
       "311  [, canada, omicron, ontario, report, first, tw...\n",
       "312  [india, nov, 29, covid, 19, updates8, 309, new...\n",
       "313  [interest, technic, chart, pattern, covid19, 3...\n",
       "314  [, pánuco, jornada, de, vacunación, covid19, p...\n",
       "315  [, doctorwho, covidvari, covid19, healthಪ, ಲ, ...\n",
       "\n",
       "[316 rows x 1 columns]"
      ]
     },
     "execution_count": 62,
     "metadata": {},
     "output_type": "execute_result"
    }
   ],
   "source": [
    "data"
   ]
  },
  {
   "cell_type": "markdown",
   "id": "4030b95d",
   "metadata": {},
   "source": [
    "data= pd.DataFrame(data[\"tweet\"])"
   ]
  },
  {
   "cell_type": "code",
   "execution_count": 63,
   "id": "3c216dac",
   "metadata": {},
   "outputs": [],
   "source": [
    "import pandas as pd\n",
    "data= pd.DataFrame(data[\"tweet\"])"
   ]
  },
  {
   "cell_type": "code",
   "execution_count": 64,
   "id": "b74a7b18",
   "metadata": {},
   "outputs": [
    {
     "data": {
      "text/html": [
       "<div>\n",
       "<style scoped>\n",
       "    .dataframe tbody tr th:only-of-type {\n",
       "        vertical-align: middle;\n",
       "    }\n",
       "\n",
       "    .dataframe tbody tr th {\n",
       "        vertical-align: top;\n",
       "    }\n",
       "\n",
       "    .dataframe thead th {\n",
       "        text-align: right;\n",
       "    }\n",
       "</style>\n",
       "<table border=\"1\" class=\"dataframe\">\n",
       "  <thead>\n",
       "    <tr style=\"text-align: right;\">\n",
       "      <th></th>\n",
       "      <th>tweet</th>\n",
       "    </tr>\n",
       "  </thead>\n",
       "  <tbody>\n",
       "    <tr>\n",
       "      <th>0</th>\n",
       "      <td>[แพทย, ผ, ค, นพบโคว, ด, 19, โอไมครอเต, อนท, วโ...</td>\n",
       "    </tr>\n",
       "    <tr>\n",
       "      <th>1</th>\n",
       "      <td>[three, year, depart, telecom, permit, wifi, s...</td>\n",
       "    </tr>\n",
       "    <tr>\n",
       "      <th>2</th>\n",
       "      <td>[8, 309, fresh, covid, case, india, last, 2hou...</td>\n",
       "    </tr>\n",
       "    <tr>\n",
       "      <th>3</th>\n",
       "      <td>[, veggie64_lesli, except, senat, paul, correc...</td>\n",
       "    </tr>\n",
       "    <tr>\n",
       "      <th>4</th>\n",
       "      <td>[, franc, health, ministri, said, possibl, det...</td>\n",
       "    </tr>\n",
       "    <tr>\n",
       "      <th>...</th>\n",
       "      <td>...</td>\n",
       "    </tr>\n",
       "    <tr>\n",
       "      <th>311</th>\n",
       "      <td>[, canada, omicron, ontario, report, first, tw...</td>\n",
       "    </tr>\n",
       "    <tr>\n",
       "      <th>312</th>\n",
       "      <td>[india, nov, 29, covid, 19, updates8, 309, new...</td>\n",
       "    </tr>\n",
       "    <tr>\n",
       "      <th>313</th>\n",
       "      <td>[interest, technic, chart, pattern, covid19, 3...</td>\n",
       "    </tr>\n",
       "    <tr>\n",
       "      <th>314</th>\n",
       "      <td>[, pánuco, jornada, de, vacunación, covid19, p...</td>\n",
       "    </tr>\n",
       "    <tr>\n",
       "      <th>315</th>\n",
       "      <td>[, doctorwho, covidvari, covid19, healthಪ, ಲ, ...</td>\n",
       "    </tr>\n",
       "  </tbody>\n",
       "</table>\n",
       "<p>316 rows × 1 columns</p>\n",
       "</div>"
      ],
      "text/plain": [
       "                                                 tweet\n",
       "0    [แพทย, ผ, ค, นพบโคว, ด, 19, โอไมครอเต, อนท, วโ...\n",
       "1    [three, year, depart, telecom, permit, wifi, s...\n",
       "2    [8, 309, fresh, covid, case, india, last, 2hou...\n",
       "3    [, veggie64_lesli, except, senat, paul, correc...\n",
       "4    [, franc, health, ministri, said, possibl, det...\n",
       "..                                                 ...\n",
       "311  [, canada, omicron, ontario, report, first, tw...\n",
       "312  [india, nov, 29, covid, 19, updates8, 309, new...\n",
       "313  [interest, technic, chart, pattern, covid19, 3...\n",
       "314  [, pánuco, jornada, de, vacunación, covid19, p...\n",
       "315  [, doctorwho, covidvari, covid19, healthಪ, ಲ, ...\n",
       "\n",
       "[316 rows x 1 columns]"
      ]
     },
     "execution_count": 64,
     "metadata": {},
     "output_type": "execute_result"
    }
   ],
   "source": [
    "data"
   ]
  },
  {
   "cell_type": "code",
   "execution_count": 65,
   "id": "028dbfd6",
   "metadata": {},
   "outputs": [
    {
     "data": {
      "text/plain": [
       "316"
      ]
     },
     "execution_count": 65,
     "metadata": {},
     "output_type": "execute_result"
    }
   ],
   "source": [
    "data_list = data.loc[:,\"tweet\"].to_list()\n",
    "len(data_list)"
   ]
  },
  {
   "cell_type": "code",
   "execution_count": 66,
   "id": "3deb5f0f",
   "metadata": {},
   "outputs": [
    {
     "data": {
      "text/plain": [
       "6346"
      ]
     },
     "execution_count": 66,
     "metadata": {},
     "output_type": "execute_result"
    }
   ],
   "source": [
    "# putting the twitter in flat list\n",
    "flat_data_list = [item for sublist in data_list for item in sublist]\n",
    "len(flat_data_list)"
   ]
  },
  {
   "cell_type": "code",
   "execution_count": 67,
   "id": "fe73e649",
   "metadata": {},
   "outputs": [],
   "source": [
    "data_count= pd.DataFrame(flat_data_list)\n",
    "data_count= data_count[0].value_counts()"
   ]
  },
  {
   "cell_type": "markdown",
   "id": "3fef0b9a",
   "metadata": {},
   "source": [
    "I will use nltk’s frequency distribution. \n",
    "A frequency distribution records the number of times each word in the text has occurred. \n",
    "First import frequency distribution from nltk by"
   ]
  },
  {
   "cell_type": "code",
   "execution_count": 68,
   "id": "68abcc57",
   "metadata": {},
   "outputs": [
    {
     "data": {
      "text/plain": [
       "FreqDist({1: 2655, 2: 387, 3: 120, 4: 70, 5: 39, 6: 38, 8: 19, 7: 12, 12: 7, 9: 7, ...})"
      ]
     },
     "execution_count": 68,
     "metadata": {},
     "output_type": "execute_result"
    }
   ],
   "source": [
    "from nltk.probability import FreqDist\n",
    "freq_count= FreqDist()\n",
    "for words in data_count:\n",
    "  freq_count[words] +=1\n",
    "\n",
    "freq_count"
   ]
  },
  {
   "cell_type": "markdown",
   "id": "085db583",
   "metadata": {},
   "source": [
    "# VISUALIZATION OF DATA\n",
    "To visualise the result, first we need to import the necessary library. Here I am using seaborn"
   ]
  },
  {
   "cell_type": "code",
   "execution_count": 69,
   "id": "08070a77",
   "metadata": {},
   "outputs": [],
   "source": [
    "import matplotlib.pyplot as plt\n",
    "import numpy as np\n",
    "import matplotlib.pyplot as plt\n",
    "import seaborn as sns"
   ]
  },
  {
   "cell_type": "code",
   "execution_count": 70,
   "id": "406997a8",
   "metadata": {},
   "outputs": [
    {
     "name": "stderr",
     "output_type": "stream",
     "text": [
      "C:\\Users\\kibom\\AppData\\Local\\Programs\\Python\\Python39\\lib\\site-packages\\seaborn\\_decorators.py:36: FutureWarning: Pass the following variables as keyword args: x, y. From version 0.12, the only valid positional argument will be `data`, and passing other arguments without an explicit keyword will result in an error or misinterpretation.\n",
      "  warnings.warn(\n",
      "C:\\Users\\kibom\\AppData\\Local\\Programs\\Python\\Python39\\lib\\site-packages\\IPython\\core\\pylabtools.py:151: UserWarning: Glyph 2352 (\\N{DEVANAGARI LETTER RA}) missing from current font.\n",
      "  fig.canvas.print_figure(bytes_io, **kw)\n",
      "C:\\Users\\kibom\\AppData\\Local\\Programs\\Python\\Python39\\lib\\site-packages\\IPython\\core\\pylabtools.py:151: UserWarning: Matplotlib currently does not support Devanagari natively.\n",
      "  fig.canvas.print_figure(bytes_io, **kw)\n"
     ]
    },
    {
     "data": {
      "image/png": "[encoded data removed]",
      "text/plain": [
       "<Figure size 720x360 with 1 Axes>"
      ]
     },
     "metadata": {
      "needs_background": "light"
     },
     "output_type": "display_data"
    }
   ],
   "source": [
    "data_count = data_count[:20,]\n",
    "plt.figure(figsize=(10,5))\n",
    "sns.barplot(data_count.values, data_count.index, alpha=0.8)\n",
    "plt.title('Top Words Overall')\n",
    "plt.ylabel('Word from Tweet', fontsize=12)\n",
    "plt.xlabel('Count of Words', fontsize=12)\n",
    "plt.show()"
   ]
  },
  {
   "cell_type": "code",
   "execution_count": null,
   "id": "300f791c",
   "metadata": {},
   "outputs": [],
   "source": []
  },
  {
   "cell_type": "code",
   "execution_count": null,
   "id": "7b8aaf2b",
   "metadata": {},
   "outputs": [],
   "source": []
  }
 ],
 "metadata": {
  "kernelspec": {
   "display_name": "py_36_env",
   "language": "python",
   "name": "py_36_env"
  },
  "language_info": {
   "codemirror_mode": {
    "name": "ipython",
    "version": 3
   },
   "file_extension": ".py",
   "mimetype": "text/x-python",
   "name": "python",
   "nbconvert_exporter": "python",
   "pygments_lexer": "ipython3",
   "version": "3.9.7"
  }
 },
 "nbformat": 4,
 "nbformat_minor": 5
}
